{
 "cells": [
  {
   "cell_type": "code",
   "execution_count": 1,
   "metadata": {},
   "outputs": [],
   "source": [
    "import pandas as pd\n",
    "from pandas import Series, DataFrame\n",
    "import numpy as np\n",
    "from numpy import nan as NA\n",
    "import matplotlib.pyplot as plt\n",
    "import matplotlib.pyplot as plt; plt.rcdefaults()\n",
    "import seaborn as sns\n",
    "import os\n",
    "\n",
    "#Algorithms\n",
    "from sklearn.pipeline import Pipeline\n",
    "from sklearn.preprocessing import StandardScaler\n",
    "from sklearn.preprocessing import PolynomialFeatures\n",
    "from sklearn.linear_model import LinearRegression"
   ]
  },
  {
   "cell_type": "markdown",
   "metadata": {},
   "source": [
    "#### Variables with short description"
   ]
  },
  {
   "cell_type": "markdown",
   "metadata": {},
   "source": [
    "<b>id</b>:\t                    Unique ID for every Customer\n",
    "\n",
    "<b>account_type</b>: \t        Account Type – current or saving\n",
    "\n",
    "<b>gender</b>:      \t        Gender of customer\n",
    "\n",
    "<b>age</b>:         \t        Age of customer\n",
    "\n",
    "<b>region_code</b>: \t        Code assigned to region of residence (has order)\n",
    "\n",
    "<b>cc_cons_apr</b>: \t        Credit card spend in April\n",
    "\n",
    "<b>dc_cons_apr</b>:    \t        Debit card spend in April\n",
    "\n",
    "<b>cc_cons_may</b>: \t        Credit card spend in May\n",
    "\n",
    "<b>dc_cons_may</b>: \t        Debit card spend in May\n",
    "\n",
    "<b>cc_cons_jun</b>: \t        Credit card spend in June\n",
    "\n",
    "<b>dc_cons_jun</b>: \t        Debit card spend in June\n",
    "\n",
    "<b>cc_count_apr</b>:\t        Number of credit card transactions in April\n",
    "\n",
    "<b>cc_count_may</b>:\t        Number of credit card transactions in May\n",
    "\n",
    "<b>cc_count_jun</b>: \t        Number of credit card transactions in June\n",
    "\n",
    "<b>dc_count_apr</b>:\t        Number of debit card transactions in April\n",
    "\n",
    "<b>dc_count_may</b>:\t        Number of debit card transactions in May\n",
    "\n",
    "<b>dc_count_jun</b>:\t        Number of debit card transactions in June\n",
    "\n",
    "<b>card_lim</b>:    \t        Maximum Credit Card Limit allocated\n",
    "\n",
    "<b>personal_loan_active</b>:\tActive personal loan with other bank\n",
    "\n",
    "<b>vehicle_loan_active</b>: \tActive Vehicle loan with other bank\n",
    "\n",
    "<b>personal_loan_closed</b>:\tClosed personal loan in last 12 months\n",
    "\n",
    "<b>vehicle_loan_closed</b>: \tClosed vehicle loan in last 12 months\n",
    "\n",
    "<b>investment_1</b>:        \tDEMAT investment in june\n",
    "\n",
    "<b>investment_2</b>:        \tfixed deposit investment in june\n",
    "\n",
    "<b>investment_3</b>:        \tLife Insurance investment in June\n",
    "\n",
    "<b>investment_4</b>:        \tGeneral Insurance Investment in June\n",
    "\n",
    "<b>debit_amount_apr</b>:    \tTotal amount debited for April\n",
    "\n",
    "<b>credit_amount_apr</b>:   \tTotal amount credited for April\n",
    "\n",
    "<b>debit_count_apr</b>:     \tTotal number of times amount debited in april\n",
    "\n",
    "<b>credit_count_apr</b>:    \tTotal number of times amount credited in april\n",
    "\n",
    "<b>max_credit_amount_apr</b>:\tMaximum amount credited in April\n",
    "\n",
    "<b>debit_amount_may</b>:    \tTotal amount debited for May\n",
    "\n",
    "<b>credit_amount_may</b>:   \tTotal amount credited for May\n",
    "\n",
    "<b>credit_count_may</b>:    \tTotal number of times amount credited in May\n",
    "\n",
    "<b>debit_count_may</b>:     \tTotal number of times amount debited in May\n",
    "\n",
    "<b>max_credit_amount_may</b>:  \tMaximum amount credited in May\n",
    "\n",
    "<b>debit_amount_jun</b>:    \tTotal amount debited for June\n",
    "\n",
    "<b>credit_amount_jun</b>:   \tTotal amount credited for June\n",
    "\n",
    "<b>credit_count_jun</b>:    \tTotal number of times amount credited in June\n",
    "\n",
    "<b>debit_count_jun</b>:     \tTotal number of times amount debited in June\n",
    "\n",
    "<b>max_credit_amount_jun</b>:\tMaximum amount credited in June\n",
    "\n",
    "<b>loan_enq</b>:             \tLoan enquiry in last 3 months\n",
    "\n",
    "<b>emi_active</b>:          \tMonthly EMI paid to other bank for active loans\n",
    "\n",
    "<b>cc_cons</b>:             \t(Target) Average Credit Card Spend in next three months"
   ]
  },
  {
   "cell_type": "code",
   "execution_count": 2,
   "metadata": {},
   "outputs": [],
   "source": [
    "os.chdir(\"D:\\\\Data Science\\\\Amex Hackathon\\\\train\")\n",
    "train = pd.read_csv('train.csv', na_values = [' '], keep_default_na = True, na_filter = True)"
   ]
  },
  {
   "cell_type": "code",
   "execution_count": 3,
   "metadata": {},
   "outputs": [
    {
     "data": {
      "text/html": [
       "<div>\n",
       "<style scoped>\n",
       "    .dataframe tbody tr th:only-of-type {\n",
       "        vertical-align: middle;\n",
       "    }\n",
       "\n",
       "    .dataframe tbody tr th {\n",
       "        vertical-align: top;\n",
       "    }\n",
       "\n",
       "    .dataframe thead th {\n",
       "        text-align: right;\n",
       "    }\n",
       "</style>\n",
       "<table border=\"1\" class=\"dataframe\">\n",
       "  <thead>\n",
       "    <tr style=\"text-align: right;\">\n",
       "      <th></th>\n",
       "      <th>id</th>\n",
       "      <th>account_type</th>\n",
       "      <th>gender</th>\n",
       "      <th>age</th>\n",
       "      <th>region_code</th>\n",
       "      <th>cc_cons_apr</th>\n",
       "      <th>dc_cons_apr</th>\n",
       "      <th>cc_cons_may</th>\n",
       "      <th>dc_cons_may</th>\n",
       "      <th>cc_cons_jun</th>\n",
       "      <th>...</th>\n",
       "      <th>debit_count_may</th>\n",
       "      <th>max_credit_amount_may</th>\n",
       "      <th>debit_amount_jun</th>\n",
       "      <th>credit_amount_jun</th>\n",
       "      <th>credit_count_jun</th>\n",
       "      <th>debit_count_jun</th>\n",
       "      <th>max_credit_amount_jun</th>\n",
       "      <th>loan_enq</th>\n",
       "      <th>emi_active</th>\n",
       "      <th>cc_cons</th>\n",
       "    </tr>\n",
       "  </thead>\n",
       "  <tbody>\n",
       "    <tr>\n",
       "      <th>0</th>\n",
       "      <td>23334</td>\n",
       "      <td>saving</td>\n",
       "      <td>M</td>\n",
       "      <td>63</td>\n",
       "      <td>305</td>\n",
       "      <td>7695.00</td>\n",
       "      <td>NaN</td>\n",
       "      <td>479.00</td>\n",
       "      <td>NaN</td>\n",
       "      <td>622.0</td>\n",
       "      <td>...</td>\n",
       "      <td>2.0</td>\n",
       "      <td>45000.0</td>\n",
       "      <td>20215.85</td>\n",
       "      <td>1279.37</td>\n",
       "      <td>7.0</td>\n",
       "      <td>3.0</td>\n",
       "      <td>470.0</td>\n",
       "      <td>NaN</td>\n",
       "      <td>0.00</td>\n",
       "      <td>435</td>\n",
       "    </tr>\n",
       "    <tr>\n",
       "      <th>1</th>\n",
       "      <td>20329</td>\n",
       "      <td>current</td>\n",
       "      <td>M</td>\n",
       "      <td>33</td>\n",
       "      <td>326</td>\n",
       "      <td>52702.00</td>\n",
       "      <td>988.72</td>\n",
       "      <td>29873.00</td>\n",
       "      <td>NaN</td>\n",
       "      <td>1087.0</td>\n",
       "      <td>...</td>\n",
       "      <td>10.0</td>\n",
       "      <td>150000.0</td>\n",
       "      <td>122037.66</td>\n",
       "      <td>55390.00</td>\n",
       "      <td>8.0</td>\n",
       "      <td>19.0</td>\n",
       "      <td>27000.0</td>\n",
       "      <td>NaN</td>\n",
       "      <td>4963.33</td>\n",
       "      <td>1921</td>\n",
       "    </tr>\n",
       "    <tr>\n",
       "      <th>2</th>\n",
       "      <td>17679</td>\n",
       "      <td>current</td>\n",
       "      <td>M</td>\n",
       "      <td>44</td>\n",
       "      <td>264</td>\n",
       "      <td>10800.49</td>\n",
       "      <td>3215.52</td>\n",
       "      <td>21659.64</td>\n",
       "      <td>1607.0</td>\n",
       "      <td>1168.0</td>\n",
       "      <td>...</td>\n",
       "      <td>7.0</td>\n",
       "      <td>13800.0</td>\n",
       "      <td>46827.00</td>\n",
       "      <td>29297.91</td>\n",
       "      <td>6.0</td>\n",
       "      <td>19.0</td>\n",
       "      <td>20800.0</td>\n",
       "      <td>NaN</td>\n",
       "      <td>0.00</td>\n",
       "      <td>1970</td>\n",
       "    </tr>\n",
       "    <tr>\n",
       "      <th>3</th>\n",
       "      <td>16428</td>\n",
       "      <td>saving</td>\n",
       "      <td>M</td>\n",
       "      <td>44</td>\n",
       "      <td>233</td>\n",
       "      <td>20936.00</td>\n",
       "      <td>NaN</td>\n",
       "      <td>2094.00</td>\n",
       "      <td>NaN</td>\n",
       "      <td>11778.5</td>\n",
       "      <td>...</td>\n",
       "      <td>1.0</td>\n",
       "      <td>19300.0</td>\n",
       "      <td>5426.55</td>\n",
       "      <td>7544.00</td>\n",
       "      <td>3.0</td>\n",
       "      <td>1.0</td>\n",
       "      <td>5300.0</td>\n",
       "      <td>NaN</td>\n",
       "      <td>1238.18</td>\n",
       "      <td>21579</td>\n",
       "    </tr>\n",
       "    <tr>\n",
       "      <th>4</th>\n",
       "      <td>18721</td>\n",
       "      <td>saving</td>\n",
       "      <td>F</td>\n",
       "      <td>35</td>\n",
       "      <td>324</td>\n",
       "      <td>1183.83</td>\n",
       "      <td>NaN</td>\n",
       "      <td>3656.29</td>\n",
       "      <td>NaN</td>\n",
       "      <td>945.0</td>\n",
       "      <td>...</td>\n",
       "      <td>3.0</td>\n",
       "      <td>3000.0</td>\n",
       "      <td>26178.05</td>\n",
       "      <td>53483.00</td>\n",
       "      <td>4.0</td>\n",
       "      <td>4.0</td>\n",
       "      <td>45000.0</td>\n",
       "      <td>NaN</td>\n",
       "      <td>0.00</td>\n",
       "      <td>1814</td>\n",
       "    </tr>\n",
       "  </tbody>\n",
       "</table>\n",
       "<p>5 rows × 44 columns</p>\n",
       "</div>"
      ],
      "text/plain": [
       "      id account_type gender  age  region_code  cc_cons_apr  dc_cons_apr  \\\n",
       "0  23334       saving      M   63          305      7695.00          NaN   \n",
       "1  20329      current      M   33          326     52702.00       988.72   \n",
       "2  17679      current      M   44          264     10800.49      3215.52   \n",
       "3  16428       saving      M   44          233     20936.00          NaN   \n",
       "4  18721       saving      F   35          324      1183.83          NaN   \n",
       "\n",
       "   cc_cons_may  dc_cons_may  cc_cons_jun   ...     debit_count_may  \\\n",
       "0       479.00          NaN        622.0   ...                 2.0   \n",
       "1     29873.00          NaN       1087.0   ...                10.0   \n",
       "2     21659.64       1607.0       1168.0   ...                 7.0   \n",
       "3      2094.00          NaN      11778.5   ...                 1.0   \n",
       "4      3656.29          NaN        945.0   ...                 3.0   \n",
       "\n",
       "   max_credit_amount_may  debit_amount_jun  credit_amount_jun  \\\n",
       "0                45000.0          20215.85            1279.37   \n",
       "1               150000.0         122037.66           55390.00   \n",
       "2                13800.0          46827.00           29297.91   \n",
       "3                19300.0           5426.55            7544.00   \n",
       "4                 3000.0          26178.05           53483.00   \n",
       "\n",
       "   credit_count_jun  debit_count_jun  max_credit_amount_jun  loan_enq  \\\n",
       "0               7.0              3.0                  470.0       NaN   \n",
       "1               8.0             19.0                27000.0       NaN   \n",
       "2               6.0             19.0                20800.0       NaN   \n",
       "3               3.0              1.0                 5300.0       NaN   \n",
       "4               4.0              4.0                45000.0       NaN   \n",
       "\n",
       "   emi_active  cc_cons  \n",
       "0        0.00      435  \n",
       "1     4963.33     1921  \n",
       "2        0.00     1970  \n",
       "3     1238.18    21579  \n",
       "4        0.00     1814  \n",
       "\n",
       "[5 rows x 44 columns]"
      ]
     },
     "execution_count": 3,
     "metadata": {},
     "output_type": "execute_result"
    }
   ],
   "source": [
    "train.head()"
   ]
  },
  {
   "cell_type": "code",
   "execution_count": 4,
   "metadata": {},
   "outputs": [
    {
     "data": {
      "text/plain": [
       "(32820, 44)"
      ]
     },
     "execution_count": 4,
     "metadata": {},
     "output_type": "execute_result"
    }
   ],
   "source": [
    "train.shape"
   ]
  },
  {
   "cell_type": "code",
   "execution_count": 5,
   "metadata": {},
   "outputs": [],
   "source": [
    "os.chdir(\"D:\\\\Data Science\\\\Amex Hackathon\")\n",
    "test = pd.read_csv('test.csv', na_values = [' '], keep_default_na = True, na_filter = True)"
   ]
  },
  {
   "cell_type": "code",
   "execution_count": 6,
   "metadata": {},
   "outputs": [
    {
     "data": {
      "text/html": [
       "<div>\n",
       "<style scoped>\n",
       "    .dataframe tbody tr th:only-of-type {\n",
       "        vertical-align: middle;\n",
       "    }\n",
       "\n",
       "    .dataframe tbody tr th {\n",
       "        vertical-align: top;\n",
       "    }\n",
       "\n",
       "    .dataframe thead th {\n",
       "        text-align: right;\n",
       "    }\n",
       "</style>\n",
       "<table border=\"1\" class=\"dataframe\">\n",
       "  <thead>\n",
       "    <tr style=\"text-align: right;\">\n",
       "      <th></th>\n",
       "      <th>id</th>\n",
       "      <th>account_type</th>\n",
       "      <th>gender</th>\n",
       "      <th>age</th>\n",
       "      <th>region_code</th>\n",
       "      <th>cc_cons_apr</th>\n",
       "      <th>dc_cons_apr</th>\n",
       "      <th>cc_cons_may</th>\n",
       "      <th>dc_cons_may</th>\n",
       "      <th>cc_cons_jun</th>\n",
       "      <th>...</th>\n",
       "      <th>credit_count_may</th>\n",
       "      <th>debit_count_may</th>\n",
       "      <th>max_credit_amount_may</th>\n",
       "      <th>debit_amount_jun</th>\n",
       "      <th>credit_amount_jun</th>\n",
       "      <th>credit_count_jun</th>\n",
       "      <th>debit_count_jun</th>\n",
       "      <th>max_credit_amount_jun</th>\n",
       "      <th>loan_enq</th>\n",
       "      <th>emi_active</th>\n",
       "    </tr>\n",
       "  </thead>\n",
       "  <tbody>\n",
       "    <tr>\n",
       "      <th>0</th>\n",
       "      <td>6975</td>\n",
       "      <td>saving</td>\n",
       "      <td>M</td>\n",
       "      <td>36</td>\n",
       "      <td>447</td>\n",
       "      <td>17942.70</td>\n",
       "      <td>1170.0</td>\n",
       "      <td>1656.00</td>\n",
       "      <td>NaN</td>\n",
       "      <td>4551.00</td>\n",
       "      <td>...</td>\n",
       "      <td>3.0</td>\n",
       "      <td>7.0</td>\n",
       "      <td>10000.0</td>\n",
       "      <td>17316.44</td>\n",
       "      <td>5154.0</td>\n",
       "      <td>2.0</td>\n",
       "      <td>8.0</td>\n",
       "      <td>5000.0</td>\n",
       "      <td>NaN</td>\n",
       "      <td>0.00</td>\n",
       "    </tr>\n",
       "    <tr>\n",
       "      <th>1</th>\n",
       "      <td>43223</td>\n",
       "      <td>current</td>\n",
       "      <td>M</td>\n",
       "      <td>31</td>\n",
       "      <td>233</td>\n",
       "      <td>44870.36</td>\n",
       "      <td>NaN</td>\n",
       "      <td>34177.00</td>\n",
       "      <td>NaN</td>\n",
       "      <td>25889.21</td>\n",
       "      <td>...</td>\n",
       "      <td>NaN</td>\n",
       "      <td>NaN</td>\n",
       "      <td>NaN</td>\n",
       "      <td>NaN</td>\n",
       "      <td>NaN</td>\n",
       "      <td>NaN</td>\n",
       "      <td>NaN</td>\n",
       "      <td>NaN</td>\n",
       "      <td>NaN</td>\n",
       "      <td>0.00</td>\n",
       "    </tr>\n",
       "    <tr>\n",
       "      <th>2</th>\n",
       "      <td>45502</td>\n",
       "      <td>current</td>\n",
       "      <td>M</td>\n",
       "      <td>26</td>\n",
       "      <td>823</td>\n",
       "      <td>1073.00</td>\n",
       "      <td>2442.0</td>\n",
       "      <td>4141.00</td>\n",
       "      <td>390.0</td>\n",
       "      <td>6740.29</td>\n",
       "      <td>...</td>\n",
       "      <td>4.0</td>\n",
       "      <td>22.0</td>\n",
       "      <td>26926.0</td>\n",
       "      <td>33981.00</td>\n",
       "      <td>37762.0</td>\n",
       "      <td>3.0</td>\n",
       "      <td>15.0</td>\n",
       "      <td>29352.0</td>\n",
       "      <td>NaN</td>\n",
       "      <td>2885.82</td>\n",
       "    </tr>\n",
       "    <tr>\n",
       "      <th>3</th>\n",
       "      <td>12368</td>\n",
       "      <td>current</td>\n",
       "      <td>M</td>\n",
       "      <td>39</td>\n",
       "      <td>878</td>\n",
       "      <td>33060.58</td>\n",
       "      <td>NaN</td>\n",
       "      <td>3797.12</td>\n",
       "      <td>NaN</td>\n",
       "      <td>291.00</td>\n",
       "      <td>...</td>\n",
       "      <td>4.0</td>\n",
       "      <td>8.0</td>\n",
       "      <td>57185.0</td>\n",
       "      <td>52927.00</td>\n",
       "      <td>89425.0</td>\n",
       "      <td>7.0</td>\n",
       "      <td>11.0</td>\n",
       "      <td>32696.0</td>\n",
       "      <td>NaN</td>\n",
       "      <td>0.00</td>\n",
       "    </tr>\n",
       "    <tr>\n",
       "      <th>4</th>\n",
       "      <td>40415</td>\n",
       "      <td>current</td>\n",
       "      <td>M</td>\n",
       "      <td>44</td>\n",
       "      <td>404</td>\n",
       "      <td>18236.90</td>\n",
       "      <td>NaN</td>\n",
       "      <td>30513.30</td>\n",
       "      <td>NaN</td>\n",
       "      <td>20395.28</td>\n",
       "      <td>...</td>\n",
       "      <td>1.0</td>\n",
       "      <td>5.0</td>\n",
       "      <td>45000.0</td>\n",
       "      <td>31656.69</td>\n",
       "      <td>34275.0</td>\n",
       "      <td>3.0</td>\n",
       "      <td>4.0</td>\n",
       "      <td>19000.0</td>\n",
       "      <td>NaN</td>\n",
       "      <td>3342.58</td>\n",
       "    </tr>\n",
       "  </tbody>\n",
       "</table>\n",
       "<p>5 rows × 43 columns</p>\n",
       "</div>"
      ],
      "text/plain": [
       "      id account_type gender  age  region_code  cc_cons_apr  dc_cons_apr  \\\n",
       "0   6975       saving      M   36          447     17942.70       1170.0   \n",
       "1  43223      current      M   31          233     44870.36          NaN   \n",
       "2  45502      current      M   26          823      1073.00       2442.0   \n",
       "3  12368      current      M   39          878     33060.58          NaN   \n",
       "4  40415      current      M   44          404     18236.90          NaN   \n",
       "\n",
       "   cc_cons_may  dc_cons_may  cc_cons_jun     ...      credit_count_may  \\\n",
       "0      1656.00          NaN      4551.00     ...                   3.0   \n",
       "1     34177.00          NaN     25889.21     ...                   NaN   \n",
       "2      4141.00        390.0      6740.29     ...                   4.0   \n",
       "3      3797.12          NaN       291.00     ...                   4.0   \n",
       "4     30513.30          NaN     20395.28     ...                   1.0   \n",
       "\n",
       "   debit_count_may  max_credit_amount_may  debit_amount_jun  \\\n",
       "0              7.0                10000.0          17316.44   \n",
       "1              NaN                    NaN               NaN   \n",
       "2             22.0                26926.0          33981.00   \n",
       "3              8.0                57185.0          52927.00   \n",
       "4              5.0                45000.0          31656.69   \n",
       "\n",
       "   credit_amount_jun  credit_count_jun  debit_count_jun  \\\n",
       "0             5154.0               2.0              8.0   \n",
       "1                NaN               NaN              NaN   \n",
       "2            37762.0               3.0             15.0   \n",
       "3            89425.0               7.0             11.0   \n",
       "4            34275.0               3.0              4.0   \n",
       "\n",
       "   max_credit_amount_jun  loan_enq  emi_active  \n",
       "0                 5000.0       NaN        0.00  \n",
       "1                    NaN       NaN        0.00  \n",
       "2                29352.0       NaN     2885.82  \n",
       "3                32696.0       NaN        0.00  \n",
       "4                19000.0       NaN     3342.58  \n",
       "\n",
       "[5 rows x 43 columns]"
      ]
     },
     "execution_count": 6,
     "metadata": {},
     "output_type": "execute_result"
    }
   ],
   "source": [
    "test.head()"
   ]
  },
  {
   "cell_type": "code",
   "execution_count": 7,
   "metadata": {},
   "outputs": [
    {
     "data": {
      "text/plain": [
       "(14067, 43)"
      ]
     },
     "execution_count": 7,
     "metadata": {},
     "output_type": "execute_result"
    }
   ],
   "source": [
    "test.shape"
   ]
  },
  {
   "cell_type": "markdown",
   "metadata": {},
   "source": [
    "## Handling missing values"
   ]
  },
  {
   "cell_type": "code",
   "execution_count": 8,
   "metadata": {},
   "outputs": [
    {
     "data": {
      "text/plain": [
       "id                           0\n",
       "account_type                 0\n",
       "gender                       0\n",
       "age                          0\n",
       "region_code                  0\n",
       "cc_cons_apr                  0\n",
       "dc_cons_apr              19052\n",
       "cc_cons_may                  0\n",
       "dc_cons_may              17339\n",
       "cc_cons_jun                  0\n",
       "dc_cons_jun              21297\n",
       "cc_count_apr              2399\n",
       "cc_count_may              1153\n",
       "cc_count_jun              1590\n",
       "dc_count_apr             19052\n",
       "dc_count_may             17339\n",
       "dc_count_jun             15497\n",
       "card_lim                     9\n",
       "personal_loan_active     30078\n",
       "vehicle_loan_active      31974\n",
       "personal_loan_closed     29937\n",
       "vehicle_loan_closed      31195\n",
       "investment_1             31394\n",
       "investment_2             30482\n",
       "investment_3             31488\n",
       "investment_4             32414\n",
       "debit_amount_apr          1890\n",
       "credit_amount_apr         3302\n",
       "debit_count_apr           1758\n",
       "credit_count_apr          1758\n",
       "max_credit_amount_apr     3302\n",
       "debit_amount_may          2301\n",
       "credit_amount_may         3405\n",
       "credit_count_may          2071\n",
       "debit_count_may           2071\n",
       "max_credit_amount_may     3405\n",
       "debit_amount_jun          2195\n",
       "credit_amount_jun         1543\n",
       "credit_count_jun          1528\n",
       "debit_count_jun           1528\n",
       "max_credit_amount_jun     1543\n",
       "loan_enq                 32211\n",
       "emi_active                   0\n",
       "cc_cons                      0\n",
       "dtype: int64"
      ]
     },
     "execution_count": 8,
     "metadata": {},
     "output_type": "execute_result"
    }
   ],
   "source": [
    "train.isna().sum()"
   ]
  },
  {
   "cell_type": "code",
   "execution_count": 9,
   "metadata": {},
   "outputs": [
    {
     "data": {
      "text/plain": [
       "id                         int64\n",
       "account_type              object\n",
       "gender                    object\n",
       "age                        int64\n",
       "region_code                int64\n",
       "cc_cons_apr              float64\n",
       "dc_cons_apr              float64\n",
       "cc_cons_may              float64\n",
       "dc_cons_may              float64\n",
       "cc_cons_jun              float64\n",
       "dc_cons_jun              float64\n",
       "cc_count_apr             float64\n",
       "cc_count_may             float64\n",
       "cc_count_jun             float64\n",
       "dc_count_apr             float64\n",
       "dc_count_may             float64\n",
       "dc_count_jun             float64\n",
       "card_lim                 float64\n",
       "personal_loan_active     float64\n",
       "vehicle_loan_active      float64\n",
       "personal_loan_closed     float64\n",
       "vehicle_loan_closed      float64\n",
       "investment_1             float64\n",
       "investment_2             float64\n",
       "investment_3             float64\n",
       "investment_4             float64\n",
       "debit_amount_apr         float64\n",
       "credit_amount_apr        float64\n",
       "debit_count_apr          float64\n",
       "credit_count_apr         float64\n",
       "max_credit_amount_apr    float64\n",
       "debit_amount_may         float64\n",
       "credit_amount_may        float64\n",
       "credit_count_may         float64\n",
       "debit_count_may          float64\n",
       "max_credit_amount_may    float64\n",
       "debit_amount_jun         float64\n",
       "credit_amount_jun        float64\n",
       "credit_count_jun         float64\n",
       "debit_count_jun          float64\n",
       "max_credit_amount_jun    float64\n",
       "loan_enq                  object\n",
       "emi_active               float64\n",
       "cc_cons                    int64\n",
       "dtype: object"
      ]
     },
     "execution_count": 9,
     "metadata": {},
     "output_type": "execute_result"
    }
   ],
   "source": [
    "train.dtypes"
   ]
  },
  {
   "cell_type": "code",
   "execution_count": 10,
   "metadata": {},
   "outputs": [
    {
     "data": {
      "text/plain": [
       "(32820, 44)"
      ]
     },
     "execution_count": 10,
     "metadata": {},
     "output_type": "execute_result"
    }
   ],
   "source": [
    "train.shape"
   ]
  },
  {
   "cell_type": "markdown",
   "metadata": {},
   "source": [
    "Total no. of rows = 32,820. So, we can <b>drop columns</b> that contains more than 30,000 na values"
   ]
  },
  {
   "cell_type": "code",
   "execution_count": 11,
   "metadata": {},
   "outputs": [],
   "source": [
    "train.drop(['personal_loan_active','vehicle_loan_active', 'personal_loan_closed', 'vehicle_loan_closed', 'investment_1', 'investment_2', 'investment_3', 'investment_4', 'loan_enq'], axis = 1, inplace = True)"
   ]
  },
  {
   "cell_type": "code",
   "execution_count": 12,
   "metadata": {},
   "outputs": [],
   "source": [
    "train.fillna(train.mean(), inplace = True)"
   ]
  },
  {
   "cell_type": "code",
   "execution_count": 13,
   "metadata": {},
   "outputs": [
    {
     "data": {
      "text/plain": [
       "id                       0\n",
       "account_type             0\n",
       "gender                   0\n",
       "age                      0\n",
       "region_code              0\n",
       "cc_cons_apr              0\n",
       "dc_cons_apr              0\n",
       "cc_cons_may              0\n",
       "dc_cons_may              0\n",
       "cc_cons_jun              0\n",
       "dc_cons_jun              0\n",
       "cc_count_apr             0\n",
       "cc_count_may             0\n",
       "cc_count_jun             0\n",
       "dc_count_apr             0\n",
       "dc_count_may             0\n",
       "dc_count_jun             0\n",
       "card_lim                 0\n",
       "debit_amount_apr         0\n",
       "credit_amount_apr        0\n",
       "debit_count_apr          0\n",
       "credit_count_apr         0\n",
       "max_credit_amount_apr    0\n",
       "debit_amount_may         0\n",
       "credit_amount_may        0\n",
       "credit_count_may         0\n",
       "debit_count_may          0\n",
       "max_credit_amount_may    0\n",
       "debit_amount_jun         0\n",
       "credit_amount_jun        0\n",
       "credit_count_jun         0\n",
       "debit_count_jun          0\n",
       "max_credit_amount_jun    0\n",
       "emi_active               0\n",
       "cc_cons                  0\n",
       "dtype: int64"
      ]
     },
     "execution_count": 13,
     "metadata": {},
     "output_type": "execute_result"
    }
   ],
   "source": [
    "train.isna().sum()"
   ]
  },
  {
   "cell_type": "markdown",
   "metadata": {},
   "source": [
    "### Now let's follow above steps for test dataset"
   ]
  },
  {
   "cell_type": "code",
   "execution_count": 14,
   "metadata": {},
   "outputs": [
    {
     "data": {
      "text/plain": [
       "(14067, 43)"
      ]
     },
     "execution_count": 14,
     "metadata": {},
     "output_type": "execute_result"
    }
   ],
   "source": [
    "test.shape"
   ]
  },
  {
   "cell_type": "code",
   "execution_count": 15,
   "metadata": {},
   "outputs": [
    {
     "data": {
      "text/plain": [
       "id                           0\n",
       "account_type                 0\n",
       "gender                       0\n",
       "age                          0\n",
       "region_code                  0\n",
       "cc_cons_apr                  0\n",
       "dc_cons_apr               8230\n",
       "cc_cons_may                  0\n",
       "dc_cons_may               7375\n",
       "cc_cons_jun                  0\n",
       "dc_cons_jun               9064\n",
       "cc_count_apr              1038\n",
       "cc_count_may               542\n",
       "cc_count_jun               634\n",
       "dc_count_apr              8230\n",
       "dc_count_may              7375\n",
       "dc_count_jun              6552\n",
       "card_lim                     3\n",
       "personal_loan_active     12933\n",
       "vehicle_loan_active      13712\n",
       "personal_loan_closed     12808\n",
       "vehicle_loan_closed      13386\n",
       "investment_1             13417\n",
       "investment_2             13040\n",
       "investment_3             13453\n",
       "investment_4             13894\n",
       "debit_amount_apr           847\n",
       "credit_amount_apr         1465\n",
       "debit_count_apr            788\n",
       "credit_count_apr           788\n",
       "max_credit_amount_apr     1465\n",
       "debit_amount_may          1001\n",
       "credit_amount_may         1495\n",
       "credit_count_may           897\n",
       "debit_count_may            897\n",
       "max_credit_amount_may     1495\n",
       "debit_amount_jun           945\n",
       "credit_amount_jun          663\n",
       "credit_count_jun           655\n",
       "debit_count_jun            655\n",
       "max_credit_amount_jun      663\n",
       "loan_enq                 13821\n",
       "emi_active                   0\n",
       "dtype: int64"
      ]
     },
     "execution_count": 15,
     "metadata": {},
     "output_type": "execute_result"
    }
   ],
   "source": [
    "test.isna().sum()"
   ]
  },
  {
   "cell_type": "code",
   "execution_count": 16,
   "metadata": {},
   "outputs": [],
   "source": [
    "test.drop(['personal_loan_active','vehicle_loan_active', 'personal_loan_closed', 'vehicle_loan_closed', 'investment_1', 'investment_2', 'investment_3', 'investment_4', 'loan_enq'], axis = 1, inplace = True)"
   ]
  },
  {
   "cell_type": "code",
   "execution_count": 17,
   "metadata": {},
   "outputs": [],
   "source": [
    "test.fillna(test.mean(), inplace = True)"
   ]
  },
  {
   "cell_type": "code",
   "execution_count": 18,
   "metadata": {},
   "outputs": [
    {
     "data": {
      "text/html": [
       "<div>\n",
       "<style scoped>\n",
       "    .dataframe tbody tr th:only-of-type {\n",
       "        vertical-align: middle;\n",
       "    }\n",
       "\n",
       "    .dataframe tbody tr th {\n",
       "        vertical-align: top;\n",
       "    }\n",
       "\n",
       "    .dataframe thead th {\n",
       "        text-align: right;\n",
       "    }\n",
       "</style>\n",
       "<table border=\"1\" class=\"dataframe\">\n",
       "  <thead>\n",
       "    <tr style=\"text-align: right;\">\n",
       "      <th></th>\n",
       "      <th>id</th>\n",
       "      <th>account_type</th>\n",
       "      <th>gender</th>\n",
       "      <th>age</th>\n",
       "      <th>region_code</th>\n",
       "      <th>cc_cons_apr</th>\n",
       "      <th>dc_cons_apr</th>\n",
       "      <th>cc_cons_may</th>\n",
       "      <th>dc_cons_may</th>\n",
       "      <th>cc_cons_jun</th>\n",
       "      <th>...</th>\n",
       "      <th>credit_amount_may</th>\n",
       "      <th>credit_count_may</th>\n",
       "      <th>debit_count_may</th>\n",
       "      <th>max_credit_amount_may</th>\n",
       "      <th>debit_amount_jun</th>\n",
       "      <th>credit_amount_jun</th>\n",
       "      <th>credit_count_jun</th>\n",
       "      <th>debit_count_jun</th>\n",
       "      <th>max_credit_amount_jun</th>\n",
       "      <th>emi_active</th>\n",
       "    </tr>\n",
       "  </thead>\n",
       "  <tbody>\n",
       "    <tr>\n",
       "      <th>0</th>\n",
       "      <td>6975</td>\n",
       "      <td>saving</td>\n",
       "      <td>M</td>\n",
       "      <td>36</td>\n",
       "      <td>447</td>\n",
       "      <td>17942.70</td>\n",
       "      <td>1170.000000</td>\n",
       "      <td>1656.00</td>\n",
       "      <td>5691.616269</td>\n",
       "      <td>4551.00</td>\n",
       "      <td>...</td>\n",
       "      <td>15416.520000</td>\n",
       "      <td>3.000000</td>\n",
       "      <td>7.000000</td>\n",
       "      <td>10000.000000</td>\n",
       "      <td>17316.44000</td>\n",
       "      <td>5154.000000</td>\n",
       "      <td>2.000000</td>\n",
       "      <td>8.000000</td>\n",
       "      <td>5000.000000</td>\n",
       "      <td>0.00</td>\n",
       "    </tr>\n",
       "    <tr>\n",
       "      <th>1</th>\n",
       "      <td>43223</td>\n",
       "      <td>current</td>\n",
       "      <td>M</td>\n",
       "      <td>31</td>\n",
       "      <td>233</td>\n",
       "      <td>44870.36</td>\n",
       "      <td>5553.625266</td>\n",
       "      <td>34177.00</td>\n",
       "      <td>5691.616269</td>\n",
       "      <td>25889.21</td>\n",
       "      <td>...</td>\n",
       "      <td>77598.987697</td>\n",
       "      <td>4.133789</td>\n",
       "      <td>13.969704</td>\n",
       "      <td>48388.190527</td>\n",
       "      <td>72342.31325</td>\n",
       "      <td>71200.599636</td>\n",
       "      <td>5.836863</td>\n",
       "      <td>15.963689</td>\n",
       "      <td>42305.241682</td>\n",
       "      <td>0.00</td>\n",
       "    </tr>\n",
       "    <tr>\n",
       "      <th>2</th>\n",
       "      <td>45502</td>\n",
       "      <td>current</td>\n",
       "      <td>M</td>\n",
       "      <td>26</td>\n",
       "      <td>823</td>\n",
       "      <td>1073.00</td>\n",
       "      <td>2442.000000</td>\n",
       "      <td>4141.00</td>\n",
       "      <td>390.000000</td>\n",
       "      <td>6740.29</td>\n",
       "      <td>...</td>\n",
       "      <td>65227.000000</td>\n",
       "      <td>4.000000</td>\n",
       "      <td>22.000000</td>\n",
       "      <td>26926.000000</td>\n",
       "      <td>33981.00000</td>\n",
       "      <td>37762.000000</td>\n",
       "      <td>3.000000</td>\n",
       "      <td>15.000000</td>\n",
       "      <td>29352.000000</td>\n",
       "      <td>2885.82</td>\n",
       "    </tr>\n",
       "    <tr>\n",
       "      <th>3</th>\n",
       "      <td>12368</td>\n",
       "      <td>current</td>\n",
       "      <td>M</td>\n",
       "      <td>39</td>\n",
       "      <td>878</td>\n",
       "      <td>33060.58</td>\n",
       "      <td>5553.625266</td>\n",
       "      <td>3797.12</td>\n",
       "      <td>5691.616269</td>\n",
       "      <td>291.00</td>\n",
       "      <td>...</td>\n",
       "      <td>63393.000000</td>\n",
       "      <td>4.000000</td>\n",
       "      <td>8.000000</td>\n",
       "      <td>57185.000000</td>\n",
       "      <td>52927.00000</td>\n",
       "      <td>89425.000000</td>\n",
       "      <td>7.000000</td>\n",
       "      <td>11.000000</td>\n",
       "      <td>32696.000000</td>\n",
       "      <td>0.00</td>\n",
       "    </tr>\n",
       "    <tr>\n",
       "      <th>4</th>\n",
       "      <td>40415</td>\n",
       "      <td>current</td>\n",
       "      <td>M</td>\n",
       "      <td>44</td>\n",
       "      <td>404</td>\n",
       "      <td>18236.90</td>\n",
       "      <td>5553.625266</td>\n",
       "      <td>30513.30</td>\n",
       "      <td>5691.616269</td>\n",
       "      <td>20395.28</td>\n",
       "      <td>...</td>\n",
       "      <td>45120.000000</td>\n",
       "      <td>1.000000</td>\n",
       "      <td>5.000000</td>\n",
       "      <td>45000.000000</td>\n",
       "      <td>31656.69000</td>\n",
       "      <td>34275.000000</td>\n",
       "      <td>3.000000</td>\n",
       "      <td>4.000000</td>\n",
       "      <td>19000.000000</td>\n",
       "      <td>3342.58</td>\n",
       "    </tr>\n",
       "  </tbody>\n",
       "</table>\n",
       "<p>5 rows × 34 columns</p>\n",
       "</div>"
      ],
      "text/plain": [
       "      id account_type gender  age  region_code  cc_cons_apr  dc_cons_apr  \\\n",
       "0   6975       saving      M   36          447     17942.70  1170.000000   \n",
       "1  43223      current      M   31          233     44870.36  5553.625266   \n",
       "2  45502      current      M   26          823      1073.00  2442.000000   \n",
       "3  12368      current      M   39          878     33060.58  5553.625266   \n",
       "4  40415      current      M   44          404     18236.90  5553.625266   \n",
       "\n",
       "   cc_cons_may  dc_cons_may  cc_cons_jun     ...      credit_amount_may  \\\n",
       "0      1656.00  5691.616269      4551.00     ...           15416.520000   \n",
       "1     34177.00  5691.616269     25889.21     ...           77598.987697   \n",
       "2      4141.00   390.000000      6740.29     ...           65227.000000   \n",
       "3      3797.12  5691.616269       291.00     ...           63393.000000   \n",
       "4     30513.30  5691.616269     20395.28     ...           45120.000000   \n",
       "\n",
       "   credit_count_may  debit_count_may  max_credit_amount_may  debit_amount_jun  \\\n",
       "0          3.000000         7.000000           10000.000000       17316.44000   \n",
       "1          4.133789        13.969704           48388.190527       72342.31325   \n",
       "2          4.000000        22.000000           26926.000000       33981.00000   \n",
       "3          4.000000         8.000000           57185.000000       52927.00000   \n",
       "4          1.000000         5.000000           45000.000000       31656.69000   \n",
       "\n",
       "   credit_amount_jun  credit_count_jun  debit_count_jun  \\\n",
       "0        5154.000000          2.000000         8.000000   \n",
       "1       71200.599636          5.836863        15.963689   \n",
       "2       37762.000000          3.000000        15.000000   \n",
       "3       89425.000000          7.000000        11.000000   \n",
       "4       34275.000000          3.000000         4.000000   \n",
       "\n",
       "   max_credit_amount_jun  emi_active  \n",
       "0            5000.000000        0.00  \n",
       "1           42305.241682        0.00  \n",
       "2           29352.000000     2885.82  \n",
       "3           32696.000000        0.00  \n",
       "4           19000.000000     3342.58  \n",
       "\n",
       "[5 rows x 34 columns]"
      ]
     },
     "execution_count": 18,
     "metadata": {},
     "output_type": "execute_result"
    }
   ],
   "source": [
    "test.head()"
   ]
  },
  {
   "cell_type": "code",
   "execution_count": 19,
   "metadata": {},
   "outputs": [
    {
     "data": {
      "text/plain": [
       "id                       0\n",
       "account_type             0\n",
       "gender                   0\n",
       "age                      0\n",
       "region_code              0\n",
       "cc_cons_apr              0\n",
       "dc_cons_apr              0\n",
       "cc_cons_may              0\n",
       "dc_cons_may              0\n",
       "cc_cons_jun              0\n",
       "dc_cons_jun              0\n",
       "cc_count_apr             0\n",
       "cc_count_may             0\n",
       "cc_count_jun             0\n",
       "dc_count_apr             0\n",
       "dc_count_may             0\n",
       "dc_count_jun             0\n",
       "card_lim                 0\n",
       "debit_amount_apr         0\n",
       "credit_amount_apr        0\n",
       "debit_count_apr          0\n",
       "credit_count_apr         0\n",
       "max_credit_amount_apr    0\n",
       "debit_amount_may         0\n",
       "credit_amount_may        0\n",
       "credit_count_may         0\n",
       "debit_count_may          0\n",
       "max_credit_amount_may    0\n",
       "debit_amount_jun         0\n",
       "credit_amount_jun        0\n",
       "credit_count_jun         0\n",
       "debit_count_jun          0\n",
       "max_credit_amount_jun    0\n",
       "emi_active               0\n",
       "dtype: int64"
      ]
     },
     "execution_count": 19,
     "metadata": {},
     "output_type": "execute_result"
    }
   ],
   "source": [
    "test.isna().sum()"
   ]
  },
  {
   "cell_type": "code",
   "execution_count": 20,
   "metadata": {},
   "outputs": [
    {
     "name": "stdout",
     "output_type": "stream",
     "text": [
      "train.shape:  (32820, 35)\n",
      "test.shape:  (14067, 34)\n"
     ]
    }
   ],
   "source": [
    "print('train.shape: ', train.shape)\n",
    "print('test.shape: ', test.shape)"
   ]
  },
  {
   "cell_type": "markdown",
   "metadata": {},
   "source": [
    "# EDA: Plotting"
   ]
  },
  {
   "cell_type": "markdown",
   "metadata": {},
   "source": [
    "### Creating new variables for plotting"
   ]
  },
  {
   "cell_type": "markdown",
   "metadata": {},
   "source": [
    "Creating 4 new columns for <b>total credit card spend of 3 months</b>, <b>total debit card spend of 3 months</b>, <b>total credit amount for 3 months</b> and <b>total debit amount for 3 months</b>"
   ]
  },
  {
   "cell_type": "code",
   "execution_count": 21,
   "metadata": {},
   "outputs": [],
   "source": [
    "train['total_credit_spend_3months'] = train['cc_cons_apr'] + train['cc_cons_may'] + train['cc_cons_jun'] "
   ]
  },
  {
   "cell_type": "code",
   "execution_count": 22,
   "metadata": {},
   "outputs": [
    {
     "data": {
      "text/html": [
       "<div>\n",
       "<style scoped>\n",
       "    .dataframe tbody tr th:only-of-type {\n",
       "        vertical-align: middle;\n",
       "    }\n",
       "\n",
       "    .dataframe tbody tr th {\n",
       "        vertical-align: top;\n",
       "    }\n",
       "\n",
       "    .dataframe thead th {\n",
       "        text-align: right;\n",
       "    }\n",
       "</style>\n",
       "<table border=\"1\" class=\"dataframe\">\n",
       "  <thead>\n",
       "    <tr style=\"text-align: right;\">\n",
       "      <th></th>\n",
       "      <th>id</th>\n",
       "      <th>account_type</th>\n",
       "      <th>gender</th>\n",
       "      <th>age</th>\n",
       "      <th>region_code</th>\n",
       "      <th>cc_cons_apr</th>\n",
       "      <th>dc_cons_apr</th>\n",
       "      <th>cc_cons_may</th>\n",
       "      <th>dc_cons_may</th>\n",
       "      <th>cc_cons_jun</th>\n",
       "      <th>...</th>\n",
       "      <th>debit_count_may</th>\n",
       "      <th>max_credit_amount_may</th>\n",
       "      <th>debit_amount_jun</th>\n",
       "      <th>credit_amount_jun</th>\n",
       "      <th>credit_count_jun</th>\n",
       "      <th>debit_count_jun</th>\n",
       "      <th>max_credit_amount_jun</th>\n",
       "      <th>emi_active</th>\n",
       "      <th>cc_cons</th>\n",
       "      <th>total_credit_spend_3months</th>\n",
       "    </tr>\n",
       "  </thead>\n",
       "  <tbody>\n",
       "    <tr>\n",
       "      <th>0</th>\n",
       "      <td>23334</td>\n",
       "      <td>saving</td>\n",
       "      <td>M</td>\n",
       "      <td>63</td>\n",
       "      <td>305</td>\n",
       "      <td>7695.00</td>\n",
       "      <td>5727.615837</td>\n",
       "      <td>479.00</td>\n",
       "      <td>5635.506904</td>\n",
       "      <td>622.0</td>\n",
       "      <td>...</td>\n",
       "      <td>2.0</td>\n",
       "      <td>45000.0</td>\n",
       "      <td>20215.85</td>\n",
       "      <td>1279.37</td>\n",
       "      <td>7.0</td>\n",
       "      <td>3.0</td>\n",
       "      <td>470.0</td>\n",
       "      <td>0.00</td>\n",
       "      <td>435</td>\n",
       "      <td>8796.00</td>\n",
       "    </tr>\n",
       "    <tr>\n",
       "      <th>1</th>\n",
       "      <td>20329</td>\n",
       "      <td>current</td>\n",
       "      <td>M</td>\n",
       "      <td>33</td>\n",
       "      <td>326</td>\n",
       "      <td>52702.00</td>\n",
       "      <td>988.720000</td>\n",
       "      <td>29873.00</td>\n",
       "      <td>5635.506904</td>\n",
       "      <td>1087.0</td>\n",
       "      <td>...</td>\n",
       "      <td>10.0</td>\n",
       "      <td>150000.0</td>\n",
       "      <td>122037.66</td>\n",
       "      <td>55390.00</td>\n",
       "      <td>8.0</td>\n",
       "      <td>19.0</td>\n",
       "      <td>27000.0</td>\n",
       "      <td>4963.33</td>\n",
       "      <td>1921</td>\n",
       "      <td>83662.00</td>\n",
       "    </tr>\n",
       "    <tr>\n",
       "      <th>2</th>\n",
       "      <td>17679</td>\n",
       "      <td>current</td>\n",
       "      <td>M</td>\n",
       "      <td>44</td>\n",
       "      <td>264</td>\n",
       "      <td>10800.49</td>\n",
       "      <td>3215.520000</td>\n",
       "      <td>21659.64</td>\n",
       "      <td>1607.000000</td>\n",
       "      <td>1168.0</td>\n",
       "      <td>...</td>\n",
       "      <td>7.0</td>\n",
       "      <td>13800.0</td>\n",
       "      <td>46827.00</td>\n",
       "      <td>29297.91</td>\n",
       "      <td>6.0</td>\n",
       "      <td>19.0</td>\n",
       "      <td>20800.0</td>\n",
       "      <td>0.00</td>\n",
       "      <td>1970</td>\n",
       "      <td>33628.13</td>\n",
       "    </tr>\n",
       "    <tr>\n",
       "      <th>3</th>\n",
       "      <td>16428</td>\n",
       "      <td>saving</td>\n",
       "      <td>M</td>\n",
       "      <td>44</td>\n",
       "      <td>233</td>\n",
       "      <td>20936.00</td>\n",
       "      <td>5727.615837</td>\n",
       "      <td>2094.00</td>\n",
       "      <td>5635.506904</td>\n",
       "      <td>11778.5</td>\n",
       "      <td>...</td>\n",
       "      <td>1.0</td>\n",
       "      <td>19300.0</td>\n",
       "      <td>5426.55</td>\n",
       "      <td>7544.00</td>\n",
       "      <td>3.0</td>\n",
       "      <td>1.0</td>\n",
       "      <td>5300.0</td>\n",
       "      <td>1238.18</td>\n",
       "      <td>21579</td>\n",
       "      <td>34808.50</td>\n",
       "    </tr>\n",
       "    <tr>\n",
       "      <th>4</th>\n",
       "      <td>18721</td>\n",
       "      <td>saving</td>\n",
       "      <td>F</td>\n",
       "      <td>35</td>\n",
       "      <td>324</td>\n",
       "      <td>1183.83</td>\n",
       "      <td>5727.615837</td>\n",
       "      <td>3656.29</td>\n",
       "      <td>5635.506904</td>\n",
       "      <td>945.0</td>\n",
       "      <td>...</td>\n",
       "      <td>3.0</td>\n",
       "      <td>3000.0</td>\n",
       "      <td>26178.05</td>\n",
       "      <td>53483.00</td>\n",
       "      <td>4.0</td>\n",
       "      <td>4.0</td>\n",
       "      <td>45000.0</td>\n",
       "      <td>0.00</td>\n",
       "      <td>1814</td>\n",
       "      <td>5785.12</td>\n",
       "    </tr>\n",
       "  </tbody>\n",
       "</table>\n",
       "<p>5 rows × 36 columns</p>\n",
       "</div>"
      ],
      "text/plain": [
       "      id account_type gender  age  region_code  cc_cons_apr  dc_cons_apr  \\\n",
       "0  23334       saving      M   63          305      7695.00  5727.615837   \n",
       "1  20329      current      M   33          326     52702.00   988.720000   \n",
       "2  17679      current      M   44          264     10800.49  3215.520000   \n",
       "3  16428       saving      M   44          233     20936.00  5727.615837   \n",
       "4  18721       saving      F   35          324      1183.83  5727.615837   \n",
       "\n",
       "   cc_cons_may  dc_cons_may  cc_cons_jun             ...              \\\n",
       "0       479.00  5635.506904        622.0             ...               \n",
       "1     29873.00  5635.506904       1087.0             ...               \n",
       "2     21659.64  1607.000000       1168.0             ...               \n",
       "3      2094.00  5635.506904      11778.5             ...               \n",
       "4      3656.29  5635.506904        945.0             ...               \n",
       "\n",
       "   debit_count_may  max_credit_amount_may  debit_amount_jun  \\\n",
       "0              2.0                45000.0          20215.85   \n",
       "1             10.0               150000.0         122037.66   \n",
       "2              7.0                13800.0          46827.00   \n",
       "3              1.0                19300.0           5426.55   \n",
       "4              3.0                 3000.0          26178.05   \n",
       "\n",
       "   credit_amount_jun  credit_count_jun  debit_count_jun  \\\n",
       "0            1279.37               7.0              3.0   \n",
       "1           55390.00               8.0             19.0   \n",
       "2           29297.91               6.0             19.0   \n",
       "3            7544.00               3.0              1.0   \n",
       "4           53483.00               4.0              4.0   \n",
       "\n",
       "   max_credit_amount_jun  emi_active  cc_cons  total_credit_spend_3months  \n",
       "0                  470.0        0.00      435                     8796.00  \n",
       "1                27000.0     4963.33     1921                    83662.00  \n",
       "2                20800.0        0.00     1970                    33628.13  \n",
       "3                 5300.0     1238.18    21579                    34808.50  \n",
       "4                45000.0        0.00     1814                     5785.12  \n",
       "\n",
       "[5 rows x 36 columns]"
      ]
     },
     "execution_count": 22,
     "metadata": {},
     "output_type": "execute_result"
    }
   ],
   "source": [
    "train.head()"
   ]
  },
  {
   "cell_type": "code",
   "execution_count": 23,
   "metadata": {},
   "outputs": [],
   "source": [
    "train['total_debit_spend_3months'] = train['dc_cons_apr'] + train['dc_cons_may'] + train['dc_cons_jun'] "
   ]
  },
  {
   "cell_type": "code",
   "execution_count": 24,
   "metadata": {},
   "outputs": [
    {
     "data": {
      "text/html": [
       "<div>\n",
       "<style scoped>\n",
       "    .dataframe tbody tr th:only-of-type {\n",
       "        vertical-align: middle;\n",
       "    }\n",
       "\n",
       "    .dataframe tbody tr th {\n",
       "        vertical-align: top;\n",
       "    }\n",
       "\n",
       "    .dataframe thead th {\n",
       "        text-align: right;\n",
       "    }\n",
       "</style>\n",
       "<table border=\"1\" class=\"dataframe\">\n",
       "  <thead>\n",
       "    <tr style=\"text-align: right;\">\n",
       "      <th></th>\n",
       "      <th>id</th>\n",
       "      <th>account_type</th>\n",
       "      <th>gender</th>\n",
       "      <th>age</th>\n",
       "      <th>region_code</th>\n",
       "      <th>cc_cons_apr</th>\n",
       "      <th>dc_cons_apr</th>\n",
       "      <th>cc_cons_may</th>\n",
       "      <th>dc_cons_may</th>\n",
       "      <th>cc_cons_jun</th>\n",
       "      <th>...</th>\n",
       "      <th>max_credit_amount_may</th>\n",
       "      <th>debit_amount_jun</th>\n",
       "      <th>credit_amount_jun</th>\n",
       "      <th>credit_count_jun</th>\n",
       "      <th>debit_count_jun</th>\n",
       "      <th>max_credit_amount_jun</th>\n",
       "      <th>emi_active</th>\n",
       "      <th>cc_cons</th>\n",
       "      <th>total_credit_spend_3months</th>\n",
       "      <th>total_debit_spend_3months</th>\n",
       "    </tr>\n",
       "  </thead>\n",
       "  <tbody>\n",
       "    <tr>\n",
       "      <th>0</th>\n",
       "      <td>23334</td>\n",
       "      <td>saving</td>\n",
       "      <td>M</td>\n",
       "      <td>63</td>\n",
       "      <td>305</td>\n",
       "      <td>7695.00</td>\n",
       "      <td>5727.615837</td>\n",
       "      <td>479.00</td>\n",
       "      <td>5635.506904</td>\n",
       "      <td>622.0</td>\n",
       "      <td>...</td>\n",
       "      <td>45000.0</td>\n",
       "      <td>20215.85</td>\n",
       "      <td>1279.37</td>\n",
       "      <td>7.0</td>\n",
       "      <td>3.0</td>\n",
       "      <td>470.0</td>\n",
       "      <td>0.00</td>\n",
       "      <td>435</td>\n",
       "      <td>8796.00</td>\n",
       "      <td>16029.836161</td>\n",
       "    </tr>\n",
       "    <tr>\n",
       "      <th>1</th>\n",
       "      <td>20329</td>\n",
       "      <td>current</td>\n",
       "      <td>M</td>\n",
       "      <td>33</td>\n",
       "      <td>326</td>\n",
       "      <td>52702.00</td>\n",
       "      <td>988.720000</td>\n",
       "      <td>29873.00</td>\n",
       "      <td>5635.506904</td>\n",
       "      <td>1087.0</td>\n",
       "      <td>...</td>\n",
       "      <td>150000.0</td>\n",
       "      <td>122037.66</td>\n",
       "      <td>55390.00</td>\n",
       "      <td>8.0</td>\n",
       "      <td>19.0</td>\n",
       "      <td>27000.0</td>\n",
       "      <td>4963.33</td>\n",
       "      <td>1921</td>\n",
       "      <td>83662.00</td>\n",
       "      <td>9430.466904</td>\n",
       "    </tr>\n",
       "    <tr>\n",
       "      <th>2</th>\n",
       "      <td>17679</td>\n",
       "      <td>current</td>\n",
       "      <td>M</td>\n",
       "      <td>44</td>\n",
       "      <td>264</td>\n",
       "      <td>10800.49</td>\n",
       "      <td>3215.520000</td>\n",
       "      <td>21659.64</td>\n",
       "      <td>1607.000000</td>\n",
       "      <td>1168.0</td>\n",
       "      <td>...</td>\n",
       "      <td>13800.0</td>\n",
       "      <td>46827.00</td>\n",
       "      <td>29297.91</td>\n",
       "      <td>6.0</td>\n",
       "      <td>19.0</td>\n",
       "      <td>20800.0</td>\n",
       "      <td>0.00</td>\n",
       "      <td>1970</td>\n",
       "      <td>33628.13</td>\n",
       "      <td>5177.520000</td>\n",
       "    </tr>\n",
       "    <tr>\n",
       "      <th>3</th>\n",
       "      <td>16428</td>\n",
       "      <td>saving</td>\n",
       "      <td>M</td>\n",
       "      <td>44</td>\n",
       "      <td>233</td>\n",
       "      <td>20936.00</td>\n",
       "      <td>5727.615837</td>\n",
       "      <td>2094.00</td>\n",
       "      <td>5635.506904</td>\n",
       "      <td>11778.5</td>\n",
       "      <td>...</td>\n",
       "      <td>19300.0</td>\n",
       "      <td>5426.55</td>\n",
       "      <td>7544.00</td>\n",
       "      <td>3.0</td>\n",
       "      <td>1.0</td>\n",
       "      <td>5300.0</td>\n",
       "      <td>1238.18</td>\n",
       "      <td>21579</td>\n",
       "      <td>34808.50</td>\n",
       "      <td>16029.836161</td>\n",
       "    </tr>\n",
       "    <tr>\n",
       "      <th>4</th>\n",
       "      <td>18721</td>\n",
       "      <td>saving</td>\n",
       "      <td>F</td>\n",
       "      <td>35</td>\n",
       "      <td>324</td>\n",
       "      <td>1183.83</td>\n",
       "      <td>5727.615837</td>\n",
       "      <td>3656.29</td>\n",
       "      <td>5635.506904</td>\n",
       "      <td>945.0</td>\n",
       "      <td>...</td>\n",
       "      <td>3000.0</td>\n",
       "      <td>26178.05</td>\n",
       "      <td>53483.00</td>\n",
       "      <td>4.0</td>\n",
       "      <td>4.0</td>\n",
       "      <td>45000.0</td>\n",
       "      <td>0.00</td>\n",
       "      <td>1814</td>\n",
       "      <td>5785.12</td>\n",
       "      <td>16029.836161</td>\n",
       "    </tr>\n",
       "  </tbody>\n",
       "</table>\n",
       "<p>5 rows × 37 columns</p>\n",
       "</div>"
      ],
      "text/plain": [
       "      id account_type gender  age  region_code  cc_cons_apr  dc_cons_apr  \\\n",
       "0  23334       saving      M   63          305      7695.00  5727.615837   \n",
       "1  20329      current      M   33          326     52702.00   988.720000   \n",
       "2  17679      current      M   44          264     10800.49  3215.520000   \n",
       "3  16428       saving      M   44          233     20936.00  5727.615837   \n",
       "4  18721       saving      F   35          324      1183.83  5727.615837   \n",
       "\n",
       "   cc_cons_may  dc_cons_may  cc_cons_jun            ...              \\\n",
       "0       479.00  5635.506904        622.0            ...               \n",
       "1     29873.00  5635.506904       1087.0            ...               \n",
       "2     21659.64  1607.000000       1168.0            ...               \n",
       "3      2094.00  5635.506904      11778.5            ...               \n",
       "4      3656.29  5635.506904        945.0            ...               \n",
       "\n",
       "   max_credit_amount_may  debit_amount_jun  credit_amount_jun  \\\n",
       "0                45000.0          20215.85            1279.37   \n",
       "1               150000.0         122037.66           55390.00   \n",
       "2                13800.0          46827.00           29297.91   \n",
       "3                19300.0           5426.55            7544.00   \n",
       "4                 3000.0          26178.05           53483.00   \n",
       "\n",
       "   credit_count_jun  debit_count_jun  max_credit_amount_jun  emi_active  \\\n",
       "0               7.0              3.0                  470.0        0.00   \n",
       "1               8.0             19.0                27000.0     4963.33   \n",
       "2               6.0             19.0                20800.0        0.00   \n",
       "3               3.0              1.0                 5300.0     1238.18   \n",
       "4               4.0              4.0                45000.0        0.00   \n",
       "\n",
       "   cc_cons  total_credit_spend_3months  total_debit_spend_3months  \n",
       "0      435                     8796.00               16029.836161  \n",
       "1     1921                    83662.00                9430.466904  \n",
       "2     1970                    33628.13                5177.520000  \n",
       "3    21579                    34808.50               16029.836161  \n",
       "4     1814                     5785.12               16029.836161  \n",
       "\n",
       "[5 rows x 37 columns]"
      ]
     },
     "execution_count": 24,
     "metadata": {},
     "output_type": "execute_result"
    }
   ],
   "source": [
    "train.head()"
   ]
  },
  {
   "cell_type": "markdown",
   "metadata": {},
   "source": [
    "Creating similar parameters for <b>credit and debit amounts</b> and also <b>counts</b>"
   ]
  },
  {
   "cell_type": "code",
   "execution_count": 25,
   "metadata": {},
   "outputs": [],
   "source": [
    "train['total_credit_amount_3months'] = train['credit_amount_apr'] + train['credit_amount_may'] + train['credit_amount_jun'] "
   ]
  },
  {
   "cell_type": "code",
   "execution_count": 26,
   "metadata": {},
   "outputs": [],
   "source": [
    "train['total_debit_amount_3months'] = train['debit_amount_apr'] + train['debit_amount_may'] + train['debit_amount_jun'] "
   ]
  },
  {
   "cell_type": "code",
   "execution_count": 27,
   "metadata": {},
   "outputs": [],
   "source": [
    "train['total_credit_count_3months'] = train['credit_count_apr'] + train['credit_count_may'] + train['credit_count_jun'] "
   ]
  },
  {
   "cell_type": "code",
   "execution_count": 28,
   "metadata": {},
   "outputs": [],
   "source": [
    "train['total_debit_count_3months'] = train['debit_count_apr'] + train['debit_count_may'] + train['debit_count_jun'] "
   ]
  },
  {
   "cell_type": "code",
   "execution_count": 29,
   "metadata": {},
   "outputs": [
    {
     "data": {
      "text/html": [
       "<div>\n",
       "<style scoped>\n",
       "    .dataframe tbody tr th:only-of-type {\n",
       "        vertical-align: middle;\n",
       "    }\n",
       "\n",
       "    .dataframe tbody tr th {\n",
       "        vertical-align: top;\n",
       "    }\n",
       "\n",
       "    .dataframe thead th {\n",
       "        text-align: right;\n",
       "    }\n",
       "</style>\n",
       "<table border=\"1\" class=\"dataframe\">\n",
       "  <thead>\n",
       "    <tr style=\"text-align: right;\">\n",
       "      <th></th>\n",
       "      <th>id</th>\n",
       "      <th>account_type</th>\n",
       "      <th>gender</th>\n",
       "      <th>age</th>\n",
       "      <th>region_code</th>\n",
       "      <th>cc_cons_apr</th>\n",
       "      <th>dc_cons_apr</th>\n",
       "      <th>cc_cons_may</th>\n",
       "      <th>dc_cons_may</th>\n",
       "      <th>cc_cons_jun</th>\n",
       "      <th>...</th>\n",
       "      <th>debit_count_jun</th>\n",
       "      <th>max_credit_amount_jun</th>\n",
       "      <th>emi_active</th>\n",
       "      <th>cc_cons</th>\n",
       "      <th>total_credit_spend_3months</th>\n",
       "      <th>total_debit_spend_3months</th>\n",
       "      <th>total_credit_amount_3months</th>\n",
       "      <th>total_debit_amount_3months</th>\n",
       "      <th>total_credit_count_3months</th>\n",
       "      <th>total_debit_count_3months</th>\n",
       "    </tr>\n",
       "  </thead>\n",
       "  <tbody>\n",
       "    <tr>\n",
       "      <th>0</th>\n",
       "      <td>23334</td>\n",
       "      <td>saving</td>\n",
       "      <td>M</td>\n",
       "      <td>63</td>\n",
       "      <td>305</td>\n",
       "      <td>7695.00</td>\n",
       "      <td>5727.615837</td>\n",
       "      <td>479.00</td>\n",
       "      <td>5635.506904</td>\n",
       "      <td>622.0</td>\n",
       "      <td>...</td>\n",
       "      <td>3.0</td>\n",
       "      <td>470.0</td>\n",
       "      <td>0.00</td>\n",
       "      <td>435</td>\n",
       "      <td>8796.00</td>\n",
       "      <td>16029.836161</td>\n",
       "      <td>165790.37</td>\n",
       "      <td>96161.54</td>\n",
       "      <td>11.0</td>\n",
       "      <td>8.0</td>\n",
       "    </tr>\n",
       "    <tr>\n",
       "      <th>1</th>\n",
       "      <td>20329</td>\n",
       "      <td>current</td>\n",
       "      <td>M</td>\n",
       "      <td>33</td>\n",
       "      <td>326</td>\n",
       "      <td>52702.00</td>\n",
       "      <td>988.720000</td>\n",
       "      <td>29873.00</td>\n",
       "      <td>5635.506904</td>\n",
       "      <td>1087.0</td>\n",
       "      <td>...</td>\n",
       "      <td>19.0</td>\n",
       "      <td>27000.0</td>\n",
       "      <td>4963.33</td>\n",
       "      <td>1921</td>\n",
       "      <td>83662.00</td>\n",
       "      <td>9430.466904</td>\n",
       "      <td>399808.00</td>\n",
       "      <td>384191.27</td>\n",
       "      <td>23.0</td>\n",
       "      <td>49.0</td>\n",
       "    </tr>\n",
       "    <tr>\n",
       "      <th>2</th>\n",
       "      <td>17679</td>\n",
       "      <td>current</td>\n",
       "      <td>M</td>\n",
       "      <td>44</td>\n",
       "      <td>264</td>\n",
       "      <td>10800.49</td>\n",
       "      <td>3215.520000</td>\n",
       "      <td>21659.64</td>\n",
       "      <td>1607.000000</td>\n",
       "      <td>1168.0</td>\n",
       "      <td>...</td>\n",
       "      <td>19.0</td>\n",
       "      <td>20800.0</td>\n",
       "      <td>0.00</td>\n",
       "      <td>1970</td>\n",
       "      <td>33628.13</td>\n",
       "      <td>5177.520000</td>\n",
       "      <td>91290.91</td>\n",
       "      <td>113594.55</td>\n",
       "      <td>12.0</td>\n",
       "      <td>42.0</td>\n",
       "    </tr>\n",
       "    <tr>\n",
       "      <th>3</th>\n",
       "      <td>16428</td>\n",
       "      <td>saving</td>\n",
       "      <td>M</td>\n",
       "      <td>44</td>\n",
       "      <td>233</td>\n",
       "      <td>20936.00</td>\n",
       "      <td>5727.615837</td>\n",
       "      <td>2094.00</td>\n",
       "      <td>5635.506904</td>\n",
       "      <td>11778.5</td>\n",
       "      <td>...</td>\n",
       "      <td>1.0</td>\n",
       "      <td>5300.0</td>\n",
       "      <td>1238.18</td>\n",
       "      <td>21579</td>\n",
       "      <td>34808.50</td>\n",
       "      <td>16029.836161</td>\n",
       "      <td>29367.00</td>\n",
       "      <td>26768.86</td>\n",
       "      <td>5.0</td>\n",
       "      <td>4.0</td>\n",
       "    </tr>\n",
       "    <tr>\n",
       "      <th>4</th>\n",
       "      <td>18721</td>\n",
       "      <td>saving</td>\n",
       "      <td>F</td>\n",
       "      <td>35</td>\n",
       "      <td>324</td>\n",
       "      <td>1183.83</td>\n",
       "      <td>5727.615837</td>\n",
       "      <td>3656.29</td>\n",
       "      <td>5635.506904</td>\n",
       "      <td>945.0</td>\n",
       "      <td>...</td>\n",
       "      <td>4.0</td>\n",
       "      <td>45000.0</td>\n",
       "      <td>0.00</td>\n",
       "      <td>1814</td>\n",
       "      <td>5785.12</td>\n",
       "      <td>16029.836161</td>\n",
       "      <td>66948.00</td>\n",
       "      <td>40101.05</td>\n",
       "      <td>7.0</td>\n",
       "      <td>13.0</td>\n",
       "    </tr>\n",
       "  </tbody>\n",
       "</table>\n",
       "<p>5 rows × 41 columns</p>\n",
       "</div>"
      ],
      "text/plain": [
       "      id account_type gender  age  region_code  cc_cons_apr  dc_cons_apr  \\\n",
       "0  23334       saving      M   63          305      7695.00  5727.615837   \n",
       "1  20329      current      M   33          326     52702.00   988.720000   \n",
       "2  17679      current      M   44          264     10800.49  3215.520000   \n",
       "3  16428       saving      M   44          233     20936.00  5727.615837   \n",
       "4  18721       saving      F   35          324      1183.83  5727.615837   \n",
       "\n",
       "   cc_cons_may  dc_cons_may  cc_cons_jun            ...              \\\n",
       "0       479.00  5635.506904        622.0            ...               \n",
       "1     29873.00  5635.506904       1087.0            ...               \n",
       "2     21659.64  1607.000000       1168.0            ...               \n",
       "3      2094.00  5635.506904      11778.5            ...               \n",
       "4      3656.29  5635.506904        945.0            ...               \n",
       "\n",
       "   debit_count_jun  max_credit_amount_jun  emi_active  cc_cons  \\\n",
       "0              3.0                  470.0        0.00      435   \n",
       "1             19.0                27000.0     4963.33     1921   \n",
       "2             19.0                20800.0        0.00     1970   \n",
       "3              1.0                 5300.0     1238.18    21579   \n",
       "4              4.0                45000.0        0.00     1814   \n",
       "\n",
       "   total_credit_spend_3months  total_debit_spend_3months  \\\n",
       "0                     8796.00               16029.836161   \n",
       "1                    83662.00                9430.466904   \n",
       "2                    33628.13                5177.520000   \n",
       "3                    34808.50               16029.836161   \n",
       "4                     5785.12               16029.836161   \n",
       "\n",
       "   total_credit_amount_3months  total_debit_amount_3months  \\\n",
       "0                    165790.37                    96161.54   \n",
       "1                    399808.00                   384191.27   \n",
       "2                     91290.91                   113594.55   \n",
       "3                     29367.00                    26768.86   \n",
       "4                     66948.00                    40101.05   \n",
       "\n",
       "   total_credit_count_3months  total_debit_count_3months  \n",
       "0                        11.0                        8.0  \n",
       "1                        23.0                       49.0  \n",
       "2                        12.0                       42.0  \n",
       "3                         5.0                        4.0  \n",
       "4                         7.0                       13.0  \n",
       "\n",
       "[5 rows x 41 columns]"
      ]
     },
     "execution_count": 29,
     "metadata": {},
     "output_type": "execute_result"
    }
   ],
   "source": [
    "train.head()"
   ]
  },
  {
   "cell_type": "markdown",
   "metadata": {},
   "source": [
    "<b>Since, we are going to use these new features in the test dataset, let's add them there too"
   ]
  },
  {
   "cell_type": "code",
   "execution_count": 30,
   "metadata": {},
   "outputs": [],
   "source": [
    "test['total_credit_spend_3months'] = test['cc_cons_apr'] + test['cc_cons_may'] + test['cc_cons_jun'] "
   ]
  },
  {
   "cell_type": "code",
   "execution_count": 31,
   "metadata": {},
   "outputs": [],
   "source": [
    "test['total_debit_spend_3months'] = test['dc_cons_apr'] + test['dc_cons_may'] + test['dc_cons_jun'] "
   ]
  },
  {
   "cell_type": "code",
   "execution_count": 32,
   "metadata": {},
   "outputs": [],
   "source": [
    "test['total_credit_amount_3months'] = test['credit_amount_apr'] + test['credit_amount_may'] + test['credit_amount_jun'] "
   ]
  },
  {
   "cell_type": "code",
   "execution_count": 33,
   "metadata": {},
   "outputs": [],
   "source": [
    "test['total_debit_amount_3months'] = test['debit_amount_apr'] + test['debit_amount_may'] + test['debit_amount_jun'] "
   ]
  },
  {
   "cell_type": "code",
   "execution_count": 34,
   "metadata": {},
   "outputs": [],
   "source": [
    "test['total_credit_count_3months'] = test['credit_count_apr'] + test['credit_count_may'] + test['credit_count_jun'] "
   ]
  },
  {
   "cell_type": "code",
   "execution_count": 35,
   "metadata": {},
   "outputs": [],
   "source": [
    "test['total_debit_count_3months'] = test['debit_count_apr'] + test['debit_count_may'] + test['debit_count_jun'] "
   ]
  },
  {
   "cell_type": "code",
   "execution_count": 36,
   "metadata": {},
   "outputs": [
    {
     "data": {
      "text/html": [
       "<div>\n",
       "<style scoped>\n",
       "    .dataframe tbody tr th:only-of-type {\n",
       "        vertical-align: middle;\n",
       "    }\n",
       "\n",
       "    .dataframe tbody tr th {\n",
       "        vertical-align: top;\n",
       "    }\n",
       "\n",
       "    .dataframe thead th {\n",
       "        text-align: right;\n",
       "    }\n",
       "</style>\n",
       "<table border=\"1\" class=\"dataframe\">\n",
       "  <thead>\n",
       "    <tr style=\"text-align: right;\">\n",
       "      <th></th>\n",
       "      <th>id</th>\n",
       "      <th>account_type</th>\n",
       "      <th>gender</th>\n",
       "      <th>age</th>\n",
       "      <th>region_code</th>\n",
       "      <th>cc_cons_apr</th>\n",
       "      <th>dc_cons_apr</th>\n",
       "      <th>cc_cons_may</th>\n",
       "      <th>dc_cons_may</th>\n",
       "      <th>cc_cons_jun</th>\n",
       "      <th>...</th>\n",
       "      <th>credit_count_jun</th>\n",
       "      <th>debit_count_jun</th>\n",
       "      <th>max_credit_amount_jun</th>\n",
       "      <th>emi_active</th>\n",
       "      <th>total_credit_spend_3months</th>\n",
       "      <th>total_debit_spend_3months</th>\n",
       "      <th>total_credit_amount_3months</th>\n",
       "      <th>total_debit_amount_3months</th>\n",
       "      <th>total_credit_count_3months</th>\n",
       "      <th>total_debit_count_3months</th>\n",
       "    </tr>\n",
       "  </thead>\n",
       "  <tbody>\n",
       "    <tr>\n",
       "      <th>0</th>\n",
       "      <td>6975</td>\n",
       "      <td>saving</td>\n",
       "      <td>M</td>\n",
       "      <td>36</td>\n",
       "      <td>447</td>\n",
       "      <td>17942.70</td>\n",
       "      <td>1170.000000</td>\n",
       "      <td>1656.00</td>\n",
       "      <td>5691.616269</td>\n",
       "      <td>4551.00</td>\n",
       "      <td>...</td>\n",
       "      <td>2.000000</td>\n",
       "      <td>8.000000</td>\n",
       "      <td>5000.000000</td>\n",
       "      <td>0.00</td>\n",
       "      <td>24149.70</td>\n",
       "      <td>11459.362305</td>\n",
       "      <td>45849.52000</td>\n",
       "      <td>49653.710000</td>\n",
       "      <td>7.000000</td>\n",
       "      <td>22.000000</td>\n",
       "    </tr>\n",
       "    <tr>\n",
       "      <th>1</th>\n",
       "      <td>43223</td>\n",
       "      <td>current</td>\n",
       "      <td>M</td>\n",
       "      <td>31</td>\n",
       "      <td>233</td>\n",
       "      <td>44870.36</td>\n",
       "      <td>5553.625266</td>\n",
       "      <td>34177.00</td>\n",
       "      <td>5691.616269</td>\n",
       "      <td>25889.21</td>\n",
       "      <td>...</td>\n",
       "      <td>5.836863</td>\n",
       "      <td>15.963689</td>\n",
       "      <td>42305.241682</td>\n",
       "      <td>0.00</td>\n",
       "      <td>104936.57</td>\n",
       "      <td>15842.987571</td>\n",
       "      <td>222812.34668</td>\n",
       "      <td>208262.285939</td>\n",
       "      <td>13.794433</td>\n",
       "      <td>44.953952</td>\n",
       "    </tr>\n",
       "    <tr>\n",
       "      <th>2</th>\n",
       "      <td>45502</td>\n",
       "      <td>current</td>\n",
       "      <td>M</td>\n",
       "      <td>26</td>\n",
       "      <td>823</td>\n",
       "      <td>1073.00</td>\n",
       "      <td>2442.000000</td>\n",
       "      <td>4141.00</td>\n",
       "      <td>390.000000</td>\n",
       "      <td>6740.29</td>\n",
       "      <td>...</td>\n",
       "      <td>3.000000</td>\n",
       "      <td>15.000000</td>\n",
       "      <td>29352.000000</td>\n",
       "      <td>2885.82</td>\n",
       "      <td>11954.29</td>\n",
       "      <td>3474.000000</td>\n",
       "      <td>208802.00000</td>\n",
       "      <td>207498.700000</td>\n",
       "      <td>12.000000</td>\n",
       "      <td>70.000000</td>\n",
       "    </tr>\n",
       "    <tr>\n",
       "      <th>3</th>\n",
       "      <td>12368</td>\n",
       "      <td>current</td>\n",
       "      <td>M</td>\n",
       "      <td>39</td>\n",
       "      <td>878</td>\n",
       "      <td>33060.58</td>\n",
       "      <td>5553.625266</td>\n",
       "      <td>3797.12</td>\n",
       "      <td>5691.616269</td>\n",
       "      <td>291.00</td>\n",
       "      <td>...</td>\n",
       "      <td>7.000000</td>\n",
       "      <td>11.000000</td>\n",
       "      <td>32696.000000</td>\n",
       "      <td>0.00</td>\n",
       "      <td>37148.70</td>\n",
       "      <td>15842.987571</td>\n",
       "      <td>212458.00000</td>\n",
       "      <td>182968.550000</td>\n",
       "      <td>16.000000</td>\n",
       "      <td>23.000000</td>\n",
       "    </tr>\n",
       "    <tr>\n",
       "      <th>4</th>\n",
       "      <td>40415</td>\n",
       "      <td>current</td>\n",
       "      <td>M</td>\n",
       "      <td>44</td>\n",
       "      <td>404</td>\n",
       "      <td>18236.90</td>\n",
       "      <td>5553.625266</td>\n",
       "      <td>30513.30</td>\n",
       "      <td>5691.616269</td>\n",
       "      <td>20395.28</td>\n",
       "      <td>...</td>\n",
       "      <td>3.000000</td>\n",
       "      <td>4.000000</td>\n",
       "      <td>19000.000000</td>\n",
       "      <td>3342.58</td>\n",
       "      <td>69145.48</td>\n",
       "      <td>15842.987571</td>\n",
       "      <td>104549.00000</td>\n",
       "      <td>96964.040000</td>\n",
       "      <td>5.000000</td>\n",
       "      <td>13.000000</td>\n",
       "    </tr>\n",
       "  </tbody>\n",
       "</table>\n",
       "<p>5 rows × 40 columns</p>\n",
       "</div>"
      ],
      "text/plain": [
       "      id account_type gender  age  region_code  cc_cons_apr  dc_cons_apr  \\\n",
       "0   6975       saving      M   36          447     17942.70  1170.000000   \n",
       "1  43223      current      M   31          233     44870.36  5553.625266   \n",
       "2  45502      current      M   26          823      1073.00  2442.000000   \n",
       "3  12368      current      M   39          878     33060.58  5553.625266   \n",
       "4  40415      current      M   44          404     18236.90  5553.625266   \n",
       "\n",
       "   cc_cons_may  dc_cons_may  cc_cons_jun            ...              \\\n",
       "0      1656.00  5691.616269      4551.00            ...               \n",
       "1     34177.00  5691.616269     25889.21            ...               \n",
       "2      4141.00   390.000000      6740.29            ...               \n",
       "3      3797.12  5691.616269       291.00            ...               \n",
       "4     30513.30  5691.616269     20395.28            ...               \n",
       "\n",
       "   credit_count_jun  debit_count_jun  max_credit_amount_jun  emi_active  \\\n",
       "0          2.000000         8.000000            5000.000000        0.00   \n",
       "1          5.836863        15.963689           42305.241682        0.00   \n",
       "2          3.000000        15.000000           29352.000000     2885.82   \n",
       "3          7.000000        11.000000           32696.000000        0.00   \n",
       "4          3.000000         4.000000           19000.000000     3342.58   \n",
       "\n",
       "   total_credit_spend_3months  total_debit_spend_3months  \\\n",
       "0                    24149.70               11459.362305   \n",
       "1                   104936.57               15842.987571   \n",
       "2                    11954.29                3474.000000   \n",
       "3                    37148.70               15842.987571   \n",
       "4                    69145.48               15842.987571   \n",
       "\n",
       "   total_credit_amount_3months  total_debit_amount_3months  \\\n",
       "0                  45849.52000                49653.710000   \n",
       "1                 222812.34668               208262.285939   \n",
       "2                 208802.00000               207498.700000   \n",
       "3                 212458.00000               182968.550000   \n",
       "4                 104549.00000                96964.040000   \n",
       "\n",
       "   total_credit_count_3months  total_debit_count_3months  \n",
       "0                    7.000000                  22.000000  \n",
       "1                   13.794433                  44.953952  \n",
       "2                   12.000000                  70.000000  \n",
       "3                   16.000000                  23.000000  \n",
       "4                    5.000000                  13.000000  \n",
       "\n",
       "[5 rows x 40 columns]"
      ]
     },
     "execution_count": 36,
     "metadata": {},
     "output_type": "execute_result"
    }
   ],
   "source": [
    "test.head()"
   ]
  },
  {
   "cell_type": "markdown",
   "metadata": {},
   "source": [
    "### Age v/s avg. credit spend for next 3 months"
   ]
  },
  {
   "cell_type": "code",
   "execution_count": 37,
   "metadata": {},
   "outputs": [
    {
     "name": "stderr",
     "output_type": "stream",
     "text": [
      "C:\\Users\\DELL\\Anaconda3\\lib\\site-packages\\scipy\\stats\\stats.py:1713: FutureWarning: Using a non-tuple sequence for multidimensional indexing is deprecated; use `arr[tuple(seq)]` instead of `arr[seq]`. In the future this will be interpreted as an array index, `arr[np.array(seq)]`, which will result either in an error or a different result.\n",
      "  return np.add.reduce(sorted[indexer] * weights, axis=axis) / sumval\n"
     ]
    },
    {
     "data": {
      "text/plain": [
       "<matplotlib.axes._subplots.AxesSubplot at 0x32a5bde128>"
      ]
     },
     "execution_count": 37,
     "metadata": {},
     "output_type": "execute_result"
    },
    {
     "data": {
      "image/png": "[encoded data removed]",
      "text/plain": [
       "<matplotlib.figure.Figure at 0x32a14dbb70>"
      ]
     },
     "metadata": {
      "needs_background": "light"
     },
     "output_type": "display_data"
    }
   ],
   "source": [
    "fig, ax = plt.subplots(figsize = (24, 22))\n",
    "sns.barplot('age','cc_cons', data = train, ax = ax)"
   ]
  },
  {
   "cell_type": "markdown",
   "metadata": {},
   "source": [
    "Since, there is <b>tremendous variation</b> in <b>avg credit card spend</b> due to <b>age</b>. Hence, age becomes an important parameter for modelling"
   ]
  },
  {
   "cell_type": "markdown",
   "metadata": {},
   "source": [
    "### Account type v/s avg. credit spend for next 3 months"
   ]
  },
  {
   "cell_type": "code",
   "execution_count": 38,
   "metadata": {},
   "outputs": [
    {
     "name": "stderr",
     "output_type": "stream",
     "text": [
      "C:\\Users\\DELL\\Anaconda3\\lib\\site-packages\\scipy\\stats\\stats.py:1713: FutureWarning: Using a non-tuple sequence for multidimensional indexing is deprecated; use `arr[tuple(seq)]` instead of `arr[seq]`. In the future this will be interpreted as an array index, `arr[np.array(seq)]`, which will result either in an error or a different result.\n",
      "  return np.add.reduce(sorted[indexer] * weights, axis=axis) / sumval\n"
     ]
    },
    {
     "data": {
      "text/plain": [
       "<matplotlib.axes._subplots.AxesSubplot at 0x32a2dbfc18>"
      ]
     },
     "execution_count": 38,
     "metadata": {},
     "output_type": "execute_result"
    },
    {
     "data": {
      "image/png": "[encoded data removed]",
      "text/plain": [
       "<matplotlib.figure.Figure at 0x32a2e1d588>"
      ]
     },
     "metadata": {
      "needs_background": "light"
     },
     "output_type": "display_data"
    }
   ],
   "source": [
    "sns.barplot('account_type','cc_cons', data = train)"
   ]
  },
  {
   "cell_type": "markdown",
   "metadata": {},
   "source": [
    "Let's do a scatter plot of <b>total credit spend </b> and <b>total debit spend</b> for last 3 months with avg credit spend in next 3 months"
   ]
  },
  {
   "cell_type": "markdown",
   "metadata": {},
   "source": [
    "### Credit spend for last 3 months v/s avg. credit spend of next 3 months"
   ]
  },
  {
   "cell_type": "code",
   "execution_count": 39,
   "metadata": {},
   "outputs": [
    {
     "data": {
      "image/png": "[encoded data removed]",
      "text/plain": [
       "<matplotlib.figure.Figure at 0x32a2ecf978>"
      ]
     },
     "metadata": {
      "needs_background": "light"
     },
     "output_type": "display_data"
    }
   ],
   "source": [
    "g = sns.FacetGrid(train, col=\"account_type\", hue = \"gender\", palette=\"Set1\", col_wrap=2, size = 4)\n",
    "g.map(plt.scatter, 'cc_cons', 'total_credit_spend_3months', alpha = 0.7)\n",
    "\n",
    "g.axes[-1].legend()\n",
    "\n",
    "plt.subplots_adjust(top = 0.8)\n",
    "g.fig.suptitle('Credit Spend for last 3 months v/s avg. credit spend of next 3 months')\n",
    "\n",
    "#Change Titles\n",
    "axes = g.axes.flatten()\n",
    "axes[0].set_title(\"Savings Account\")\n",
    "axes[1].set_title(\"Current Account\")\n",
    "\n",
    "plt.show()"
   ]
  },
  {
   "cell_type": "markdown",
   "metadata": {},
   "source": [
    "### Debit Spend for last 3 months v/s avg. credit spend of next 3 months"
   ]
  },
  {
   "cell_type": "code",
   "execution_count": 40,
   "metadata": {},
   "outputs": [
    {
     "data": {
      "image/png": "[encoded data removed]",
      "text/plain": [
       "<matplotlib.figure.Figure at 0x32a2f38320>"
      ]
     },
     "metadata": {
      "needs_background": "light"
     },
     "output_type": "display_data"
    }
   ],
   "source": [
    "g1 = sns.FacetGrid(train, col=\"account_type\", hue = \"gender\", palette=\"Set1\", col_wrap=2, size = 4)\n",
    "g1.map(plt.scatter, 'cc_cons', 'total_debit_spend_3months', alpha = 0.7)\n",
    "\n",
    "plt.subplots_adjust(top = 0.8)\n",
    "g1.fig.suptitle('Debit Spend for last 3 months v/s avg. credit spend of next 3 months')\n",
    "\n",
    "#Change Titles\n",
    "axes = g1.axes.flatten()\n",
    "axes[0].set_title(\"Savings Account\")\n",
    "axes[1].set_title(\"Current Account\")\n",
    "\n",
    "g1.axes[-1].legend()\n",
    "plt.show()"
   ]
  },
  {
   "cell_type": "markdown",
   "metadata": {},
   "source": [
    "Scatter plots show relationship b/w the parameters hence they become important for modeling"
   ]
  },
  {
   "cell_type": "markdown",
   "metadata": {},
   "source": [
    "### Plotting for credit amounts v/s avg. credit spend for next three months"
   ]
  },
  {
   "cell_type": "code",
   "execution_count": 41,
   "metadata": {},
   "outputs": [
    {
     "data": {
      "image/png": "[encoded data removed]",
      "text/plain": [
       "<matplotlib.figure.Figure at 0x32a3076e10>"
      ]
     },
     "metadata": {
      "needs_background": "light"
     },
     "output_type": "display_data"
    }
   ],
   "source": [
    "g2 = sns.FacetGrid(train, col=\"account_type\", hue = \"gender\", palette=\"Set1\", col_wrap=2, size = 4)\n",
    "g2.map(plt.scatter, 'cc_cons', 'total_credit_amount_3months', alpha = 0.7)\n",
    "\n",
    "plt.subplots_adjust(top = 0.8)\n",
    "g2.fig.suptitle('Total Credit amount for last 3 months v/s avg. credit spend of next 3 months')\n",
    "\n",
    "#Change Titles\n",
    "axes = g2.axes.flatten()\n",
    "axes[0].set_title(\"Savings Account\")\n",
    "axes[1].set_title(\"Current Account\")\n",
    "\n",
    "g2.axes[-1].legend()\n",
    "plt.show()"
   ]
  },
  {
   "cell_type": "markdown",
   "metadata": {},
   "source": [
    "Total credit amount v/s cc_cons show a non-linear relationship. "
   ]
  },
  {
   "cell_type": "markdown",
   "metadata": {},
   "source": [
    "### Plotting for debit amounts v/s avg. credit spend for next three months"
   ]
  },
  {
   "cell_type": "code",
   "execution_count": 42,
   "metadata": {},
   "outputs": [
    {
     "data": {
      "image/png": "[encoded data removed]",
      "text/plain": [
       "<matplotlib.figure.Figure at 0x32a554eac8>"
      ]
     },
     "metadata": {
      "needs_background": "light"
     },
     "output_type": "display_data"
    }
   ],
   "source": [
    "g3 = sns.FacetGrid(train, col=\"account_type\", hue = \"gender\", palette=\"Set1\", col_wrap=2, size = 4)\n",
    "g3.map(plt.scatter, 'cc_cons', 'total_debit_amount_3months', alpha = 0.7)\n",
    "\n",
    "plt.subplots_adjust(top = 0.8)\n",
    "g3.fig.suptitle('Total debit amount for last 3 months v/s avg. credit spend of next 3 months')\n",
    "\n",
    "#Change Titles\n",
    "axes = g3.axes.flatten()\n",
    "axes[0].set_title(\"Savings Account\")\n",
    "axes[1].set_title(\"Current Account\")\n",
    "\n",
    "g3.axes[-1].legend()\n",
    "plt.show()"
   ]
  },
  {
   "cell_type": "markdown",
   "metadata": {},
   "source": [
    "Similarly, even debit amount v/s cc_cons follows a non-linear relationship"
   ]
  },
  {
   "cell_type": "markdown",
   "metadata": {},
   "source": [
    "### Plotting for credit counts v/s avg. credit spend for next three months"
   ]
  },
  {
   "cell_type": "code",
   "execution_count": 43,
   "metadata": {},
   "outputs": [
    {
     "data": {
      "image/png": "[encoded data removed]",
      "text/plain": [
       "<matplotlib.figure.Figure at 0x32a55672e8>"
      ]
     },
     "metadata": {
      "needs_background": "light"
     },
     "output_type": "display_data"
    }
   ],
   "source": [
    "g4 = sns.FacetGrid(train, col=\"account_type\", hue = \"gender\", palette=\"Set1\", col_wrap=2, size = 4)\n",
    "g4.map(plt.scatter, 'cc_cons', 'total_credit_count_3months', alpha = 0.7)\n",
    "\n",
    "plt.subplots_adjust(top = 0.8)\n",
    "g4.fig.suptitle('Total credit counts for last 3 months v/s avg. credit spend of next 3 months')\n",
    "\n",
    "#Change Titles\n",
    "axes = g4.axes.flatten()\n",
    "axes[0].set_title(\"Savings Account\")\n",
    "axes[1].set_title(\"Current Account\")\n",
    "\n",
    "g4.axes[-1].legend()\n",
    "plt.show()"
   ]
  },
  {
   "cell_type": "markdown",
   "metadata": {},
   "source": [
    "A <b>linear relationship</b> can be observed b/w the parameters: total credit count v/s avg. spend for next 3 months"
   ]
  },
  {
   "cell_type": "markdown",
   "metadata": {},
   "source": [
    "### Plotting for debit counts v/s avg. credit spend for next three months"
   ]
  },
  {
   "cell_type": "code",
   "execution_count": 44,
   "metadata": {},
   "outputs": [
    {
     "data": {
      "image/png": "[encoded data removed]",
      "text/plain": [
       "<matplotlib.figure.Figure at 0x32a3554be0>"
      ]
     },
     "metadata": {
      "needs_background": "light"
     },
     "output_type": "display_data"
    }
   ],
   "source": [
    "g5 = sns.FacetGrid(train, col=\"account_type\", hue = \"gender\", palette=\"Set1\", col_wrap=2, size = 4)\n",
    "g5.map(plt.scatter, 'cc_cons', 'total_debit_count_3months', alpha = 0.7)\n",
    "\n",
    "plt.subplots_adjust(top = 0.8)\n",
    "g5.fig.suptitle('Total debit counts for last 3 months v/s avg. credit spend of next 3 months')\n",
    "\n",
    "#Change Titles\n",
    "axes = g5.axes.flatten()\n",
    "axes[0].set_title(\"Savings Account\")\n",
    "axes[1].set_title(\"Current Account\")\n",
    "\n",
    "g5.axes[-1].legend()\n",
    "plt.show()"
   ]
  },
  {
   "cell_type": "markdown",
   "metadata": {},
   "source": [
    "Similarly, a <b>linear relationship</b> can also be observed b/w the parameters: total debit count v/s avg. spend for next 3 months"
   ]
  },
  {
   "cell_type": "markdown",
   "metadata": {},
   "source": [
    "### Plotting card limit v/s avg. spend for next 3 months"
   ]
  },
  {
   "cell_type": "code",
   "execution_count": 45,
   "metadata": {},
   "outputs": [
    {
     "name": "stderr",
     "output_type": "stream",
     "text": [
      "C:\\Users\\DELL\\Anaconda3\\lib\\site-packages\\scipy\\stats\\stats.py:1713: FutureWarning: Using a non-tuple sequence for multidimensional indexing is deprecated; use `arr[tuple(seq)]` instead of `arr[seq]`. In the future this will be interpreted as an array index, `arr[np.array(seq)]`, which will result either in an error or a different result.\n",
      "  return np.add.reduce(sorted[indexer] * weights, axis=axis) / sumval\n"
     ]
    },
    {
     "data": {
      "text/plain": [
       "<matplotlib.axes._subplots.AxesSubplot at 0x32a2fa0400>"
      ]
     },
     "execution_count": 45,
     "metadata": {},
     "output_type": "execute_result"
    },
    {
     "data": {
      "image/png": "[encoded data removed]",
      "text/plain": [
       "<matplotlib.figure.Figure at 0x32a2f650f0>"
      ]
     },
     "metadata": {
      "needs_background": "light"
     },
     "output_type": "display_data"
    }
   ],
   "source": [
    "sns.regplot(x = 'card_lim', y = 'cc_cons', data = train)"
   ]
  },
  {
   "cell_type": "code",
   "execution_count": 46,
   "metadata": {},
   "outputs": [
    {
     "data": {
      "text/html": [
       "<div>\n",
       "<style scoped>\n",
       "    .dataframe tbody tr th:only-of-type {\n",
       "        vertical-align: middle;\n",
       "    }\n",
       "\n",
       "    .dataframe tbody tr th {\n",
       "        vertical-align: top;\n",
       "    }\n",
       "\n",
       "    .dataframe thead th {\n",
       "        text-align: right;\n",
       "    }\n",
       "</style>\n",
       "<table border=\"1\" class=\"dataframe\">\n",
       "  <thead>\n",
       "    <tr style=\"text-align: right;\">\n",
       "      <th></th>\n",
       "      <th>card_lim</th>\n",
       "      <th>cc_cons</th>\n",
       "    </tr>\n",
       "  </thead>\n",
       "  <tbody>\n",
       "    <tr>\n",
       "      <th>card_lim</th>\n",
       "      <td>1.000000</td>\n",
       "      <td>0.265348</td>\n",
       "    </tr>\n",
       "    <tr>\n",
       "      <th>cc_cons</th>\n",
       "      <td>0.265348</td>\n",
       "      <td>1.000000</td>\n",
       "    </tr>\n",
       "  </tbody>\n",
       "</table>\n",
       "</div>"
      ],
      "text/plain": [
       "          card_lim   cc_cons\n",
       "card_lim  1.000000  0.265348\n",
       "cc_cons   0.265348  1.000000"
      ]
     },
     "execution_count": 46,
     "metadata": {},
     "output_type": "execute_result"
    }
   ],
   "source": [
    "train[[\"card_lim\", \"cc_cons\"]].corr()"
   ]
  },
  {
   "cell_type": "markdown",
   "metadata": {},
   "source": [
    "### Plotting emi active v/s avg. spend for next 3 months"
   ]
  },
  {
   "cell_type": "code",
   "execution_count": 47,
   "metadata": {},
   "outputs": [
    {
     "name": "stderr",
     "output_type": "stream",
     "text": [
      "C:\\Users\\DELL\\Anaconda3\\lib\\site-packages\\scipy\\stats\\stats.py:1713: FutureWarning: Using a non-tuple sequence for multidimensional indexing is deprecated; use `arr[tuple(seq)]` instead of `arr[seq]`. In the future this will be interpreted as an array index, `arr[np.array(seq)]`, which will result either in an error or a different result.\n",
      "  return np.add.reduce(sorted[indexer] * weights, axis=axis) / sumval\n"
     ]
    },
    {
     "data": {
      "text/plain": [
       "<matplotlib.axes._subplots.AxesSubplot at 0x32a359a2b0>"
      ]
     },
     "execution_count": 47,
     "metadata": {},
     "output_type": "execute_result"
    },
    {
     "data": {
      "image/png": "[encoded data removed]",
      "text/plain": [
       "<matplotlib.figure.Figure at 0x32a534f9e8>"
      ]
     },
     "metadata": {
      "needs_background": "light"
     },
     "output_type": "display_data"
    }
   ],
   "source": [
    "sns.regplot(x = 'emi_active', y = 'cc_cons', data = train)"
   ]
  },
  {
   "cell_type": "code",
   "execution_count": 48,
   "metadata": {},
   "outputs": [
    {
     "data": {
      "text/html": [
       "<div>\n",
       "<style scoped>\n",
       "    .dataframe tbody tr th:only-of-type {\n",
       "        vertical-align: middle;\n",
       "    }\n",
       "\n",
       "    .dataframe tbody tr th {\n",
       "        vertical-align: top;\n",
       "    }\n",
       "\n",
       "    .dataframe thead th {\n",
       "        text-align: right;\n",
       "    }\n",
       "</style>\n",
       "<table border=\"1\" class=\"dataframe\">\n",
       "  <thead>\n",
       "    <tr style=\"text-align: right;\">\n",
       "      <th></th>\n",
       "      <th>emi_active</th>\n",
       "      <th>cc_cons</th>\n",
       "    </tr>\n",
       "  </thead>\n",
       "  <tbody>\n",
       "    <tr>\n",
       "      <th>emi_active</th>\n",
       "      <td>1.00000</td>\n",
       "      <td>0.06934</td>\n",
       "    </tr>\n",
       "    <tr>\n",
       "      <th>cc_cons</th>\n",
       "      <td>0.06934</td>\n",
       "      <td>1.00000</td>\n",
       "    </tr>\n",
       "  </tbody>\n",
       "</table>\n",
       "</div>"
      ],
      "text/plain": [
       "            emi_active  cc_cons\n",
       "emi_active     1.00000  0.06934\n",
       "cc_cons        0.06934  1.00000"
      ]
     },
     "execution_count": 48,
     "metadata": {},
     "output_type": "execute_result"
    }
   ],
   "source": [
    "train[[\"emi_active\", \"cc_cons\"]].corr()"
   ]
  },
  {
   "cell_type": "markdown",
   "metadata": {},
   "source": [
    "# Modeling"
   ]
  },
  {
   "cell_type": "markdown",
   "metadata": {},
   "source": [
    "### Preparing train and test data"
   ]
  },
  {
   "cell_type": "markdown",
   "metadata": {},
   "source": [
    "<b>Let's merge train and test"
   ]
  },
  {
   "cell_type": "code",
   "execution_count": 49,
   "metadata": {},
   "outputs": [],
   "source": [
    "data = pd.concat([train, test], ignore_index=True)"
   ]
  },
  {
   "cell_type": "code",
   "execution_count": 50,
   "metadata": {},
   "outputs": [
    {
     "data": {
      "text/html": [
       "<div>\n",
       "<style scoped>\n",
       "    .dataframe tbody tr th:only-of-type {\n",
       "        vertical-align: middle;\n",
       "    }\n",
       "\n",
       "    .dataframe tbody tr th {\n",
       "        vertical-align: top;\n",
       "    }\n",
       "\n",
       "    .dataframe thead th {\n",
       "        text-align: right;\n",
       "    }\n",
       "</style>\n",
       "<table border=\"1\" class=\"dataframe\">\n",
       "  <thead>\n",
       "    <tr style=\"text-align: right;\">\n",
       "      <th></th>\n",
       "      <th>account_type</th>\n",
       "      <th>age</th>\n",
       "      <th>card_lim</th>\n",
       "      <th>cc_cons</th>\n",
       "      <th>cc_cons_apr</th>\n",
       "      <th>cc_cons_jun</th>\n",
       "      <th>cc_cons_may</th>\n",
       "      <th>cc_count_apr</th>\n",
       "      <th>cc_count_jun</th>\n",
       "      <th>cc_count_may</th>\n",
       "      <th>...</th>\n",
       "      <th>max_credit_amount_apr</th>\n",
       "      <th>max_credit_amount_jun</th>\n",
       "      <th>max_credit_amount_may</th>\n",
       "      <th>region_code</th>\n",
       "      <th>total_credit_amount_3months</th>\n",
       "      <th>total_credit_count_3months</th>\n",
       "      <th>total_credit_spend_3months</th>\n",
       "      <th>total_debit_amount_3months</th>\n",
       "      <th>total_debit_count_3months</th>\n",
       "      <th>total_debit_spend_3months</th>\n",
       "    </tr>\n",
       "  </thead>\n",
       "  <tbody>\n",
       "    <tr>\n",
       "      <th>0</th>\n",
       "      <td>saving</td>\n",
       "      <td>63</td>\n",
       "      <td>150000.0</td>\n",
       "      <td>435.0</td>\n",
       "      <td>7695.00</td>\n",
       "      <td>622.0</td>\n",
       "      <td>479.00</td>\n",
       "      <td>2.0</td>\n",
       "      <td>3.0</td>\n",
       "      <td>1.0</td>\n",
       "      <td>...</td>\n",
       "      <td>50000.0</td>\n",
       "      <td>470.0</td>\n",
       "      <td>45000.0</td>\n",
       "      <td>305</td>\n",
       "      <td>165790.37</td>\n",
       "      <td>11.0</td>\n",
       "      <td>8796.00</td>\n",
       "      <td>96161.54</td>\n",
       "      <td>8.0</td>\n",
       "      <td>16029.836161</td>\n",
       "    </tr>\n",
       "    <tr>\n",
       "      <th>1</th>\n",
       "      <td>current</td>\n",
       "      <td>33</td>\n",
       "      <td>176000.0</td>\n",
       "      <td>1921.0</td>\n",
       "      <td>52702.00</td>\n",
       "      <td>1087.0</td>\n",
       "      <td>29873.00</td>\n",
       "      <td>11.0</td>\n",
       "      <td>11.0</td>\n",
       "      <td>14.0</td>\n",
       "      <td>...</td>\n",
       "      <td>70000.0</td>\n",
       "      <td>27000.0</td>\n",
       "      <td>150000.0</td>\n",
       "      <td>326</td>\n",
       "      <td>399808.00</td>\n",
       "      <td>23.0</td>\n",
       "      <td>83662.00</td>\n",
       "      <td>384191.27</td>\n",
       "      <td>49.0</td>\n",
       "      <td>9430.466904</td>\n",
       "    </tr>\n",
       "    <tr>\n",
       "      <th>2</th>\n",
       "      <td>current</td>\n",
       "      <td>44</td>\n",
       "      <td>65000.0</td>\n",
       "      <td>1970.0</td>\n",
       "      <td>10800.49</td>\n",
       "      <td>1168.0</td>\n",
       "      <td>21659.64</td>\n",
       "      <td>6.0</td>\n",
       "      <td>6.0</td>\n",
       "      <td>9.0</td>\n",
       "      <td>...</td>\n",
       "      <td>11700.0</td>\n",
       "      <td>20800.0</td>\n",
       "      <td>13800.0</td>\n",
       "      <td>264</td>\n",
       "      <td>91290.91</td>\n",
       "      <td>12.0</td>\n",
       "      <td>33628.13</td>\n",
       "      <td>113594.55</td>\n",
       "      <td>42.0</td>\n",
       "      <td>5177.520000</td>\n",
       "    </tr>\n",
       "    <tr>\n",
       "      <th>3</th>\n",
       "      <td>saving</td>\n",
       "      <td>44</td>\n",
       "      <td>600000.0</td>\n",
       "      <td>21579.0</td>\n",
       "      <td>20936.00</td>\n",
       "      <td>11778.5</td>\n",
       "      <td>2094.00</td>\n",
       "      <td>9.0</td>\n",
       "      <td>6.0</td>\n",
       "      <td>6.0</td>\n",
       "      <td>...</td>\n",
       "      <td>2000.0</td>\n",
       "      <td>5300.0</td>\n",
       "      <td>19300.0</td>\n",
       "      <td>233</td>\n",
       "      <td>29367.00</td>\n",
       "      <td>5.0</td>\n",
       "      <td>34808.50</td>\n",
       "      <td>26768.86</td>\n",
       "      <td>4.0</td>\n",
       "      <td>16029.836161</td>\n",
       "    </tr>\n",
       "    <tr>\n",
       "      <th>4</th>\n",
       "      <td>saving</td>\n",
       "      <td>35</td>\n",
       "      <td>100000.0</td>\n",
       "      <td>1814.0</td>\n",
       "      <td>1183.83</td>\n",
       "      <td>945.0</td>\n",
       "      <td>3656.29</td>\n",
       "      <td>2.0</td>\n",
       "      <td>9.0</td>\n",
       "      <td>7.0</td>\n",
       "      <td>...</td>\n",
       "      <td>10000.0</td>\n",
       "      <td>45000.0</td>\n",
       "      <td>3000.0</td>\n",
       "      <td>324</td>\n",
       "      <td>66948.00</td>\n",
       "      <td>7.0</td>\n",
       "      <td>5785.12</td>\n",
       "      <td>40101.05</td>\n",
       "      <td>13.0</td>\n",
       "      <td>16029.836161</td>\n",
       "    </tr>\n",
       "  </tbody>\n",
       "</table>\n",
       "<p>5 rows × 41 columns</p>\n",
       "</div>"
      ],
      "text/plain": [
       "  account_type  age  card_lim  cc_cons  cc_cons_apr  cc_cons_jun  cc_cons_may  \\\n",
       "0       saving   63  150000.0    435.0      7695.00        622.0       479.00   \n",
       "1      current   33  176000.0   1921.0     52702.00       1087.0     29873.00   \n",
       "2      current   44   65000.0   1970.0     10800.49       1168.0     21659.64   \n",
       "3       saving   44  600000.0  21579.0     20936.00      11778.5      2094.00   \n",
       "4       saving   35  100000.0   1814.0      1183.83        945.0      3656.29   \n",
       "\n",
       "   cc_count_apr  cc_count_jun  cc_count_may            ...              \\\n",
       "0           2.0           3.0           1.0            ...               \n",
       "1          11.0          11.0          14.0            ...               \n",
       "2           6.0           6.0           9.0            ...               \n",
       "3           9.0           6.0           6.0            ...               \n",
       "4           2.0           9.0           7.0            ...               \n",
       "\n",
       "   max_credit_amount_apr  max_credit_amount_jun  max_credit_amount_may  \\\n",
       "0                50000.0                  470.0                45000.0   \n",
       "1                70000.0                27000.0               150000.0   \n",
       "2                11700.0                20800.0                13800.0   \n",
       "3                 2000.0                 5300.0                19300.0   \n",
       "4                10000.0                45000.0                 3000.0   \n",
       "\n",
       "   region_code  total_credit_amount_3months  total_credit_count_3months  \\\n",
       "0          305                    165790.37                        11.0   \n",
       "1          326                    399808.00                        23.0   \n",
       "2          264                     91290.91                        12.0   \n",
       "3          233                     29367.00                         5.0   \n",
       "4          324                     66948.00                         7.0   \n",
       "\n",
       "   total_credit_spend_3months  total_debit_amount_3months  \\\n",
       "0                     8796.00                    96161.54   \n",
       "1                    83662.00                   384191.27   \n",
       "2                    33628.13                   113594.55   \n",
       "3                    34808.50                    26768.86   \n",
       "4                     5785.12                    40101.05   \n",
       "\n",
       "   total_debit_count_3months  total_debit_spend_3months  \n",
       "0                        8.0               16029.836161  \n",
       "1                       49.0                9430.466904  \n",
       "2                       42.0                5177.520000  \n",
       "3                        4.0               16029.836161  \n",
       "4                       13.0               16029.836161  \n",
       "\n",
       "[5 rows x 41 columns]"
      ]
     },
     "execution_count": 50,
     "metadata": {},
     "output_type": "execute_result"
    }
   ],
   "source": [
    "data.head()"
   ]
  },
  {
   "cell_type": "code",
   "execution_count": 51,
   "metadata": {},
   "outputs": [
    {
     "data": {
      "text/plain": [
       "Index(['account_type', 'age', 'card_lim', 'cc_cons', 'cc_cons_apr',\n",
       "       'cc_cons_jun', 'cc_cons_may', 'cc_count_apr', 'cc_count_jun',\n",
       "       'cc_count_may', 'credit_amount_apr', 'credit_amount_jun',\n",
       "       'credit_amount_may', 'credit_count_apr', 'credit_count_jun',\n",
       "       'credit_count_may', 'dc_cons_apr', 'dc_cons_jun', 'dc_cons_may',\n",
       "       'dc_count_apr', 'dc_count_jun', 'dc_count_may', 'debit_amount_apr',\n",
       "       'debit_amount_jun', 'debit_amount_may', 'debit_count_apr',\n",
       "       'debit_count_jun', 'debit_count_may', 'emi_active', 'gender', 'id',\n",
       "       'max_credit_amount_apr', 'max_credit_amount_jun',\n",
       "       'max_credit_amount_may', 'region_code', 'total_credit_amount_3months',\n",
       "       'total_credit_count_3months', 'total_credit_spend_3months',\n",
       "       'total_debit_amount_3months', 'total_debit_count_3months',\n",
       "       'total_debit_spend_3months'],\n",
       "      dtype='object')"
      ]
     },
     "execution_count": 51,
     "metadata": {},
     "output_type": "execute_result"
    }
   ],
   "source": [
    "data.columns"
   ]
  },
  {
   "cell_type": "markdown",
   "metadata": {},
   "source": [
    "#### Let's convert all categorical variable to numerical using ONE HOT ENCODING"
   ]
  },
  {
   "cell_type": "code",
   "execution_count": 52,
   "metadata": {},
   "outputs": [],
   "source": [
    "data_onehot = data[['gender','account_type']]"
   ]
  },
  {
   "cell_type": "code",
   "execution_count": 53,
   "metadata": {},
   "outputs": [],
   "source": [
    "from sklearn.preprocessing import OneHotEncoder\n",
    "\n",
    "enc = OneHotEncoder(sparse = False)"
   ]
  },
  {
   "cell_type": "code",
   "execution_count": 54,
   "metadata": {},
   "outputs": [
    {
     "data": {
      "text/plain": [
       "OneHotEncoder(categorical_features=None, categories=None,\n",
       "       dtype=<class 'numpy.float64'>, handle_unknown='error',\n",
       "       n_values=None, sparse=False)"
      ]
     },
     "execution_count": 54,
     "metadata": {},
     "output_type": "execute_result"
    }
   ],
   "source": [
    "enc.fit(data_onehot)"
   ]
  },
  {
   "cell_type": "code",
   "execution_count": 55,
   "metadata": {},
   "outputs": [],
   "source": [
    "data_onehot_transformed = enc.transform(data_onehot)"
   ]
  },
  {
   "cell_type": "markdown",
   "metadata": {},
   "source": [
    "Converting the returned array into a DF"
   ]
  },
  {
   "cell_type": "code",
   "execution_count": 56,
   "metadata": {},
   "outputs": [],
   "source": [
    "data2 = pd.DataFrame(data_onehot_transformed, columns = ['Male', 'Female', 'Savings_account','Current_account'])"
   ]
  },
  {
   "cell_type": "code",
   "execution_count": 57,
   "metadata": {},
   "outputs": [
    {
     "data": {
      "text/html": [
       "<div>\n",
       "<style scoped>\n",
       "    .dataframe tbody tr th:only-of-type {\n",
       "        vertical-align: middle;\n",
       "    }\n",
       "\n",
       "    .dataframe tbody tr th {\n",
       "        vertical-align: top;\n",
       "    }\n",
       "\n",
       "    .dataframe thead th {\n",
       "        text-align: right;\n",
       "    }\n",
       "</style>\n",
       "<table border=\"1\" class=\"dataframe\">\n",
       "  <thead>\n",
       "    <tr style=\"text-align: right;\">\n",
       "      <th></th>\n",
       "      <th>Male</th>\n",
       "      <th>Female</th>\n",
       "      <th>Savings_account</th>\n",
       "      <th>Current_account</th>\n",
       "    </tr>\n",
       "  </thead>\n",
       "  <tbody>\n",
       "    <tr>\n",
       "      <th>0</th>\n",
       "      <td>0.0</td>\n",
       "      <td>1.0</td>\n",
       "      <td>0.0</td>\n",
       "      <td>1.0</td>\n",
       "    </tr>\n",
       "    <tr>\n",
       "      <th>1</th>\n",
       "      <td>0.0</td>\n",
       "      <td>1.0</td>\n",
       "      <td>1.0</td>\n",
       "      <td>0.0</td>\n",
       "    </tr>\n",
       "    <tr>\n",
       "      <th>2</th>\n",
       "      <td>0.0</td>\n",
       "      <td>1.0</td>\n",
       "      <td>1.0</td>\n",
       "      <td>0.0</td>\n",
       "    </tr>\n",
       "    <tr>\n",
       "      <th>3</th>\n",
       "      <td>0.0</td>\n",
       "      <td>1.0</td>\n",
       "      <td>0.0</td>\n",
       "      <td>1.0</td>\n",
       "    </tr>\n",
       "    <tr>\n",
       "      <th>4</th>\n",
       "      <td>1.0</td>\n",
       "      <td>0.0</td>\n",
       "      <td>0.0</td>\n",
       "      <td>1.0</td>\n",
       "    </tr>\n",
       "  </tbody>\n",
       "</table>\n",
       "</div>"
      ],
      "text/plain": [
       "   Male  Female  Savings_account  Current_account\n",
       "0   0.0     1.0              0.0              1.0\n",
       "1   0.0     1.0              1.0              0.0\n",
       "2   0.0     1.0              1.0              0.0\n",
       "3   0.0     1.0              0.0              1.0\n",
       "4   1.0     0.0              0.0              1.0"
      ]
     },
     "execution_count": 57,
     "metadata": {},
     "output_type": "execute_result"
    }
   ],
   "source": [
    "data2.head()"
   ]
  },
  {
   "cell_type": "code",
   "execution_count": 58,
   "metadata": {},
   "outputs": [],
   "source": [
    "data = pd.concat([data, data2], axis = 1)"
   ]
  },
  {
   "cell_type": "code",
   "execution_count": 59,
   "metadata": {},
   "outputs": [
    {
     "data": {
      "text/html": [
       "<div>\n",
       "<style scoped>\n",
       "    .dataframe tbody tr th:only-of-type {\n",
       "        vertical-align: middle;\n",
       "    }\n",
       "\n",
       "    .dataframe tbody tr th {\n",
       "        vertical-align: top;\n",
       "    }\n",
       "\n",
       "    .dataframe thead th {\n",
       "        text-align: right;\n",
       "    }\n",
       "</style>\n",
       "<table border=\"1\" class=\"dataframe\">\n",
       "  <thead>\n",
       "    <tr style=\"text-align: right;\">\n",
       "      <th></th>\n",
       "      <th>account_type</th>\n",
       "      <th>age</th>\n",
       "      <th>card_lim</th>\n",
       "      <th>cc_cons</th>\n",
       "      <th>cc_cons_apr</th>\n",
       "      <th>cc_cons_jun</th>\n",
       "      <th>cc_cons_may</th>\n",
       "      <th>cc_count_apr</th>\n",
       "      <th>cc_count_jun</th>\n",
       "      <th>cc_count_may</th>\n",
       "      <th>...</th>\n",
       "      <th>total_credit_amount_3months</th>\n",
       "      <th>total_credit_count_3months</th>\n",
       "      <th>total_credit_spend_3months</th>\n",
       "      <th>total_debit_amount_3months</th>\n",
       "      <th>total_debit_count_3months</th>\n",
       "      <th>total_debit_spend_3months</th>\n",
       "      <th>Male</th>\n",
       "      <th>Female</th>\n",
       "      <th>Savings_account</th>\n",
       "      <th>Current_account</th>\n",
       "    </tr>\n",
       "  </thead>\n",
       "  <tbody>\n",
       "    <tr>\n",
       "      <th>0</th>\n",
       "      <td>saving</td>\n",
       "      <td>63</td>\n",
       "      <td>150000.0</td>\n",
       "      <td>435.0</td>\n",
       "      <td>7695.00</td>\n",
       "      <td>622.0</td>\n",
       "      <td>479.00</td>\n",
       "      <td>2.0</td>\n",
       "      <td>3.0</td>\n",
       "      <td>1.0</td>\n",
       "      <td>...</td>\n",
       "      <td>165790.37</td>\n",
       "      <td>11.0</td>\n",
       "      <td>8796.00</td>\n",
       "      <td>96161.54</td>\n",
       "      <td>8.0</td>\n",
       "      <td>16029.836161</td>\n",
       "      <td>0.0</td>\n",
       "      <td>1.0</td>\n",
       "      <td>0.0</td>\n",
       "      <td>1.0</td>\n",
       "    </tr>\n",
       "    <tr>\n",
       "      <th>1</th>\n",
       "      <td>current</td>\n",
       "      <td>33</td>\n",
       "      <td>176000.0</td>\n",
       "      <td>1921.0</td>\n",
       "      <td>52702.00</td>\n",
       "      <td>1087.0</td>\n",
       "      <td>29873.00</td>\n",
       "      <td>11.0</td>\n",
       "      <td>11.0</td>\n",
       "      <td>14.0</td>\n",
       "      <td>...</td>\n",
       "      <td>399808.00</td>\n",
       "      <td>23.0</td>\n",
       "      <td>83662.00</td>\n",
       "      <td>384191.27</td>\n",
       "      <td>49.0</td>\n",
       "      <td>9430.466904</td>\n",
       "      <td>0.0</td>\n",
       "      <td>1.0</td>\n",
       "      <td>1.0</td>\n",
       "      <td>0.0</td>\n",
       "    </tr>\n",
       "    <tr>\n",
       "      <th>2</th>\n",
       "      <td>current</td>\n",
       "      <td>44</td>\n",
       "      <td>65000.0</td>\n",
       "      <td>1970.0</td>\n",
       "      <td>10800.49</td>\n",
       "      <td>1168.0</td>\n",
       "      <td>21659.64</td>\n",
       "      <td>6.0</td>\n",
       "      <td>6.0</td>\n",
       "      <td>9.0</td>\n",
       "      <td>...</td>\n",
       "      <td>91290.91</td>\n",
       "      <td>12.0</td>\n",
       "      <td>33628.13</td>\n",
       "      <td>113594.55</td>\n",
       "      <td>42.0</td>\n",
       "      <td>5177.520000</td>\n",
       "      <td>0.0</td>\n",
       "      <td>1.0</td>\n",
       "      <td>1.0</td>\n",
       "      <td>0.0</td>\n",
       "    </tr>\n",
       "    <tr>\n",
       "      <th>3</th>\n",
       "      <td>saving</td>\n",
       "      <td>44</td>\n",
       "      <td>600000.0</td>\n",
       "      <td>21579.0</td>\n",
       "      <td>20936.00</td>\n",
       "      <td>11778.5</td>\n",
       "      <td>2094.00</td>\n",
       "      <td>9.0</td>\n",
       "      <td>6.0</td>\n",
       "      <td>6.0</td>\n",
       "      <td>...</td>\n",
       "      <td>29367.00</td>\n",
       "      <td>5.0</td>\n",
       "      <td>34808.50</td>\n",
       "      <td>26768.86</td>\n",
       "      <td>4.0</td>\n",
       "      <td>16029.836161</td>\n",
       "      <td>0.0</td>\n",
       "      <td>1.0</td>\n",
       "      <td>0.0</td>\n",
       "      <td>1.0</td>\n",
       "    </tr>\n",
       "    <tr>\n",
       "      <th>4</th>\n",
       "      <td>saving</td>\n",
       "      <td>35</td>\n",
       "      <td>100000.0</td>\n",
       "      <td>1814.0</td>\n",
       "      <td>1183.83</td>\n",
       "      <td>945.0</td>\n",
       "      <td>3656.29</td>\n",
       "      <td>2.0</td>\n",
       "      <td>9.0</td>\n",
       "      <td>7.0</td>\n",
       "      <td>...</td>\n",
       "      <td>66948.00</td>\n",
       "      <td>7.0</td>\n",
       "      <td>5785.12</td>\n",
       "      <td>40101.05</td>\n",
       "      <td>13.0</td>\n",
       "      <td>16029.836161</td>\n",
       "      <td>1.0</td>\n",
       "      <td>0.0</td>\n",
       "      <td>0.0</td>\n",
       "      <td>1.0</td>\n",
       "    </tr>\n",
       "  </tbody>\n",
       "</table>\n",
       "<p>5 rows × 45 columns</p>\n",
       "</div>"
      ],
      "text/plain": [
       "  account_type  age  card_lim  cc_cons  cc_cons_apr  cc_cons_jun  cc_cons_may  \\\n",
       "0       saving   63  150000.0    435.0      7695.00        622.0       479.00   \n",
       "1      current   33  176000.0   1921.0     52702.00       1087.0     29873.00   \n",
       "2      current   44   65000.0   1970.0     10800.49       1168.0     21659.64   \n",
       "3       saving   44  600000.0  21579.0     20936.00      11778.5      2094.00   \n",
       "4       saving   35  100000.0   1814.0      1183.83        945.0      3656.29   \n",
       "\n",
       "   cc_count_apr  cc_count_jun  cc_count_may       ...         \\\n",
       "0           2.0           3.0           1.0       ...          \n",
       "1          11.0          11.0          14.0       ...          \n",
       "2           6.0           6.0           9.0       ...          \n",
       "3           9.0           6.0           6.0       ...          \n",
       "4           2.0           9.0           7.0       ...          \n",
       "\n",
       "   total_credit_amount_3months  total_credit_count_3months  \\\n",
       "0                    165790.37                        11.0   \n",
       "1                    399808.00                        23.0   \n",
       "2                     91290.91                        12.0   \n",
       "3                     29367.00                         5.0   \n",
       "4                     66948.00                         7.0   \n",
       "\n",
       "   total_credit_spend_3months  total_debit_amount_3months  \\\n",
       "0                     8796.00                    96161.54   \n",
       "1                    83662.00                   384191.27   \n",
       "2                    33628.13                   113594.55   \n",
       "3                    34808.50                    26768.86   \n",
       "4                     5785.12                    40101.05   \n",
       "\n",
       "   total_debit_count_3months  total_debit_spend_3months  Male  Female  \\\n",
       "0                        8.0               16029.836161   0.0     1.0   \n",
       "1                       49.0                9430.466904   0.0     1.0   \n",
       "2                       42.0                5177.520000   0.0     1.0   \n",
       "3                        4.0               16029.836161   0.0     1.0   \n",
       "4                       13.0               16029.836161   1.0     0.0   \n",
       "\n",
       "   Savings_account  Current_account  \n",
       "0              0.0              1.0  \n",
       "1              1.0              0.0  \n",
       "2              1.0              0.0  \n",
       "3              0.0              1.0  \n",
       "4              0.0              1.0  \n",
       "\n",
       "[5 rows x 45 columns]"
      ]
     },
     "execution_count": 59,
     "metadata": {},
     "output_type": "execute_result"
    }
   ],
   "source": [
    "data.head()"
   ]
  },
  {
   "cell_type": "markdown",
   "metadata": {},
   "source": [
    "Let's drop unrequired columns"
   ]
  },
  {
   "cell_type": "code",
   "execution_count": 60,
   "metadata": {},
   "outputs": [],
   "source": [
    "data.drop(['gender','account_type'], axis = 1, inplace = True)"
   ]
  },
  {
   "cell_type": "code",
   "execution_count": 61,
   "metadata": {},
   "outputs": [
    {
     "data": {
      "text/plain": [
       "Index(['age', 'card_lim', 'cc_cons', 'cc_cons_apr', 'cc_cons_jun',\n",
       "       'cc_cons_may', 'cc_count_apr', 'cc_count_jun', 'cc_count_may',\n",
       "       'credit_amount_apr', 'credit_amount_jun', 'credit_amount_may',\n",
       "       'credit_count_apr', 'credit_count_jun', 'credit_count_may',\n",
       "       'dc_cons_apr', 'dc_cons_jun', 'dc_cons_may', 'dc_count_apr',\n",
       "       'dc_count_jun', 'dc_count_may', 'debit_amount_apr', 'debit_amount_jun',\n",
       "       'debit_amount_may', 'debit_count_apr', 'debit_count_jun',\n",
       "       'debit_count_may', 'emi_active', 'id', 'max_credit_amount_apr',\n",
       "       'max_credit_amount_jun', 'max_credit_amount_may', 'region_code',\n",
       "       'total_credit_amount_3months', 'total_credit_count_3months',\n",
       "       'total_credit_spend_3months', 'total_debit_amount_3months',\n",
       "       'total_debit_count_3months', 'total_debit_spend_3months', 'Male',\n",
       "       'Female', 'Savings_account', 'Current_account'],\n",
       "      dtype='object')"
      ]
     },
     "execution_count": 61,
     "metadata": {},
     "output_type": "execute_result"
    }
   ],
   "source": [
    "data.columns"
   ]
  },
  {
   "cell_type": "markdown",
   "metadata": {},
   "source": [
    "<b>Features Selection"
   ]
  },
  {
   "cell_type": "code",
   "execution_count": 62,
   "metadata": {},
   "outputs": [
    {
     "data": {
      "text/plain": [
       "0      435.0\n",
       "1     1921.0\n",
       "2     1970.0\n",
       "3    21579.0\n",
       "4     1814.0\n",
       "Name: cc_cons, dtype: float64"
      ]
     },
     "execution_count": 62,
     "metadata": {},
     "output_type": "execute_result"
    }
   ],
   "source": [
    "y = data['cc_cons']\n",
    "y.head()"
   ]
  },
  {
   "cell_type": "code",
   "execution_count": 63,
   "metadata": {},
   "outputs": [],
   "source": [
    "Feature = data.drop('cc_cons', axis = 1)"
   ]
  },
  {
   "cell_type": "code",
   "execution_count": 64,
   "metadata": {},
   "outputs": [],
   "source": [
    "X = Feature"
   ]
  },
  {
   "cell_type": "code",
   "execution_count": 65,
   "metadata": {},
   "outputs": [
    {
     "data": {
      "text/html": [
       "<div>\n",
       "<style scoped>\n",
       "    .dataframe tbody tr th:only-of-type {\n",
       "        vertical-align: middle;\n",
       "    }\n",
       "\n",
       "    .dataframe tbody tr th {\n",
       "        vertical-align: top;\n",
       "    }\n",
       "\n",
       "    .dataframe thead th {\n",
       "        text-align: right;\n",
       "    }\n",
       "</style>\n",
       "<table border=\"1\" class=\"dataframe\">\n",
       "  <thead>\n",
       "    <tr style=\"text-align: right;\">\n",
       "      <th></th>\n",
       "      <th>age</th>\n",
       "      <th>card_lim</th>\n",
       "      <th>cc_cons_apr</th>\n",
       "      <th>cc_cons_jun</th>\n",
       "      <th>cc_cons_may</th>\n",
       "      <th>cc_count_apr</th>\n",
       "      <th>cc_count_jun</th>\n",
       "      <th>cc_count_may</th>\n",
       "      <th>credit_amount_apr</th>\n",
       "      <th>credit_amount_jun</th>\n",
       "      <th>...</th>\n",
       "      <th>total_credit_amount_3months</th>\n",
       "      <th>total_credit_count_3months</th>\n",
       "      <th>total_credit_spend_3months</th>\n",
       "      <th>total_debit_amount_3months</th>\n",
       "      <th>total_debit_count_3months</th>\n",
       "      <th>total_debit_spend_3months</th>\n",
       "      <th>Male</th>\n",
       "      <th>Female</th>\n",
       "      <th>Savings_account</th>\n",
       "      <th>Current_account</th>\n",
       "    </tr>\n",
       "  </thead>\n",
       "  <tbody>\n",
       "    <tr>\n",
       "      <th>0</th>\n",
       "      <td>63</td>\n",
       "      <td>150000.0</td>\n",
       "      <td>7695.00</td>\n",
       "      <td>622.0</td>\n",
       "      <td>479.00</td>\n",
       "      <td>2.0</td>\n",
       "      <td>3.0</td>\n",
       "      <td>1.0</td>\n",
       "      <td>50259.0</td>\n",
       "      <td>1279.37</td>\n",
       "      <td>...</td>\n",
       "      <td>165790.37</td>\n",
       "      <td>11.0</td>\n",
       "      <td>8796.00</td>\n",
       "      <td>96161.54</td>\n",
       "      <td>8.0</td>\n",
       "      <td>16029.836161</td>\n",
       "      <td>0.0</td>\n",
       "      <td>1.0</td>\n",
       "      <td>0.0</td>\n",
       "      <td>1.0</td>\n",
       "    </tr>\n",
       "    <tr>\n",
       "      <th>1</th>\n",
       "      <td>33</td>\n",
       "      <td>176000.0</td>\n",
       "      <td>52702.00</td>\n",
       "      <td>1087.0</td>\n",
       "      <td>29873.00</td>\n",
       "      <td>11.0</td>\n",
       "      <td>11.0</td>\n",
       "      <td>14.0</td>\n",
       "      <td>169812.0</td>\n",
       "      <td>55390.00</td>\n",
       "      <td>...</td>\n",
       "      <td>399808.00</td>\n",
       "      <td>23.0</td>\n",
       "      <td>83662.00</td>\n",
       "      <td>384191.27</td>\n",
       "      <td>49.0</td>\n",
       "      <td>9430.466904</td>\n",
       "      <td>0.0</td>\n",
       "      <td>1.0</td>\n",
       "      <td>1.0</td>\n",
       "      <td>0.0</td>\n",
       "    </tr>\n",
       "    <tr>\n",
       "      <th>2</th>\n",
       "      <td>44</td>\n",
       "      <td>65000.0</td>\n",
       "      <td>10800.49</td>\n",
       "      <td>1168.0</td>\n",
       "      <td>21659.64</td>\n",
       "      <td>6.0</td>\n",
       "      <td>6.0</td>\n",
       "      <td>9.0</td>\n",
       "      <td>38942.0</td>\n",
       "      <td>29297.91</td>\n",
       "      <td>...</td>\n",
       "      <td>91290.91</td>\n",
       "      <td>12.0</td>\n",
       "      <td>33628.13</td>\n",
       "      <td>113594.55</td>\n",
       "      <td>42.0</td>\n",
       "      <td>5177.520000</td>\n",
       "      <td>0.0</td>\n",
       "      <td>1.0</td>\n",
       "      <td>1.0</td>\n",
       "      <td>0.0</td>\n",
       "    </tr>\n",
       "    <tr>\n",
       "      <th>3</th>\n",
       "      <td>44</td>\n",
       "      <td>600000.0</td>\n",
       "      <td>20936.00</td>\n",
       "      <td>11778.5</td>\n",
       "      <td>2094.00</td>\n",
       "      <td>9.0</td>\n",
       "      <td>6.0</td>\n",
       "      <td>6.0</td>\n",
       "      <td>2294.0</td>\n",
       "      <td>7544.00</td>\n",
       "      <td>...</td>\n",
       "      <td>29367.00</td>\n",
       "      <td>5.0</td>\n",
       "      <td>34808.50</td>\n",
       "      <td>26768.86</td>\n",
       "      <td>4.0</td>\n",
       "      <td>16029.836161</td>\n",
       "      <td>0.0</td>\n",
       "      <td>1.0</td>\n",
       "      <td>0.0</td>\n",
       "      <td>1.0</td>\n",
       "    </tr>\n",
       "    <tr>\n",
       "      <th>4</th>\n",
       "      <td>35</td>\n",
       "      <td>100000.0</td>\n",
       "      <td>1183.83</td>\n",
       "      <td>945.0</td>\n",
       "      <td>3656.29</td>\n",
       "      <td>2.0</td>\n",
       "      <td>9.0</td>\n",
       "      <td>7.0</td>\n",
       "      <td>10271.0</td>\n",
       "      <td>53483.00</td>\n",
       "      <td>...</td>\n",
       "      <td>66948.00</td>\n",
       "      <td>7.0</td>\n",
       "      <td>5785.12</td>\n",
       "      <td>40101.05</td>\n",
       "      <td>13.0</td>\n",
       "      <td>16029.836161</td>\n",
       "      <td>1.0</td>\n",
       "      <td>0.0</td>\n",
       "      <td>0.0</td>\n",
       "      <td>1.0</td>\n",
       "    </tr>\n",
       "  </tbody>\n",
       "</table>\n",
       "<p>5 rows × 42 columns</p>\n",
       "</div>"
      ],
      "text/plain": [
       "   age  card_lim  cc_cons_apr  cc_cons_jun  cc_cons_may  cc_count_apr  \\\n",
       "0   63  150000.0      7695.00        622.0       479.00           2.0   \n",
       "1   33  176000.0     52702.00       1087.0     29873.00          11.0   \n",
       "2   44   65000.0     10800.49       1168.0     21659.64           6.0   \n",
       "3   44  600000.0     20936.00      11778.5      2094.00           9.0   \n",
       "4   35  100000.0      1183.83        945.0      3656.29           2.0   \n",
       "\n",
       "   cc_count_jun  cc_count_may  credit_amount_apr  credit_amount_jun  \\\n",
       "0           3.0           1.0            50259.0            1279.37   \n",
       "1          11.0          14.0           169812.0           55390.00   \n",
       "2           6.0           9.0            38942.0           29297.91   \n",
       "3           6.0           6.0             2294.0            7544.00   \n",
       "4           9.0           7.0            10271.0           53483.00   \n",
       "\n",
       "        ...         total_credit_amount_3months  total_credit_count_3months  \\\n",
       "0       ...                           165790.37                        11.0   \n",
       "1       ...                           399808.00                        23.0   \n",
       "2       ...                            91290.91                        12.0   \n",
       "3       ...                            29367.00                         5.0   \n",
       "4       ...                            66948.00                         7.0   \n",
       "\n",
       "   total_credit_spend_3months  total_debit_amount_3months  \\\n",
       "0                     8796.00                    96161.54   \n",
       "1                    83662.00                   384191.27   \n",
       "2                    33628.13                   113594.55   \n",
       "3                    34808.50                    26768.86   \n",
       "4                     5785.12                    40101.05   \n",
       "\n",
       "   total_debit_count_3months  total_debit_spend_3months  Male  Female  \\\n",
       "0                        8.0               16029.836161   0.0     1.0   \n",
       "1                       49.0                9430.466904   0.0     1.0   \n",
       "2                       42.0                5177.520000   0.0     1.0   \n",
       "3                        4.0               16029.836161   0.0     1.0   \n",
       "4                       13.0               16029.836161   1.0     0.0   \n",
       "\n",
       "   Savings_account  Current_account  \n",
       "0              0.0              1.0  \n",
       "1              1.0              0.0  \n",
       "2              1.0              0.0  \n",
       "3              0.0              1.0  \n",
       "4              0.0              1.0  \n",
       "\n",
       "[5 rows x 42 columns]"
      ]
     },
     "execution_count": 65,
     "metadata": {},
     "output_type": "execute_result"
    }
   ],
   "source": [
    "X.head()"
   ]
  },
  {
   "cell_type": "markdown",
   "metadata": {},
   "source": [
    "### Train-Test split"
   ]
  },
  {
   "cell_type": "code",
   "execution_count": 66,
   "metadata": {},
   "outputs": [
    {
     "name": "stderr",
     "output_type": "stream",
     "text": [
      "C:\\Users\\DELL\\Anaconda3\\lib\\site-packages\\sklearn\\model_selection\\_split.py:2179: FutureWarning: From version 0.21, test_size will always complement train_size unless both are specified.\n",
      "  FutureWarning)\n"
     ]
    }
   ],
   "source": [
    "from sklearn.model_selection import train_test_split\n",
    "\n",
    "X_train, X_test, y_train, y_test = train_test_split(X, y, train_size = 32820, shuffle = False, random_state=4 )"
   ]
  },
  {
   "cell_type": "code",
   "execution_count": 67,
   "metadata": {},
   "outputs": [
    {
     "name": "stdout",
     "output_type": "stream",
     "text": [
      "Train set: (32820, 42) (32820,)\n",
      "Test set: (14067, 42) (14067,)\n"
     ]
    }
   ],
   "source": [
    "print ('Train set:', X_train.shape,  y_train.shape)\n",
    "print ('Test set:', X_test.shape,  y_test.shape)"
   ]
  },
  {
   "cell_type": "markdown",
   "metadata": {},
   "source": [
    "# Modeling"
   ]
  },
  {
   "cell_type": "markdown",
   "metadata": {},
   "source": [
    "Let's import y_test values"
   ]
  },
  {
   "cell_type": "code",
   "execution_count": 68,
   "metadata": {},
   "outputs": [],
   "source": [
    "y_test = pd.read_csv('sample_submission.csv', usecols = ['cc_cons'])"
   ]
  },
  {
   "cell_type": "code",
   "execution_count": 69,
   "metadata": {},
   "outputs": [
    {
     "data": {
      "text/plain": [
       "cc_cons    0\n",
       "dtype: int64"
      ]
     },
     "execution_count": 69,
     "metadata": {},
     "output_type": "execute_result"
    }
   ],
   "source": [
    "y_test.isna().sum() "
   ]
  },
  {
   "cell_type": "markdown",
   "metadata": {},
   "source": [
    "# 1. Polynomial Regression"
   ]
  },
  {
   "cell_type": "markdown",
   "metadata": {},
   "source": [
    "Since, we have multiple features to predict values of \"Credit spend in next 3 months\", we have to use <b>Polynomial regression"
   ]
  },
  {
   "cell_type": "code",
   "execution_count": 70,
   "metadata": {},
   "outputs": [],
   "source": [
    "Input=[('scale',StandardScaler()), ('polynomial', PolynomialFeatures(degree = 2, include_bias = False)), ('linear', LinearRegression(fit_intercept=False))]"
   ]
  },
  {
   "cell_type": "code",
   "execution_count": 71,
   "metadata": {},
   "outputs": [
    {
     "data": {
      "text/plain": [
       "Pipeline(memory=None,\n",
       "     steps=[('scale', StandardScaler(copy=True, with_mean=True, with_std=True)), ('polynomial', PolynomialFeatures(degree=2, include_bias=False, interaction_only=False)), ('linear', LinearRegression(copy_X=True, fit_intercept=False, n_jobs=None,\n",
       "         normalize=False))])"
      ]
     },
     "execution_count": 71,
     "metadata": {},
     "output_type": "execute_result"
    }
   ],
   "source": [
    "pipe = Pipeline(Input)\n",
    "pipe"
   ]
  },
  {
   "cell_type": "code",
   "execution_count": 72,
   "metadata": {},
   "outputs": [
    {
     "name": "stderr",
     "output_type": "stream",
     "text": [
      "C:\\Users\\DELL\\Anaconda3\\lib\\site-packages\\sklearn\\preprocessing\\data.py:625: DataConversionWarning: Data with input dtype int64, float64 were all converted to float64 by StandardScaler.\n",
      "  return self.partial_fit(X, y)\n",
      "C:\\Users\\DELL\\Anaconda3\\lib\\site-packages\\sklearn\\base.py:465: DataConversionWarning: Data with input dtype int64, float64 were all converted to float64 by StandardScaler.\n",
      "  return self.fit(X, y, **fit_params).transform(X)\n"
     ]
    },
    {
     "data": {
      "text/plain": [
       "Pipeline(memory=None,\n",
       "     steps=[('scale', StandardScaler(copy=True, with_mean=True, with_std=True)), ('polynomial', PolynomialFeatures(degree=2, include_bias=False, interaction_only=False)), ('linear', LinearRegression(copy_X=True, fit_intercept=False, n_jobs=None,\n",
       "         normalize=False))])"
      ]
     },
     "execution_count": 72,
     "metadata": {},
     "output_type": "execute_result"
    }
   ],
   "source": [
    "pipe.fit(X_train,y_train)"
   ]
  },
  {
   "cell_type": "code",
   "execution_count": 73,
   "metadata": {},
   "outputs": [
    {
     "name": "stderr",
     "output_type": "stream",
     "text": [
      "C:\\Users\\DELL\\Anaconda3\\lib\\site-packages\\sklearn\\pipeline.py:331: DataConversionWarning: Data with input dtype int64, float64 were all converted to float64 by StandardScaler.\n",
      "  Xt = transform.transform(Xt)\n"
     ]
    }
   ],
   "source": [
    "ypred = pipe.predict(X_test)"
   ]
  },
  {
   "cell_type": "code",
   "execution_count": 74,
   "metadata": {},
   "outputs": [
    {
     "data": {
      "text/plain": [
       "array([ 3641.3125    , 13395.37597656,  1909.40478516,  6246.12597656,\n",
       "        7016.87548828,  6965.32397461,  5449.36376953,  4766.55566406,\n",
       "       12636.87451172,  2225.23242188])"
      ]
     },
     "execution_count": 74,
     "metadata": {},
     "output_type": "execute_result"
    }
   ],
   "source": [
    "ypred[0:10]"
   ]
  },
  {
   "cell_type": "markdown",
   "metadata": {},
   "source": [
    "# 2. Ridge Regression"
   ]
  },
  {
   "cell_type": "code",
   "execution_count": 75,
   "metadata": {},
   "outputs": [],
   "source": [
    "from sklearn.linear_model import Ridge\n",
    "from sklearn.linear_model import Lasso\n",
    "from sklearn.metrics import mean_squared_error\n",
    "from sklearn.model_selection import GridSearchCV\n",
    "from sklearn.metrics import classification_report\n",
    "#from sklearn.metrics import meansquaredlogerror np.sqrt(meansquaredlogerror(y_test, predictions))"
   ]
  },
  {
   "cell_type": "code",
   "execution_count": 78,
   "metadata": {},
   "outputs": [
    {
     "name": "stderr",
     "output_type": "stream",
     "text": [
      "C:\\Users\\DELL\\Anaconda3\\lib\\site-packages\\ipykernel_launcher.py:2: DeprecationWarning: object of type <class 'float'> cannot be safely interpreted as an integer.\n",
      "  \n"
     ]
    }
   ],
   "source": [
    "ridge = Ridge()\n",
    "parameters = np.linspace(0.1, 20, 0.5)"
   ]
  },
  {
   "cell_type": "code",
   "execution_count": 79,
   "metadata": {},
   "outputs": [
    {
     "data": {
      "text/plain": [
       "GridSearchCV(cv=5, error_score='raise-deprecating',\n",
       "       estimator=Ridge(alpha=1.0, copy_X=True, fit_intercept=True, max_iter=None,\n",
       "   normalize=False, random_state=None, solver='auto', tol=0.001),\n",
       "       fit_params=None, iid='warn', n_jobs=None,\n",
       "       param_grid=array([], dtype=float64), pre_dispatch='2*n_jobs',\n",
       "       refit=True, return_train_score='warn',\n",
       "       scoring='neg_mean_squared_error', verbose=0)"
      ]
     },
     "execution_count": 79,
     "metadata": {},
     "output_type": "execute_result"
    }
   ],
   "source": [
    "ridge_regressor = GridSearchCV(ridge, parameters, scoring = 'neg_mean_squared_error', cv = 5)\n",
    "ridge_regressor"
   ]
  },
  {
   "cell_type": "code",
   "execution_count": 80,
   "metadata": {},
   "outputs": [
    {
     "ename": "ValueError",
     "evalue": "not enough values to unpack (expected 5, got 0)",
     "output_type": "error",
     "traceback": [
      "\u001b[1;31m---------------------------------------------------------------------------\u001b[0m",
      "\u001b[1;31mValueError\u001b[0m                                Traceback (most recent call last)",
      "\u001b[1;32m<ipython-input-80-dee7002ad0b0>\u001b[0m in \u001b[0;36m<module>\u001b[1;34m()\u001b[0m\n\u001b[1;32m----> 1\u001b[1;33m \u001b[0mridge_regressor\u001b[0m\u001b[1;33m.\u001b[0m\u001b[0mfit\u001b[0m\u001b[1;33m(\u001b[0m\u001b[0mX_train\u001b[0m\u001b[1;33m,\u001b[0m \u001b[0my_train\u001b[0m\u001b[1;33m)\u001b[0m\u001b[1;33m\u001b[0m\u001b[0m\n\u001b[0m",
      "\u001b[1;32m~\\Anaconda3\\lib\\site-packages\\sklearn\\model_selection\\_search.py\u001b[0m in \u001b[0;36mfit\u001b[1;34m(self, X, y, groups, **fit_params)\u001b[0m\n\u001b[0;32m    720\u001b[0m                 \u001b[1;32mreturn\u001b[0m \u001b[0mresults_container\u001b[0m\u001b[1;33m[\u001b[0m\u001b[1;36m0\u001b[0m\u001b[1;33m]\u001b[0m\u001b[1;33m\u001b[0m\u001b[0m\n\u001b[0;32m    721\u001b[0m \u001b[1;33m\u001b[0m\u001b[0m\n\u001b[1;32m--> 722\u001b[1;33m             \u001b[0mself\u001b[0m\u001b[1;33m.\u001b[0m\u001b[0m_run_search\u001b[0m\u001b[1;33m(\u001b[0m\u001b[0mevaluate_candidates\u001b[0m\u001b[1;33m)\u001b[0m\u001b[1;33m\u001b[0m\u001b[0m\n\u001b[0m\u001b[0;32m    723\u001b[0m \u001b[1;33m\u001b[0m\u001b[0m\n\u001b[0;32m    724\u001b[0m         \u001b[0mresults\u001b[0m \u001b[1;33m=\u001b[0m \u001b[0mresults_container\u001b[0m\u001b[1;33m[\u001b[0m\u001b[1;36m0\u001b[0m\u001b[1;33m]\u001b[0m\u001b[1;33m\u001b[0m\u001b[0m\n",
      "\u001b[1;32m~\\Anaconda3\\lib\\site-packages\\sklearn\\model_selection\\_search.py\u001b[0m in \u001b[0;36m_run_search\u001b[1;34m(self, evaluate_candidates)\u001b[0m\n\u001b[0;32m   1189\u001b[0m     \u001b[1;32mdef\u001b[0m \u001b[0m_run_search\u001b[0m\u001b[1;33m(\u001b[0m\u001b[0mself\u001b[0m\u001b[1;33m,\u001b[0m \u001b[0mevaluate_candidates\u001b[0m\u001b[1;33m)\u001b[0m\u001b[1;33m:\u001b[0m\u001b[1;33m\u001b[0m\u001b[0m\n\u001b[0;32m   1190\u001b[0m         \u001b[1;34m\"\"\"Search all candidates in param_grid\"\"\"\u001b[0m\u001b[1;33m\u001b[0m\u001b[0m\n\u001b[1;32m-> 1191\u001b[1;33m         \u001b[0mevaluate_candidates\u001b[0m\u001b[1;33m(\u001b[0m\u001b[0mParameterGrid\u001b[0m\u001b[1;33m(\u001b[0m\u001b[0mself\u001b[0m\u001b[1;33m.\u001b[0m\u001b[0mparam_grid\u001b[0m\u001b[1;33m)\u001b[0m\u001b[1;33m)\u001b[0m\u001b[1;33m\u001b[0m\u001b[0m\n\u001b[0m\u001b[0;32m   1192\u001b[0m \u001b[1;33m\u001b[0m\u001b[0m\n\u001b[0;32m   1193\u001b[0m \u001b[1;33m\u001b[0m\u001b[0m\n",
      "\u001b[1;32m~\\Anaconda3\\lib\\site-packages\\sklearn\\model_selection\\_search.py\u001b[0m in \u001b[0;36mevaluate_candidates\u001b[1;34m(candidate_params)\u001b[0m\n\u001b[0;32m    717\u001b[0m                 \u001b[1;31m# instead of results_container\u001b[0m\u001b[1;33m\u001b[0m\u001b[1;33m\u001b[0m\u001b[0m\n\u001b[0;32m    718\u001b[0m                 results_container[0] = self._format_results(\n\u001b[1;32m--> 719\u001b[1;33m                     all_candidate_params, scorers, n_splits, all_out)\n\u001b[0m\u001b[0;32m    720\u001b[0m                 \u001b[1;32mreturn\u001b[0m \u001b[0mresults_container\u001b[0m\u001b[1;33m[\u001b[0m\u001b[1;36m0\u001b[0m\u001b[1;33m]\u001b[0m\u001b[1;33m\u001b[0m\u001b[0m\n\u001b[0;32m    721\u001b[0m \u001b[1;33m\u001b[0m\u001b[0m\n",
      "\u001b[1;32m~\\Anaconda3\\lib\\site-packages\\sklearn\\model_selection\\_search.py\u001b[0m in \u001b[0;36m_format_results\u001b[1;34m(self, candidate_params, scorers, n_splits, out)\u001b[0m\n\u001b[0;32m    758\u001b[0m         \u001b[1;32mif\u001b[0m \u001b[0mself\u001b[0m\u001b[1;33m.\u001b[0m\u001b[0mreturn_train_score\u001b[0m\u001b[1;33m:\u001b[0m\u001b[1;33m\u001b[0m\u001b[0m\n\u001b[0;32m    759\u001b[0m             (train_score_dicts, test_score_dicts, test_sample_counts, fit_time,\n\u001b[1;32m--> 760\u001b[1;33m              score_time) = zip(*out)\n\u001b[0m\u001b[0;32m    761\u001b[0m         \u001b[1;32melse\u001b[0m\u001b[1;33m:\u001b[0m\u001b[1;33m\u001b[0m\u001b[0m\n\u001b[0;32m    762\u001b[0m             (test_score_dicts, test_sample_counts, fit_time,\n",
      "\u001b[1;31mValueError\u001b[0m: not enough values to unpack (expected 5, got 0)"
     ]
    }
   ],
   "source": [
    "ridge_regressor.fit(X_train, y_train)"
   ]
  },
  {
   "cell_type": "code",
   "execution_count": null,
   "metadata": {},
   "outputs": [],
   "source": [
    "print(ridge_regressor.best_param_)\n",
    "print(ridge_regressor.best_score_)"
   ]
  },
  {
   "cell_type": "code",
   "execution_count": null,
   "metadata": {},
   "outputs": [],
   "source": []
  },
  {
   "cell_type": "markdown",
   "metadata": {},
   "source": [
    "RMSLE - Root Mean Squared Log Error .\n",
    "This metric is used when the Target variable is converted into Log(Target).\n",
    "so instead of looking at RMSLE, you can look for RMSE (generally we use this). You can convert the predictions to ypred = exp(predictions) \n",
    "and then np.sqrt(meansquarederror(y_test, ypred)) will give the final RMSE."
   ]
  },
  {
   "cell_type": "markdown",
   "metadata": {},
   "source": [
    "# 3. Lasso Regression"
   ]
  },
  {
   "cell_type": "code",
   "execution_count": 94,
   "metadata": {},
   "outputs": [
    {
     "name": "stderr",
     "output_type": "stream",
     "text": [
      "C:\\Users\\DELL\\Anaconda3\\lib\\site-packages\\ipykernel_launcher.py:2: DeprecationWarning: object of type <class 'float'> cannot be safely interpreted as an integer.\n",
      "  \n"
     ]
    }
   ],
   "source": [
    "lasso = Lasso()\n",
    "parameters = np.linspace(0.1, 20, 0.5)"
   ]
  },
  {
   "cell_type": "code",
   "execution_count": 96,
   "metadata": {},
   "outputs": [
    {
     "ename": "ValueError",
     "evalue": "not enough values to unpack (expected 5, got 0)",
     "output_type": "error",
     "traceback": [
      "\u001b[1;31m---------------------------------------------------------------------------\u001b[0m",
      "\u001b[1;31mValueError\u001b[0m                                Traceback (most recent call last)",
      "\u001b[1;32m<ipython-input-96-bb6b8bec87b4>\u001b[0m in \u001b[0;36m<module>\u001b[1;34m()\u001b[0m\n\u001b[0;32m      1\u001b[0m \u001b[0mlasso_regressor\u001b[0m \u001b[1;33m=\u001b[0m \u001b[0mGridSearchCV\u001b[0m\u001b[1;33m(\u001b[0m\u001b[0mlasso\u001b[0m\u001b[1;33m,\u001b[0m \u001b[0mparameters\u001b[0m\u001b[1;33m,\u001b[0m \u001b[0mscoring\u001b[0m \u001b[1;33m=\u001b[0m \u001b[1;34m'neg_mean_squared_error'\u001b[0m\u001b[1;33m,\u001b[0m \u001b[0mcv\u001b[0m \u001b[1;33m=\u001b[0m \u001b[1;36m5\u001b[0m\u001b[1;33m)\u001b[0m\u001b[1;33m\u001b[0m\u001b[0m\n\u001b[1;32m----> 2\u001b[1;33m \u001b[0mlasso_regressor\u001b[0m\u001b[1;33m.\u001b[0m\u001b[0mfit\u001b[0m\u001b[1;33m(\u001b[0m\u001b[0mX_train\u001b[0m\u001b[1;33m,\u001b[0m \u001b[0my_train\u001b[0m\u001b[1;33m)\u001b[0m\u001b[1;33m\u001b[0m\u001b[0m\n\u001b[0m",
      "\u001b[1;32m~\\Anaconda3\\lib\\site-packages\\sklearn\\model_selection\\_search.py\u001b[0m in \u001b[0;36mfit\u001b[1;34m(self, X, y, groups, **fit_params)\u001b[0m\n\u001b[0;32m    720\u001b[0m                 \u001b[1;32mreturn\u001b[0m \u001b[0mresults_container\u001b[0m\u001b[1;33m[\u001b[0m\u001b[1;36m0\u001b[0m\u001b[1;33m]\u001b[0m\u001b[1;33m\u001b[0m\u001b[0m\n\u001b[0;32m    721\u001b[0m \u001b[1;33m\u001b[0m\u001b[0m\n\u001b[1;32m--> 722\u001b[1;33m             \u001b[0mself\u001b[0m\u001b[1;33m.\u001b[0m\u001b[0m_run_search\u001b[0m\u001b[1;33m(\u001b[0m\u001b[0mevaluate_candidates\u001b[0m\u001b[1;33m)\u001b[0m\u001b[1;33m\u001b[0m\u001b[0m\n\u001b[0m\u001b[0;32m    723\u001b[0m \u001b[1;33m\u001b[0m\u001b[0m\n\u001b[0;32m    724\u001b[0m         \u001b[0mresults\u001b[0m \u001b[1;33m=\u001b[0m \u001b[0mresults_container\u001b[0m\u001b[1;33m[\u001b[0m\u001b[1;36m0\u001b[0m\u001b[1;33m]\u001b[0m\u001b[1;33m\u001b[0m\u001b[0m\n",
      "\u001b[1;32m~\\Anaconda3\\lib\\site-packages\\sklearn\\model_selection\\_search.py\u001b[0m in \u001b[0;36m_run_search\u001b[1;34m(self, evaluate_candidates)\u001b[0m\n\u001b[0;32m   1189\u001b[0m     \u001b[1;32mdef\u001b[0m \u001b[0m_run_search\u001b[0m\u001b[1;33m(\u001b[0m\u001b[0mself\u001b[0m\u001b[1;33m,\u001b[0m \u001b[0mevaluate_candidates\u001b[0m\u001b[1;33m)\u001b[0m\u001b[1;33m:\u001b[0m\u001b[1;33m\u001b[0m\u001b[0m\n\u001b[0;32m   1190\u001b[0m         \u001b[1;34m\"\"\"Search all candidates in param_grid\"\"\"\u001b[0m\u001b[1;33m\u001b[0m\u001b[0m\n\u001b[1;32m-> 1191\u001b[1;33m         \u001b[0mevaluate_candidates\u001b[0m\u001b[1;33m(\u001b[0m\u001b[0mParameterGrid\u001b[0m\u001b[1;33m(\u001b[0m\u001b[0mself\u001b[0m\u001b[1;33m.\u001b[0m\u001b[0mparam_grid\u001b[0m\u001b[1;33m)\u001b[0m\u001b[1;33m)\u001b[0m\u001b[1;33m\u001b[0m\u001b[0m\n\u001b[0m\u001b[0;32m   1192\u001b[0m \u001b[1;33m\u001b[0m\u001b[0m\n\u001b[0;32m   1193\u001b[0m \u001b[1;33m\u001b[0m\u001b[0m\n",
      "\u001b[1;32m~\\Anaconda3\\lib\\site-packages\\sklearn\\model_selection\\_search.py\u001b[0m in \u001b[0;36mevaluate_candidates\u001b[1;34m(candidate_params)\u001b[0m\n\u001b[0;32m    717\u001b[0m                 \u001b[1;31m# instead of results_container\u001b[0m\u001b[1;33m\u001b[0m\u001b[1;33m\u001b[0m\u001b[0m\n\u001b[0;32m    718\u001b[0m                 results_container[0] = self._format_results(\n\u001b[1;32m--> 719\u001b[1;33m                     all_candidate_params, scorers, n_splits, all_out)\n\u001b[0m\u001b[0;32m    720\u001b[0m                 \u001b[1;32mreturn\u001b[0m \u001b[0mresults_container\u001b[0m\u001b[1;33m[\u001b[0m\u001b[1;36m0\u001b[0m\u001b[1;33m]\u001b[0m\u001b[1;33m\u001b[0m\u001b[0m\n\u001b[0;32m    721\u001b[0m \u001b[1;33m\u001b[0m\u001b[0m\n",
      "\u001b[1;32m~\\Anaconda3\\lib\\site-packages\\sklearn\\model_selection\\_search.py\u001b[0m in \u001b[0;36m_format_results\u001b[1;34m(self, candidate_params, scorers, n_splits, out)\u001b[0m\n\u001b[0;32m    758\u001b[0m         \u001b[1;32mif\u001b[0m \u001b[0mself\u001b[0m\u001b[1;33m.\u001b[0m\u001b[0mreturn_train_score\u001b[0m\u001b[1;33m:\u001b[0m\u001b[1;33m\u001b[0m\u001b[0m\n\u001b[0;32m    759\u001b[0m             (train_score_dicts, test_score_dicts, test_sample_counts, fit_time,\n\u001b[1;32m--> 760\u001b[1;33m              score_time) = zip(*out)\n\u001b[0m\u001b[0;32m    761\u001b[0m         \u001b[1;32melse\u001b[0m\u001b[1;33m:\u001b[0m\u001b[1;33m\u001b[0m\u001b[0m\n\u001b[0;32m    762\u001b[0m             (test_score_dicts, test_sample_counts, fit_time,\n",
      "\u001b[1;31mValueError\u001b[0m: not enough values to unpack (expected 5, got 0)"
     ]
    }
   ],
   "source": [
    "lasso_regressor = GridSearchCV(lasso, parameters, scoring = 'neg_mean_squared_error', cv = 5)\n",
    "lasso_regressor.fit(X_train, y_train)"
   ]
  },
  {
   "cell_type": "code",
   "execution_count": null,
   "metadata": {},
   "outputs": [],
   "source": []
  },
  {
   "cell_type": "code",
   "execution_count": null,
   "metadata": {},
   "outputs": [],
   "source": []
  },
  {
   "cell_type": "code",
   "execution_count": null,
   "metadata": {},
   "outputs": [],
   "source": []
  },
  {
   "cell_type": "markdown",
   "metadata": {},
   "source": [
    "# 4. Decision Tree Regressor"
   ]
  },
  {
   "cell_type": "code",
   "execution_count": null,
   "metadata": {},
   "outputs": [],
   "source": []
  },
  {
   "cell_type": "code",
   "execution_count": null,
   "metadata": {},
   "outputs": [],
   "source": []
  },
  {
   "cell_type": "code",
   "execution_count": null,
   "metadata": {},
   "outputs": [],
   "source": []
  }
 ],
 "metadata": {
  "kernelspec": {
   "display_name": "Python 3",
   "language": "python",
   "name": "python3"
  },
  "language_info": {
   "codemirror_mode": {
    "name": "ipython",
    "version": 3
   },
   "file_extension": ".py",
   "mimetype": "text/x-python",
   "name": "python",
   "nbconvert_exporter": "python",
   "pygments_lexer": "ipython3",
   "version": "3.6.4"
  }
 },
 "nbformat": 4,
 "nbformat_minor": 2
}
