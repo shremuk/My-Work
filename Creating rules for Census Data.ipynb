{
 "cells": [
  {
   "cell_type": "code",
   "execution_count": 1,
   "metadata": {},
   "outputs": [],
   "source": [
    "import numpy as np\n",
    "import pandas as pd\n",
    "import matplotlib.pyplot as mlt\n",
    "from apyori import apriori"
   ]
  },
  {
   "cell_type": "code",
   "execution_count": 2,
   "metadata": {},
   "outputs": [
    {
     "name": "stdout",
     "output_type": "stream",
     "text": [
      "2109\n"
     ]
    }
   ],
   "source": [
    "census_data = pd.read_csv(\"D:\\Data Science\\Internship\\Assignment\\Problem\\Problem1\\census.csv\", header = None)\n",
    "num_records = len(census_data)\n",
    "print(num_records)"
   ]
  },
  {
   "cell_type": "code",
   "execution_count": 3,
   "metadata": {},
   "outputs": [],
   "source": [
    "records = []\n",
    "for i in range(0, num_records):\n",
    "    records.append([str(census_data.values[i,j]) for j in range(0, 12)])"
   ]
  },
  {
   "cell_type": "code",
   "execution_count": 4,
   "metadata": {},
   "outputs": [
    {
     "data": {
      "text/plain": [
       "[['age=Middle-aged',\n",
       "  'sex=Male',\n",
       "  'education=Bachelors',\n",
       "  'native-country=United-States',\n",
       "  'race=White',\n",
       "  'marital-status=Never-married',\n",
       "  'workclass=State-gov',\n",
       "  'occupation=Adm-clerical',\n",
       "  'hours-per-week=Full-time',\n",
       "  'income=Small',\n",
       "  'capital-gain=Low',\n",
       "  'capital-loss=None'],\n",
       " ['age=Senior',\n",
       "  'sex=Male',\n",
       "  'education=Bachelors',\n",
       "  'native-country=United-States',\n",
       "  'race=White',\n",
       "  'marital-status=Married-civ-spouse',\n",
       "  'workclass=Self-emp-not-inc',\n",
       "  'occupation=Exec-managerial',\n",
       "  'hours-per-week=Part-time',\n",
       "  'income=Small',\n",
       "  'capital-gain=None',\n",
       "  'capital-loss=None'],\n",
       " ['age=Middle-aged',\n",
       "  'sex=Male',\n",
       "  'education=HS-grad',\n",
       "  'native-country=United-States',\n",
       "  'race=White',\n",
       "  'marital-status=Divorced',\n",
       "  'workclass=Private',\n",
       "  'occupation=Handlers-cleaners',\n",
       "  'hours-per-week=Full-time',\n",
       "  'income=Small',\n",
       "  'capital-gain=None',\n",
       "  'capital-loss=None']]"
      ]
     },
     "execution_count": 4,
     "metadata": {},
     "output_type": "execute_result"
    }
   ],
   "source": [
    "records[0:3]"
   ]
  },
  {
   "cell_type": "code",
   "execution_count": 5,
   "metadata": {},
   "outputs": [],
   "source": [
    "association_rules = apriori(records, min_support = 0.05, min_confidence = 0.20, min_lift = 3, min_length = 2)\n",
    "association_results = list(association_rules)"
   ]
  },
  {
   "cell_type": "code",
   "execution_count": 6,
   "metadata": {},
   "outputs": [
    {
     "name": "stdout",
     "output_type": "stream",
     "text": [
      "11\n"
     ]
    }
   ],
   "source": [
    "print(len(association_results))"
   ]
  },
  {
   "cell_type": "code",
   "execution_count": 7,
   "metadata": {},
   "outputs": [
    {
     "name": "stdout",
     "output_type": "stream",
     "text": [
      "RelationRecord(items=frozenset({'marital-status=Never-married', 'age=Young', 'education=Some-college'}), support=0.051683262209578, ordered_statistics=[OrderedStatistic(items_base=frozenset({'marital-status=Never-married', 'education=Some-college'}), items_add=frozenset({'age=Young'}), confidence=0.6228571428571429, lift=3.598919765166341)])\n"
     ]
    }
   ],
   "source": [
    "print(association_results[0])"
   ]
  },
  {
   "cell_type": "code",
   "execution_count": 8,
   "metadata": {},
   "outputs": [
    {
     "name": "stdout",
     "output_type": "stream",
     "text": [
      "frozenset({'capital-gain=None', 'marital-status=Never-married', 'age=Young', 'education=Some-college'})\n"
     ]
    }
   ],
   "source": [
    "print(association_results[2][0])"
   ]
  },
  {
   "cell_type": "code",
   "execution_count": 10,
   "metadata": {},
   "outputs": [
    {
     "ename": "IndexError",
     "evalue": "string index out of range",
     "output_type": "error",
     "traceback": [
      "\u001b[1;31m---------------------------------------------------------------------------\u001b[0m",
      "\u001b[1;31mIndexError\u001b[0m                                Traceback (most recent call last)",
      "\u001b[1;32m<ipython-input-10-4ece673928f9>\u001b[0m in \u001b[0;36m<module>\u001b[1;34m()\u001b[0m\n\u001b[0;32m      9\u001b[0m     \u001b[0mvalue2\u001b[0m \u001b[1;33m=\u001b[0m \u001b[0mstr\u001b[0m\u001b[1;33m(\u001b[0m\u001b[0mitems\u001b[0m\u001b[1;33m[\u001b[0m\u001b[1;36m2\u001b[0m\u001b[1;33m]\u001b[0m\u001b[1;33m)\u001b[0m\u001b[1;33m\u001b[0m\u001b[0m\n\u001b[0;32m     10\u001b[0m \u001b[1;33m\u001b[0m\u001b[0m\n\u001b[1;32m---> 11\u001b[1;33m     \u001b[0mvalue3\u001b[0m \u001b[1;33m=\u001b[0m \u001b[0mstr\u001b[0m\u001b[1;33m(\u001b[0m\u001b[0mitems\u001b[0m\u001b[1;33m[\u001b[0m\u001b[1;36m2\u001b[0m\u001b[1;33m]\u001b[0m\u001b[1;33m[\u001b[0m\u001b[1;36m0\u001b[0m\u001b[1;33m]\u001b[0m\u001b[1;33m[\u001b[0m\u001b[1;36m2\u001b[0m\u001b[1;33m]\u001b[0m\u001b[1;33m)\u001b[0m\u001b[1;33m[\u001b[0m\u001b[1;33m:\u001b[0m\u001b[1;36m7\u001b[0m\u001b[1;33m]\u001b[0m\u001b[1;33m\u001b[0m\u001b[0m\n\u001b[0m\u001b[0;32m     12\u001b[0m     \u001b[1;31m#value4 = str(items[2][0][3])[:7]\u001b[0m\u001b[1;33m\u001b[0m\u001b[1;33m\u001b[0m\u001b[0m\n\u001b[0;32m     13\u001b[0m \u001b[1;33m\u001b[0m\u001b[0m\n",
      "\u001b[1;31mIndexError\u001b[0m: string index out of range"
     ]
    }
   ],
   "source": [
    "results = []\n",
    "\n",
    "for item in association_results:\n",
    "    pair = item[0]\n",
    "    items = [x for x in pair]\n",
    "    \n",
    "    value0 = str(items[0])\n",
    "    value1 = str(items[1])\n",
    "    value2 = str(items[2])\n",
    "    \n",
    "    value3 = str(items[2][0][2])[:7]\n",
    "    #value4 = str(items[2][0][3])[:7]\n",
    "    \n",
    "    rows = (value0, value1, value2, value3)\n",
    "    result.append(rows)\n",
    "    \n",
    "labels = ['Title 1', 'Title 2', 'Support', 'Confidence', 'Lift']\n",
    "\n",
    "movie_suggestions = pd.DataFrame.from_records(results, columns = labels)"
   ]
  },
  {
   "cell_type": "code",
   "execution_count": null,
   "metadata": {},
   "outputs": [],
   "source": []
  }
 ],
 "metadata": {
  "kernelspec": {
   "display_name": "Python 3",
   "language": "python",
   "name": "python3"
  },
  "language_info": {
   "codemirror_mode": {
    "name": "ipython",
    "version": 3
   },
   "file_extension": ".py",
   "mimetype": "text/x-python",
   "name": "python",
   "nbconvert_exporter": "python",
   "pygments_lexer": "ipython3",
   "version": "3.6.4"
  }
 },
 "nbformat": 4,
 "nbformat_minor": 2
}
