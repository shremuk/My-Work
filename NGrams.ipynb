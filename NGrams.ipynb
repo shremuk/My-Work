{
 "cells": [
  {
   "cell_type": "markdown",
   "metadata": {
    "colab_type": "text",
    "id": "lBpy3PunpAl9"
   },
   "source": [
    "# N-gram Language Models"
   ]
  },
  {
   "cell_type": "markdown",
   "metadata": {
    "colab_type": "text",
    "id": "i6of7vifpAmA"
   },
   "source": [
    "*In the following sections we will formalize the intuition of probabilistic language modeling by introducing models that assign a probability to each possible next word. The same models will also serve to assign a probability to an entire sentence.*"
   ]
  },
  {
   "cell_type": "markdown",
   "metadata": {
    "colab_type": "text",
    "id": "VSsmYKY-pAmE"
   },
   "source": [
    "## Unigram Approach"
   ]
  },
  {
   "cell_type": "markdown",
   "metadata": {
    "colab_type": "text",
    "id": "dPj7CNGcpAmG"
   },
   "source": [
    "*The Reuters Corpus contains 10,788 news documents totaling 1.3 million words.*"
   ]
  },
  {
   "cell_type": "code",
   "execution_count": 0,
   "metadata": {
    "colab": {},
    "colab_type": "code",
    "id": "qiS4XsbipAmV"
   },
   "outputs": [],
   "source": [
    "from nltk.corpus import reuters"
   ]
  },
  {
   "cell_type": "code",
   "execution_count": 0,
   "metadata": {
    "colab": {},
    "colab_type": "code",
    "id": "7cuWHjMipAmd"
   },
   "outputs": [],
   "source": [
    "from collections import Counter\n",
    "# frequency counts of words\n",
    "counts = Counter(reuters.words())\n",
    "# total number of words\n",
    "total_count = len(reuters.words())"
   ]
  },
  {
   "cell_type": "code",
   "execution_count": 4,
   "metadata": {
    "colab": {
     "base_uri": "https://localhost:8080/",
     "height": 54
    },
    "colab_type": "code",
    "id": "Q9KX_dVypAml",
    "outputId": "da7a270e-db95-4ca4-933f-4dfb3e13178a"
   },
   "outputs": [
    {
     "name": "stdout",
     "output_type": "stream",
     "text": [
      "[('.', 94687), (',', 72360), ('the', 58251), ('of', 35979), ('to', 34035), ('in', 26478), ('said', 25224), ('and', 25043), ('a', 23492), ('mln', 18037), ('vs', 14120), ('-', 13705), ('for', 12785), ('dlrs', 11730), (\"'\", 11272), ('The', 10968), ('000', 10277), ('1', 9977), ('s', 9298), ('pct', 9093)]\n"
     ]
    }
   ],
   "source": [
    "# The most common 20 words are ...\n",
    "print(counts.most_common(n=20))"
   ]
  },
  {
   "cell_type": "code",
   "execution_count": 0,
   "metadata": {
    "colab": {},
    "colab_type": "code",
    "id": "Kaj5c0PHpf0z"
   },
   "outputs": [],
   "source": [
    "# Compute the frequencies of words\n",
    "for word in counts:\n",
    "    counts[word] /= float(total_count)"
   ]
  },
  {
   "cell_type": "code",
   "execution_count": 6,
   "metadata": {
    "colab": {
     "base_uri": "https://localhost:8080/",
     "height": 34
    },
    "colab_type": "code",
    "id": "jQoGrjqGqC0Q",
    "outputId": "8f4b5bc3-1028-43c6-c3d0-38ec338d5314"
   },
   "outputs": [
    {
     "name": "stdout",
     "output_type": "stream",
     "text": [
      "1.0000000000006808\n"
     ]
    }
   ],
   "source": [
    "# The frequencies should add up to 1\n",
    "print(sum(counts.values()))"
   ]
  },
  {
   "cell_type": "code",
   "execution_count": 7,
   "metadata": {
    "colab": {
     "base_uri": "https://localhost:8080/",
     "height": 54
    },
    "colab_type": "code",
    "id": "P6wBTiLCqIxu",
    "outputId": "41ea1d9c-8fa5-4df6-942e-c2ce78d7a926"
   },
   "outputs": [
    {
     "name": "stdout",
     "output_type": "stream",
     "text": [
      "the expects 36 Chile enough s Net three It . Commission pct 000 pct she . gives \" -- 6 remain > said . being 4 pct vs . aimed Harris service open 432 Ontario end three FORD it is subsidized DIVISION 1 but ; . stg visibly after 000 shares Avg Admin it lt week The ; the s EXPORTS time ' 1986 pursue of residents Gandhi next Nakasone has 1986 be order commercial 188 previously mln 4 State While said cts 2 000 is declined pct sparked EXPORTERS said & lead year on Kan said . and grain\n"
     ]
    }
   ],
   "source": [
    "import random\n",
    "# Generate 100 words of language\n",
    "text = []\n",
    "for _ in range(100):\n",
    "    r = random.random()\n",
    "    accumulator = .0\n",
    "    for word, freq in counts.items():\n",
    "        accumulator += freq\n",
    "        if accumulator >= r:\n",
    "            text.append(word)\n",
    "            break\n",
    " \n",
    "print(' '.join(text))"
   ]
  },
  {
   "cell_type": "markdown",
   "metadata": {
    "colab_type": "text",
    "id": "Pl4JGuhCrUFT"
   },
   "source": [
    "*As you can see, it’s not the most expressive piece of content out there. The produced text follows only the frequency rules of the language and nothing more.*"
   ]
  },
  {
   "cell_type": "code",
   "execution_count": 8,
   "metadata": {
    "colab": {
     "base_uri": "https://localhost:8080/",
     "height": 34
    },
    "colab_type": "code",
    "id": "SYXVUNDVrFln",
    "outputId": "7d1cdcba-9b06-4ed4-ba9f-d85b7d23f86e"
   },
   "outputs": [
    {
     "name": "stdout",
     "output_type": "stream",
     "text": [
      "2.8020041277481604e-308\n"
     ]
    }
   ],
   "source": [
    "# The probability of a text\n",
    "from functools import reduce\n",
    "from operator import mul\n",
    "print(reduce(mul, [counts[w] for w in text], 1.0))"
   ]
  },
  {
   "cell_type": "code",
   "execution_count": 9,
   "metadata": {
    "colab": {
     "base_uri": "https://localhost:8080/",
     "height": 34
    },
    "colab_type": "code",
    "id": "bjIip1gOsWmy",
    "outputId": "72ecc9ed-a246-4386-dcdd-a6b2a2556479"
   },
   "outputs": [
    {
     "data": {
      "text/plain": [
       "15"
      ]
     },
     "execution_count": 9,
     "metadata": {
      "tags": []
     },
     "output_type": "execute_result"
    }
   ],
   "source": [
    "# Usage of reduce:\n",
    "reduce(lambda x, y: x+y, [1, 2, 3, 4, 5]) # calculates ((((1+2)+3)+4)+5)"
   ]
  },
  {
   "cell_type": "markdown",
   "metadata": {
    "colab_type": "text",
    "id": "fA8LTLmAt9GM"
   },
   "source": [
    "## Bigram Approach"
   ]
  },
  {
   "cell_type": "markdown",
   "metadata": {
    "colab_type": "text",
    "id": "UQ_Rfbu4uLWE"
   },
   "source": [
    "*One idea that can help us generate better text is to make sure the new word we’re adding to the sequence goes well with the words already in the sequence. Checking if a word fits well after 10 words might be a bit overkill. We can simplify things to keep the problem reasonable. Let’s make sure the new word goes well after the last word in the sequence (bigram model) or the last two words (trigram model).*"
   ]
  },
  {
   "cell_type": "code",
   "execution_count": 0,
   "metadata": {
    "colab": {},
    "colab_type": "code",
    "id": "8QCXbm45r2m0"
   },
   "outputs": [],
   "source": [
    "from nltk import bigrams, trigrams\n",
    "from collections import defaultdict"
   ]
  },
  {
   "cell_type": "code",
   "execution_count": 11,
   "metadata": {
    "colab": {
     "base_uri": "https://localhost:8080/",
     "height": 54
    },
    "colab_type": "code",
    "id": "nGCeZam6uuuH",
    "outputId": "88b6f8bb-28bd-464a-d66e-c3fda9259957"
   },
   "outputs": [
    {
     "name": "stdout",
     "output_type": "stream",
     "text": [
      "['ASIAN', 'EXPORTERS', 'FEAR', 'DAMAGE', 'FROM', 'U', '.', 'S', '.-', 'JAPAN', 'RIFT', 'Mounting', 'trade', 'friction', 'between', 'the', 'U', '.', 'S', '.', 'And', 'Japan', 'has', 'raised', 'fears', 'among', 'many', 'of', 'Asia', \"'\", 's', 'exporting', 'nations', 'that', 'the', 'row', 'could', 'inflict', 'far', '-', 'reaching', 'economic', 'damage', ',', 'businessmen', 'and', 'officials', 'said', '.']\n"
     ]
    }
   ],
   "source": [
    "first_sentence = reuters.sents()[0]\n",
    "print(first_sentence)"
   ]
  },
  {
   "cell_type": "code",
   "execution_count": 12,
   "metadata": {
    "colab": {
     "base_uri": "https://localhost:8080/",
     "height": 54
    },
    "colab_type": "code",
    "id": "OUKBm_Y0uzrL",
    "outputId": "280d4009-9bda-44c6-ca66-76a385777641"
   },
   "outputs": [
    {
     "name": "stdout",
     "output_type": "stream",
     "text": [
      "[('ASIAN', 'EXPORTERS'), ('EXPORTERS', 'FEAR'), ('FEAR', 'DAMAGE'), ('DAMAGE', 'FROM'), ('FROM', 'U'), ('U', '.'), ('.', 'S'), ('S', '.-'), ('.-', 'JAPAN'), ('JAPAN', 'RIFT'), ('RIFT', 'Mounting'), ('Mounting', 'trade'), ('trade', 'friction'), ('friction', 'between'), ('between', 'the'), ('the', 'U'), ('U', '.'), ('.', 'S'), ('S', '.'), ('.', 'And'), ('And', 'Japan'), ('Japan', 'has'), ('has', 'raised'), ('raised', 'fears'), ('fears', 'among'), ('among', 'many'), ('many', 'of'), ('of', 'Asia'), ('Asia', \"'\"), (\"'\", 's'), ('s', 'exporting'), ('exporting', 'nations'), ('nations', 'that'), ('that', 'the'), ('the', 'row'), ('row', 'could'), ('could', 'inflict'), ('inflict', 'far'), ('far', '-'), ('-', 'reaching'), ('reaching', 'economic'), ('economic', 'damage'), ('damage', ','), (',', 'businessmen'), ('businessmen', 'and'), ('and', 'officials'), ('officials', 'said'), ('said', '.')]\n"
     ]
    }
   ],
   "source": [
    "# Get the bigrams\n",
    "print(list(bigrams(first_sentence)))"
   ]
  },
  {
   "cell_type": "code",
   "execution_count": 13,
   "metadata": {
    "colab": {
     "base_uri": "https://localhost:8080/",
     "height": 54
    },
    "colab_type": "code",
    "id": "yMdYkTylvkr1",
    "outputId": "8ee57d7f-af02-4b99-b05c-58c603e365b6"
   },
   "outputs": [
    {
     "name": "stdout",
     "output_type": "stream",
     "text": [
      "[(None, 'ASIAN'), ('ASIAN', 'EXPORTERS'), ('EXPORTERS', 'FEAR'), ('FEAR', 'DAMAGE'), ('DAMAGE', 'FROM'), ('FROM', 'U'), ('U', '.'), ('.', 'S'), ('S', '.-'), ('.-', 'JAPAN'), ('JAPAN', 'RIFT'), ('RIFT', 'Mounting'), ('Mounting', 'trade'), ('trade', 'friction'), ('friction', 'between'), ('between', 'the'), ('the', 'U'), ('U', '.'), ('.', 'S'), ('S', '.'), ('.', 'And'), ('And', 'Japan'), ('Japan', 'has'), ('has', 'raised'), ('raised', 'fears'), ('fears', 'among'), ('among', 'many'), ('many', 'of'), ('of', 'Asia'), ('Asia', \"'\"), (\"'\", 's'), ('s', 'exporting'), ('exporting', 'nations'), ('nations', 'that'), ('that', 'the'), ('the', 'row'), ('row', 'could'), ('could', 'inflict'), ('inflict', 'far'), ('far', '-'), ('-', 'reaching'), ('reaching', 'economic'), ('economic', 'damage'), ('damage', ','), (',', 'businessmen'), ('businessmen', 'and'), ('and', 'officials'), ('officials', 'said'), ('said', '.'), ('.', None)]\n"
     ]
    }
   ],
   "source": [
    "# Get the padded bigrams\n",
    "print(list(bigrams(first_sentence, pad_left=True, pad_right=True)))"
   ]
  },
  {
   "cell_type": "markdown",
   "metadata": {
    "colab_type": "text",
    "id": "iI17a2otv3LL"
   },
   "source": [
    "**Now we are going to build  bigram model from the Reuters Corpus**"
   ]
  },
  {
   "cell_type": "markdown",
   "metadata": {
    "colab_type": "text",
    "id": "TU53KLfcxLy1"
   },
   "source": [
    "*The bigram model approximates the probability of a word given\n",
    "all the previous words P(wnjwn 1−1) by using only the conditional probability of the\n",
    "preceding word <i>P</i>(w<sub>n</sub> | w<sub>n−1</sub>)</i>.*"
   ]
  },
  {
   "cell_type": "code",
   "execution_count": 14,
   "metadata": {
    "colab": {
     "base_uri": "https://localhost:8080/",
     "height": 68
    },
    "colab_type": "code",
    "id": "HpTrnh5rwOY3",
    "outputId": "bdccaea3-426e-4f01-c0aa-ff5c5ad99872"
   },
   "outputs": [
    {
     "name": "stdout",
     "output_type": "stream",
     "text": [
      "8\n",
      "0\n",
      "8839\n"
     ]
    }
   ],
   "source": [
    "bigram_model = defaultdict(lambda: defaultdict(lambda: 0))\n",
    "for sentence in reuters.sents():\n",
    "    for w1, w2 in bigrams(sentence, pad_right=True, pad_left=True):\n",
    "        bigram_model[(w1)][w2] += 1\n",
    " \n",
    "print(bigram_model[\"the\"][\"economists\"])\n",
    "print(bigram_model[\"the\"][\"nonexistingword\"]) \n",
    "print(bigram_model[None][\"The\"]) "
   ]
  },
  {
   "cell_type": "markdown",
   "metadata": {
    "colab_type": "text",
    "id": "po3e-Cl5ymsp"
   },
   "source": [
    "\"economists\" follows \"the\" 8 times\n",
    "\n",
    "\"nonexistingword\" word follows \"the\" 0 times\n",
    "\n",
    "8839 sentences start with \"The\""
   ]
  },
  {
   "cell_type": "code",
   "execution_count": 0,
   "metadata": {
    "colab": {},
    "colab_type": "code",
    "id": "D-Nur41DyCXy"
   },
   "outputs": [],
   "source": [
    "# Let's transform the counts to probabilities\n",
    "for w1 in bigram_model:\n",
    "    total_count = float(sum(bigram_model[w1].values()))\n",
    "    for w2 in bigram_model[w1]:\n",
    "        bigram_model[w1][w2] /= total_count"
   ]
  },
  {
   "cell_type": "code",
   "execution_count": 16,
   "metadata": {
    "colab": {
     "base_uri": "https://localhost:8080/",
     "height": 68
    },
    "colab_type": "code",
    "id": "CcEDHljUzpuR",
    "outputId": "057e3c8e-5cb9-49a2-829e-b3f50ac75204"
   },
   "outputs": [
    {
     "name": "stdout",
     "output_type": "stream",
     "text": [
      "0.00013733669808243634\n",
      "0.0\n",
      "0.16154324146501936\n"
     ]
    }
   ],
   "source": [
    "print(bigram_model[\"the\"][\"economists\"]) \n",
    "print(bigram_model[\"the\"][\"nonexistingword\"]) \n",
    "print(bigram_model[None][\"The\"])"
   ]
  },
  {
   "cell_type": "markdown",
   "metadata": {
    "colab_type": "text",
    "id": "f0MMBbH_6HLm"
   },
   "source": [
    "## Trigram Approach"
   ]
  },
  {
   "cell_type": "code",
   "execution_count": 17,
   "metadata": {
    "colab": {
     "base_uri": "https://localhost:8080/",
     "height": 54
    },
    "colab_type": "code",
    "id": "jX72RacNvpzR",
    "outputId": "fda6faa3-2529-4e24-c809-6d085ae70c80"
   },
   "outputs": [
    {
     "name": "stdout",
     "output_type": "stream",
     "text": [
      "[('ASIAN', 'EXPORTERS', 'FEAR'), ('EXPORTERS', 'FEAR', 'DAMAGE'), ('FEAR', 'DAMAGE', 'FROM'), ('DAMAGE', 'FROM', 'U'), ('FROM', 'U', '.'), ('U', '.', 'S'), ('.', 'S', '.-'), ('S', '.-', 'JAPAN'), ('.-', 'JAPAN', 'RIFT'), ('JAPAN', 'RIFT', 'Mounting'), ('RIFT', 'Mounting', 'trade'), ('Mounting', 'trade', 'friction'), ('trade', 'friction', 'between'), ('friction', 'between', 'the'), ('between', 'the', 'U'), ('the', 'U', '.'), ('U', '.', 'S'), ('.', 'S', '.'), ('S', '.', 'And'), ('.', 'And', 'Japan'), ('And', 'Japan', 'has'), ('Japan', 'has', 'raised'), ('has', 'raised', 'fears'), ('raised', 'fears', 'among'), ('fears', 'among', 'many'), ('among', 'many', 'of'), ('many', 'of', 'Asia'), ('of', 'Asia', \"'\"), ('Asia', \"'\", 's'), (\"'\", 's', 'exporting'), ('s', 'exporting', 'nations'), ('exporting', 'nations', 'that'), ('nations', 'that', 'the'), ('that', 'the', 'row'), ('the', 'row', 'could'), ('row', 'could', 'inflict'), ('could', 'inflict', 'far'), ('inflict', 'far', '-'), ('far', '-', 'reaching'), ('-', 'reaching', 'economic'), ('reaching', 'economic', 'damage'), ('economic', 'damage', ','), ('damage', ',', 'businessmen'), (',', 'businessmen', 'and'), ('businessmen', 'and', 'officials'), ('and', 'officials', 'said'), ('officials', 'said', '.')]\n"
     ]
    }
   ],
   "source": [
    "# Get the trigrams\n",
    "print(list(trigrams(first_sentence)))"
   ]
  },
  {
   "cell_type": "code",
   "execution_count": 18,
   "metadata": {
    "colab": {
     "base_uri": "https://localhost:8080/",
     "height": 54
    },
    "colab_type": "code",
    "id": "eG_svkL9vuAz",
    "outputId": "f5ee1061-d358-4d3c-fb54-f0b892eb9617"
   },
   "outputs": [
    {
     "name": "stdout",
     "output_type": "stream",
     "text": [
      "[(None, None, 'ASIAN'), (None, 'ASIAN', 'EXPORTERS'), ('ASIAN', 'EXPORTERS', 'FEAR'), ('EXPORTERS', 'FEAR', 'DAMAGE'), ('FEAR', 'DAMAGE', 'FROM'), ('DAMAGE', 'FROM', 'U'), ('FROM', 'U', '.'), ('U', '.', 'S'), ('.', 'S', '.-'), ('S', '.-', 'JAPAN'), ('.-', 'JAPAN', 'RIFT'), ('JAPAN', 'RIFT', 'Mounting'), ('RIFT', 'Mounting', 'trade'), ('Mounting', 'trade', 'friction'), ('trade', 'friction', 'between'), ('friction', 'between', 'the'), ('between', 'the', 'U'), ('the', 'U', '.'), ('U', '.', 'S'), ('.', 'S', '.'), ('S', '.', 'And'), ('.', 'And', 'Japan'), ('And', 'Japan', 'has'), ('Japan', 'has', 'raised'), ('has', 'raised', 'fears'), ('raised', 'fears', 'among'), ('fears', 'among', 'many'), ('among', 'many', 'of'), ('many', 'of', 'Asia'), ('of', 'Asia', \"'\"), ('Asia', \"'\", 's'), (\"'\", 's', 'exporting'), ('s', 'exporting', 'nations'), ('exporting', 'nations', 'that'), ('nations', 'that', 'the'), ('that', 'the', 'row'), ('the', 'row', 'could'), ('row', 'could', 'inflict'), ('could', 'inflict', 'far'), ('inflict', 'far', '-'), ('far', '-', 'reaching'), ('-', 'reaching', 'economic'), ('reaching', 'economic', 'damage'), ('economic', 'damage', ','), ('damage', ',', 'businessmen'), (',', 'businessmen', 'and'), ('businessmen', 'and', 'officials'), ('and', 'officials', 'said'), ('officials', 'said', '.'), ('said', '.', None), ('.', None, None)]\n"
     ]
    }
   ],
   "source": [
    "# Get the padded trigrams\n",
    "print(list(trigrams(first_sentence, pad_left=True, pad_right=True)))"
   ]
  },
  {
   "cell_type": "code",
   "execution_count": 0,
   "metadata": {
    "colab": {},
    "colab_type": "code",
    "id": "TNQ_BOPxvzUf"
   },
   "outputs": [],
   "source": [
    "trigram_model = defaultdict(lambda: defaultdict(lambda: 0))\n",
    " \n",
    "for sentence in reuters.sents():\n",
    "    for w1, w2, w3 in trigrams(sentence, pad_right=True, pad_left=True):\n",
    "        trigram_model[(w1, w2)][w3] += 1"
   ]
  },
  {
   "cell_type": "code",
   "execution_count": 20,
   "metadata": {
    "colab": {
     "base_uri": "https://localhost:8080/",
     "height": 68
    },
    "colab_type": "code",
    "id": "-XA5Lmtp6e4b",
    "outputId": "c40c19b2-319e-4386-d257-766b5b57b48e"
   },
   "outputs": [
    {
     "name": "stdout",
     "output_type": "stream",
     "text": [
      "2\n",
      "0\n",
      "8839\n"
     ]
    }
   ],
   "source": [
    "print(trigram_model[\"what\", \"the\"][\"economists\"]) # \"economists\" follows \"what the\" 2 times\n",
    "print(trigram_model[\"what\", \"the\"][\"nonexistingword\"]) # 0 times\n",
    "print(trigram_model[None, None][\"The\"]) # 8839 sentences start with \"The\""
   ]
  },
  {
   "cell_type": "markdown",
   "metadata": {
    "colab_type": "text",
    "id": "K4iefR2y6jw3"
   },
   "source": [
    "\"economists\" follows \"what the\" 2 times\n",
    "\n",
    "\"nonexistingword\" follows \"what the\" 0 times\n",
    "\n",
    "8839 sentences start with \"The\""
   ]
  },
  {
   "cell_type": "code",
   "execution_count": 0,
   "metadata": {
    "colab": {},
    "colab_type": "code",
    "id": "1bZOVuMc6WsW"
   },
   "outputs": [],
   "source": [
    "# Let's transform the counts to probabilities\n",
    "for w1_w2 in trigram_model:\n",
    "    total_count = float(sum(trigram_model[w1_w2].values()))\n",
    "    for w3 in trigram_model[w1_w2]:\n",
    "        trigram_model[w1_w2][w3] /= total_count"
   ]
  },
  {
   "cell_type": "code",
   "execution_count": 22,
   "metadata": {
    "colab": {
     "base_uri": "https://localhost:8080/",
     "height": 68
    },
    "colab_type": "code",
    "id": "yfOrdINy60f2",
    "outputId": "f569070a-332d-4c2b-e3fd-1d14e13dd441"
   },
   "outputs": [
    {
     "name": "stdout",
     "output_type": "stream",
     "text": [
      "0.043478260869565216\n",
      "0.0\n",
      "0.16154324146501936\n"
     ]
    }
   ],
   "source": [
    "print(trigram_model[\"what\", \"the\"][\"economists\"])\n",
    "print(trigram_model[\"what\", \"the\"][\"nonexistingword\"])\n",
    "print(trigram_model[None, None][\"The\"])"
   ]
  },
  {
   "cell_type": "markdown",
   "metadata": {
    "colab_type": "text",
    "id": "zJBqyoRQ7dQY"
   },
   "source": [
    "*Let’s generate some text using Trigram Model*"
   ]
  },
  {
   "cell_type": "code",
   "execution_count": 23,
   "metadata": {
    "colab": {
     "base_uri": "https://localhost:8080/",
     "height": 54
    },
    "colab_type": "code",
    "id": "3mCRceWV7HP9",
    "outputId": "e368f247-e320-4fda-bf93-323550608d6e"
   },
   "outputs": [
    {
     "name": "stdout",
     "output_type": "stream",
     "text": [
      "RETALIATION IN GULF The speaker of the nation ' s alleged failure to agree 1987 / 88 for the broad sterling M3 expanded by just under one percentage point gain , the officials said while the appeal made yesterday by May or July position will be held March Nine to holders of record April One , 1986 of 75 mln tonnes , the delegates said .\n"
     ]
    }
   ],
   "source": [
    "import random \n",
    "text = [None, None]\n",
    "sentence_finished = False\n",
    "while not sentence_finished:\n",
    "    r = random.random()\n",
    "    accumulator = .0\n",
    "    for word in trigram_model[tuple(text[-2:])].keys():\n",
    "        accumulator += trigram_model[tuple(text[-2:])][word]\n",
    "        if accumulator >= r:\n",
    "            text.append(word)\n",
    "            break\n",
    "    if text[-2:] == [None, None]:\n",
    "        sentence_finished = True\n",
    " \n",
    "print(' '.join([t for t in text if t]))"
   ]
  },
  {
   "cell_type": "markdown",
   "metadata": {
    "colab_type": "text",
    "id": "KJAaAb8XsUNy"
   },
   "source": [
    "# Using NLTK Language Model API\n",
    "\n",
    "(https://www.nltk.org/api/nltk.lm.html#module-nltk.lm.api)"
   ]
  },
  {
   "cell_type": "code",
   "execution_count": 0,
   "metadata": {
    "colab": {},
    "colab_type": "code",
    "id": "RNTCoQqIJyM7"
   },
   "outputs": [],
   "source": [
    "from nltk.util import pad_sequence\n",
    "from nltk.util import everygrams\n",
    "from nltk.lm.preprocessing import pad_both_ends\n",
    "from nltk.lm.preprocessing import flatten"
   ]
  },
  {
   "cell_type": "code",
   "execution_count": 0,
   "metadata": {
    "colab": {},
    "colab_type": "code",
    "id": "PXTUaIvlsTXg"
   },
   "outputs": [],
   "source": [
    "from nltk.lm import MLE\n",
    "model = MLE(3) # Lets train a 3-grams model"
   ]
  },
  {
   "cell_type": "code",
   "execution_count": 0,
   "metadata": {
    "colab": {},
    "colab_type": "code",
    "id": "JgxzSihmyiRo"
   },
   "outputs": [],
   "source": [
    "train_data= [list(trigrams(sentence)) for sentence in reuters.sents()]"
   ]
  },
  {
   "cell_type": "code",
   "execution_count": 0,
   "metadata": {
    "colab": {},
    "colab_type": "code",
    "id": "GW34O5w7zUsT"
   },
   "outputs": [],
   "source": [
    "model.fit(text= train_data, vocabulary_text= reuters.words())"
   ]
  },
  {
   "cell_type": "code",
   "execution_count": 28,
   "metadata": {
    "colab": {
     "base_uri": "https://localhost:8080/",
     "height": 34
    },
    "colab_type": "code",
    "id": "g0l_6iRTz2T8",
    "outputId": "dd557dfb-92fa-49cf-9c32-7407cf021ed4"
   },
   "outputs": [
    {
     "name": "stdout",
     "output_type": "stream",
     "text": [
      "<Vocabulary with cutoff=1 unk_label='<UNK>' and 41601 items>\n"
     ]
    }
   ],
   "source": [
    "print(model.vocab)"
   ]
  },
  {
   "cell_type": "code",
   "execution_count": 29,
   "metadata": {
    "colab": {
     "base_uri": "https://localhost:8080/",
     "height": 34
    },
    "colab_type": "code",
    "id": "Oa41TfbwN2dO",
    "outputId": "9356c891-a4b8-4cdc-8c3e-2d4a4a0464bb"
   },
   "outputs": [
    {
     "data": {
      "text/plain": [
       "2"
      ]
     },
     "execution_count": 29,
     "metadata": {
      "tags": []
     },
     "output_type": "execute_result"
    }
   ],
   "source": [
    "model.counts[\"what\", \"the\"][\"economists\"]"
   ]
  },
  {
   "cell_type": "code",
   "execution_count": 30,
   "metadata": {
    "colab": {
     "base_uri": "https://localhost:8080/",
     "height": 34
    },
    "colab_type": "code",
    "id": "DbIes5khOBIY",
    "outputId": "ea263111-85ec-4d7b-e85b-92113e35ae41"
   },
   "outputs": [
    {
     "data": {
      "text/plain": [
       "0.043478260869565216"
      ]
     },
     "execution_count": 30,
     "metadata": {
      "tags": []
     },
     "output_type": "execute_result"
    }
   ],
   "source": [
    "model.score(\"economists\", [\"what\", \"the\"])"
   ]
  },
  {
   "cell_type": "markdown",
   "metadata": {
    "colab_type": "text",
    "id": "HTyepoDHH8a2"
   },
   "source": [
    "*We always represent and compute language model probabilities in log format as log probabilities. Since probabilities are (by definition) less than or equal to\n",
    "1, the more probabilities we multiply together, the smaller the product becomes.\n",
    "Multiplying enough n-grams together would result in numerical underflow. By using log probabilities instead of raw probabilities, we get numbers that are not as small. Adding in log space is equivalent to multiplying in linear space, so we combine log probabilities by adding them.*\n",
    "\n",
    "$p_1 × p_2 × p_3 × p_4 = exp(log \\hspace{0.2cm} p_1 +log\\hspace{0.2cm}p_2 +log\\hspace{0.2cm} p_3 +log\\hspace{0.2cm}p_4)$"
   ]
  },
  {
   "cell_type": "code",
   "execution_count": 31,
   "metadata": {
    "colab": {
     "base_uri": "https://localhost:8080/",
     "height": 34
    },
    "colab_type": "code",
    "id": "od4NJKNTOqgJ",
    "outputId": "b90c385e-e54f-4b55-a692-1022c8639c42"
   },
   "outputs": [
    {
     "data": {
      "text/plain": [
       "-4.523561956057013"
      ]
     },
     "execution_count": 31,
     "metadata": {
      "tags": []
     },
     "output_type": "execute_result"
    }
   ],
   "source": [
    "model.logscore(\"economists\", [\"what\", \"the\"])"
   ]
  },
  {
   "cell_type": "markdown",
   "metadata": {
    "colab_type": "text",
    "id": "0MyCGJSvF4ZE"
   },
   "source": [
    "# Evaluating Language Models"
   ]
  },
  {
   "cell_type": "markdown",
   "metadata": {
    "colab_type": "text",
    "id": "3Js2kcZ6J-ar"
   },
   "source": [
    "In practice we don’t use raw probability as our metric for evaluating language models, but a variant called **perplexity**. The **perplexity** (sometimes called **PP** for short) of a language model on a test set is the inverse probability of the test set, normalized by the number of words.\n",
    "\n",
    "For a test set $W = w_1, w_2 :::w_N$:\n",
    "\n",
    "\n",
    "$ PP(W)= P(w_1, w_2 ... w_N)^-\\frac{1}{N}$\n",
    "\n",
    "$ \\hspace{1.6cm} = \\sqrt[N]{\\frac{1}{P(w_1, w_2 ... w_N)}}$"
   ]
  },
  {
   "cell_type": "code",
   "execution_count": 32,
   "metadata": {
    "colab": {
     "base_uri": "https://localhost:8080/",
     "height": 34
    },
    "colab_type": "code",
    "id": "09euvvw9Pgai",
    "outputId": "a05bc93b-c363-42cf-fb1e-b05afb9029bb"
   },
   "outputs": [
    {
     "data": {
      "text/plain": [
       "54716"
      ]
     },
     "execution_count": 32,
     "metadata": {
      "tags": []
     },
     "output_type": "execute_result"
    }
   ],
   "source": [
    "len(train_data)"
   ]
  },
  {
   "cell_type": "code",
   "execution_count": 33,
   "metadata": {
    "colab": {
     "base_uri": "https://localhost:8080/",
     "height": 34
    },
    "colab_type": "code",
    "id": "Y6vGcYRUF6k2",
    "outputId": "b5805b8e-789d-452f-985f-9f41f5876855"
   },
   "outputs": [
    {
     "data": {
      "text/plain": [
       "inf"
      ]
     },
     "execution_count": 33,
     "metadata": {
      "tags": []
     },
     "output_type": "execute_result"
    }
   ],
   "source": [
    "test= train_data[:700]\n",
    "model.perplexity(test)"
   ]
  },
  {
   "cell_type": "markdown",
   "metadata": {
    "colab_type": "text",
    "id": "U-7wYWsKf707"
   },
   "source": [
    "# Smoothing"
   ]
  },
  {
   "cell_type": "markdown",
   "metadata": {
    "colab_type": "text",
    "id": "Xr9E69l5gHEo"
   },
   "source": [
    "*What do we do with words that are in our vocabulary (they are not unknown words) but appear in a test set in an unseen context (for example they appear after a word they never appeared after in training)? To keep a language model from assigning zero probability to these unseen events, we’ll have to shave off a bit of probability mass from some more frequent events and give it to the events we’ve never seen.*"
   ]
  },
  {
   "cell_type": "markdown",
   "metadata": {
    "colab_type": "text",
    "id": "1oaocU_agRmJ"
   },
   "source": [
    "## Laplace Smoothing"
   ]
  },
  {
   "cell_type": "markdown",
   "metadata": {
    "colab_type": "text",
    "id": "uLSs3s5nhWPm"
   },
   "source": [
    "The simplest way to do smoothing is to add one to all the bigram counts, before\n",
    "we normalize them into probabilities. All the counts that used to be zero will now have a count of 1, the counts of 1 will be 2, and so on. This algorithm is called **Laplace smoothing**.\n",
    "\n",
    "$P_{Laplace}(w_i) = \\frac{c_i + 1}{N + V} $"
   ]
  },
  {
   "cell_type": "code",
   "execution_count": 0,
   "metadata": {
    "colab": {},
    "colab_type": "code",
    "id": "5PXLEP_-f92o"
   },
   "outputs": [],
   "source": [
    "from nltk.lm.models import Laplace\n",
    "smooth_model= Laplace(order= 3)"
   ]
  },
  {
   "cell_type": "code",
   "execution_count": 0,
   "metadata": {
    "colab": {},
    "colab_type": "code",
    "id": "OmQ_TX-Ej0gR"
   },
   "outputs": [],
   "source": [
    "smooth_model.fit(train_data, vocabulary_text= reuters.words())"
   ]
  },
  {
   "cell_type": "markdown",
   "metadata": {
    "colab_type": "text",
    "id": "rfR0sAvAkQnG"
   },
   "source": [
    "**Without Smoothing**"
   ]
  },
  {
   "cell_type": "code",
   "execution_count": 36,
   "metadata": {
    "colab": {
     "base_uri": "https://localhost:8080/",
     "height": 34
    },
    "colab_type": "code",
    "id": "TYAmJiBhj9DW",
    "outputId": "dc6b97c2-e9f1-4e66-e550-fcfa12e09f3a"
   },
   "outputs": [
    {
     "data": {
      "text/plain": [
       "0.0"
      ]
     },
     "execution_count": 36,
     "metadata": {
      "tags": []
     },
     "output_type": "execute_result"
    }
   ],
   "source": [
    "# Out of Vocabulary Word\n",
    "model.score(\"economy\", [\"what\", \"the\"])"
   ]
  },
  {
   "cell_type": "markdown",
   "metadata": {
    "colab_type": "text",
    "id": "c-CgKrsWkWKM"
   },
   "source": [
    "**With Smoothing**"
   ]
  },
  {
   "cell_type": "code",
   "execution_count": 37,
   "metadata": {
    "colab": {
     "base_uri": "https://localhost:8080/",
     "height": 34
    },
    "colab_type": "code",
    "id": "UjgfnboIkMNC",
    "outputId": "1c07f735-ba84-4e3c-95da-00281f15b807"
   },
   "outputs": [
    {
     "data": {
      "text/plain": [
       "2.401133334934089e-05"
      ]
     },
     "execution_count": 37,
     "metadata": {
      "tags": []
     },
     "output_type": "execute_result"
    }
   ],
   "source": [
    "smooth_model.score(\"economy\", [\"what\", \"the\"])"
   ]
  },
  {
   "cell_type": "markdown",
   "metadata": {
    "colab_type": "text",
    "id": "5mCfPoOlnSnl"
   },
   "source": [
    "### Laplace smoothing on our Unigram Model"
   ]
  },
  {
   "cell_type": "code",
   "execution_count": 0,
   "metadata": {
    "colab": {},
    "colab_type": "code",
    "id": "qkZ5NeRwla9f"
   },
   "outputs": [],
   "source": [
    "from collections import Counter\n",
    "# frequency counts of words\n",
    "counts_smooth = Counter(reuters.words())\n",
    "# total number of words\n",
    "N = len(reuters.words())\n",
    "# total number of unique words\n",
    "V= len(counts_smooth)"
   ]
  },
  {
   "cell_type": "code",
   "execution_count": 39,
   "metadata": {
    "colab": {
     "base_uri": "https://localhost:8080/",
     "height": 34
    },
    "colab_type": "code",
    "id": "etpOMMVOolhN",
    "outputId": "fdf3a585-ff78-430b-b126-d82dd2d471e3"
   },
   "outputs": [
    {
     "data": {
      "text/plain": [
       "(41600, 1720901)"
      ]
     },
     "execution_count": 39,
     "metadata": {
      "tags": []
     },
     "output_type": "execute_result"
    }
   ],
   "source": [
    "len(counts_smooth), len(reuters.words())"
   ]
  },
  {
   "cell_type": "code",
   "execution_count": 0,
   "metadata": {
    "colab": {},
    "colab_type": "code",
    "id": "5bKEXOy6oi7G"
   },
   "outputs": [],
   "source": [
    "# Compute the frequencies of words\n",
    "for word in counts_smooth:\n",
    "    counts_smooth[word]= (counts_smooth[word] + 1) / (N + V)"
   ]
  },
  {
   "cell_type": "code",
   "execution_count": 0,
   "metadata": {
    "colab": {},
    "colab_type": "code",
    "id": "j1JmnkUUzeGW"
   },
   "outputs": [],
   "source": [
    "from random import sample\n",
    "random_words= sample(list(counts.keys()), 30)"
   ]
  },
  {
   "cell_type": "code",
   "execution_count": 65,
   "metadata": {
    "colab": {
     "base_uri": "https://localhost:8080/",
     "height": 441
    },
    "colab_type": "code",
    "id": "LsSBdHEjzyYY",
    "outputId": "1c8217a2-cf82-4290-a2aa-72c247f5be15"
   },
   "outputs": [
    {
     "data": {
      "image/png": "[encoded data removed]",
      "text/plain": [
       "<Figure size 1224x432 with 2 Axes>"
      ]
     },
     "metadata": {
      "tags": []
     },
     "output_type": "display_data"
    }
   ],
   "source": [
    "import matplotlib.pyplot as plt\n",
    "import seaborn as sns\n",
    "import pandas as pd\n",
    "plt.figure(figsize= (17, 6))\n",
    "plt.subplot(1, 2, 1)\n",
    "plt.title(\"Without Smoothing\", fontsize= 20)\n",
    "df_1= pd.DataFrame({'Words': random_words, 'prob':[counts[word] for word in random_words]})\n",
    "df_1= df_1.sort_values(by= 'prob', ascending= False)\n",
    "sns.barplot('Words', 'prob', palette=\"Blues_d\", data= df_1,  ci=None)\n",
    "plt.xticks(rotation= 55)\n",
    "plt.subplot(1, 2, 2)\n",
    "plt.title(\"With Smoothing\", fontsize= 20)\n",
    "df_2= pd.DataFrame({'Words': random_words, 'prob':[counts_smooth[word] for word in random_words]})\n",
    "df_2= df_2.sort_values(by= 'prob', ascending= False)\n",
    "sns.barplot('Words', 'prob', palette=\"Blues_d\", data= df_2,  ci=None)\n",
    "plt.xticks(rotation= 55)\n",
    "plt.tight_layout()\n",
    "plt.show()"
   ]
  },
  {
   "cell_type": "markdown",
   "metadata": {
    "colab_type": "text",
    "id": "oAv-OIX6maOo"
   },
   "source": [
    "## Lidstone Smoothing"
   ]
  },
  {
   "cell_type": "markdown",
   "metadata": {
    "colab_type": "text",
    "id": "Vj4x7XtHmaOx"
   },
   "source": [
    "$P_{Lidstone}(w_i) = \\frac{c_i + \\lambda}{N + \\lambda* V} $"
   ]
  },
  {
   "cell_type": "code",
   "execution_count": 0,
   "metadata": {
    "colab": {},
    "colab_type": "code",
    "id": "4bKfiKMYmaOz"
   },
   "outputs": [],
   "source": [
    "from nltk.lm.models import Lidstone\n",
    "smooth_model= Lidstone(order= 3, gamma= 0.01)"
   ]
  },
  {
   "cell_type": "code",
   "execution_count": 0,
   "metadata": {
    "colab": {},
    "colab_type": "code",
    "id": "XKasyMm-maO5"
   },
   "outputs": [],
   "source": [
    "smooth_model.fit(train_data, vocabulary_text= reuters.words())"
   ]
  },
  {
   "cell_type": "markdown",
   "metadata": {
    "colab_type": "text",
    "id": "nPNAECRfmaPB"
   },
   "source": [
    "**Without Smoothing**"
   ]
  },
  {
   "cell_type": "code",
   "execution_count": 45,
   "metadata": {
    "colab": {
     "base_uri": "https://localhost:8080/",
     "height": 34
    },
    "colab_type": "code",
    "id": "qVoIhaBumaPD",
    "outputId": "9dea0ff3-f6ee-4b62-94ae-6fa45befe844"
   },
   "outputs": [
    {
     "data": {
      "text/plain": [
       "0.0"
      ]
     },
     "execution_count": 45,
     "metadata": {
      "tags": []
     },
     "output_type": "execute_result"
    }
   ],
   "source": [
    "# Out of Vocabulary Word\n",
    "model.score(\"economy\", [\"what\", \"the\"])"
   ]
  },
  {
   "cell_type": "markdown",
   "metadata": {
    "colab_type": "text",
    "id": "go2Fl1CcmaPL"
   },
   "source": [
    "**With Smoothing**"
   ]
  },
  {
   "cell_type": "code",
   "execution_count": 46,
   "metadata": {
    "colab": {
     "base_uri": "https://localhost:8080/",
     "height": 34
    },
    "colab_type": "code",
    "id": "a1TbIGnLmaPM",
    "outputId": "6408e01e-d23f-46e8-f6b3-099510b43489"
   },
   "outputs": [
    {
     "data": {
      "text/plain": [
       "2.1644553148200257e-05"
      ]
     },
     "execution_count": 46,
     "metadata": {
      "tags": []
     },
     "output_type": "execute_result"
    }
   ],
   "source": [
    "smooth_model.score(\"economy\", [\"what\", \"the\"])"
   ]
  },
  {
   "cell_type": "markdown",
   "metadata": {
    "colab_type": "text",
    "id": "OUa3Wma14t7A"
   },
   "source": [
    "### Lidstone Smoothing on our unigram model"
   ]
  },
  {
   "cell_type": "code",
   "execution_count": 0,
   "metadata": {
    "colab": {},
    "colab_type": "code",
    "id": "cBJJzmNXJYmG"
   },
   "outputs": [],
   "source": [
    "# Splitting the Data into test/train\n",
    "import random\n",
    "data= list()\n",
    "for sent in reuters.sents():\n",
    "  data.append([tuple([word]) for word in sent])\n",
    "random.seed(42)\n",
    "random.shuffle(data)\n",
    "train = data[:-5471]\n",
    "test= data[-5471:]"
   ]
  },
  {
   "cell_type": "code",
   "execution_count": 48,
   "metadata": {
    "colab": {
     "base_uri": "https://localhost:8080/",
     "height": 34
    },
    "colab_type": "code",
    "id": "TkJY7q0W-yeT",
    "outputId": "de0d3241-4772-4d66-cc98-5580d7c4fe2c"
   },
   "outputs": [
    {
     "data": {
      "text/plain": [
       "(49245, 5471)"
      ]
     },
     "execution_count": 48,
     "metadata": {
      "tags": []
     },
     "output_type": "execute_result"
    }
   ],
   "source": [
    "len(train), len(test)"
   ]
  },
  {
   "cell_type": "code",
   "execution_count": 0,
   "metadata": {
    "colab": {},
    "colab_type": "code",
    "id": "hlsa38gI32BE"
   },
   "outputs": [],
   "source": [
    "from nltk.lm.models import Lidstone\n",
    "model= Lidstone(order= 1, gamma= 0.01)"
   ]
  },
  {
   "cell_type": "code",
   "execution_count": 0,
   "metadata": {
    "colab": {},
    "colab_type": "code",
    "id": "se7BqnAEB2Zz"
   },
   "outputs": [],
   "source": [
    "model.fit(train, vocabulary_text= list(reuters.words()))"
   ]
  },
  {
   "cell_type": "code",
   "execution_count": 51,
   "metadata": {
    "colab": {
     "base_uri": "https://localhost:8080/",
     "height": 34
    },
    "colab_type": "code",
    "id": "uZSjG8auQfg6",
    "outputId": "16db993e-434b-42b8-d37e-03a3a66ffc68"
   },
   "outputs": [
    {
     "data": {
      "text/plain": [
       "41789.006166881605"
      ]
     },
     "execution_count": 51,
     "metadata": {
      "tags": []
     },
     "output_type": "execute_result"
    }
   ],
   "source": [
    "model.perplexity(test)"
   ]
  },
  {
   "cell_type": "markdown",
   "metadata": {
    "colab_type": "text",
    "id": "Eh9jFfDMOJR1"
   },
   "source": [
    "**Tunning part 1 for the value of gamma**"
   ]
  },
  {
   "cell_type": "code",
   "execution_count": 0,
   "metadata": {
    "colab": {},
    "colab_type": "code",
    "id": "zTLx9RzGaYN6"
   },
   "outputs": [],
   "source": [
    "gamma = [0.1, 0.01, 0.001, 0.0001, 0.00001]\n",
    "per= []\n",
    "for g in gamma:\n",
    "  model= Lidstone(order= 1, gamma= g)\n",
    "  model.fit(train, vocabulary_text= list(reuters.words()))\n",
    "  per.append(model.perplexity(test))"
   ]
  },
  {
   "cell_type": "code",
   "execution_count": 67,
   "metadata": {
    "colab": {
     "base_uri": "https://localhost:8080/",
     "height": 102
    },
    "colab_type": "code",
    "id": "NwlF1P-Ye5xy",
    "outputId": "d2a4f3d9-3624-4a8b-89e6-6c4810875506"
   },
   "outputs": [
    {
     "data": {
      "text/plain": [
       "[41736.331337841846,\n",
       " 41789.006166881605,\n",
       " 41841.79728706627,\n",
       " 41894.660091779355,\n",
       " 41947.59018337824]"
      ]
     },
     "execution_count": 67,
     "metadata": {
      "tags": []
     },
     "output_type": "execute_result"
    }
   ],
   "source": [
    "per"
   ]
  },
  {
   "cell_type": "markdown",
   "metadata": {
    "colab_type": "text",
    "id": "Zp59RavremsC"
   },
   "source": [
    "*Based on this we can say that for gamma value 0.1 perplexity is lowest and thus the probability is higgh for 0.1*"
   ]
  },
  {
   "cell_type": "markdown",
   "metadata": {
    "colab_type": "text",
    "id": "gA_DJBALkwic"
   },
   "source": [
    "**Tunning part 2 for the value of gamma**"
   ]
  },
  {
   "cell_type": "code",
   "execution_count": 0,
   "metadata": {
    "colab": {},
    "colab_type": "code",
    "id": "6RLYggM6kwil"
   },
   "outputs": [],
   "source": [
    "gamma = [0.1, 0.2, 0.3, 0.4, 0.5, 0.6]\n",
    "per= []\n",
    "for g in gamma:\n",
    "  model= Lidstone(order= 1, gamma= g)\n",
    "  model.fit(train, vocabulary_text= list(reuters.words()))\n",
    "  per.append(model.perplexity(test))"
   ]
  },
  {
   "cell_type": "code",
   "execution_count": 69,
   "metadata": {
    "colab": {
     "base_uri": "https://localhost:8080/",
     "height": 119
    },
    "colab_type": "code",
    "id": "rJlu5asOZbdi",
    "outputId": "618baa15-f100-4c3e-bd01-779f1f82f6c7"
   },
   "outputs": [
    {
     "data": {
      "text/plain": [
       "[41736.331337841846,\n",
       " 41720.532195416374,\n",
       " 41711.3182813913,\n",
       " 41704.79969242025,\n",
       " 41699.75766533793,\n",
       " 41695.64941613054]"
      ]
     },
     "execution_count": 69,
     "metadata": {
      "tags": []
     },
     "output_type": "execute_result"
    }
   ],
   "source": [
    "per"
   ]
  },
  {
   "cell_type": "markdown",
   "metadata": {
    "colab_type": "text",
    "id": "cx8d0QlWuMlJ"
   },
   "source": [
    "So, We are going to use gamma as 0.6\n",
    "\n",
    "*Now lets calculate Probabilities for using this gamma*"
   ]
  },
  {
   "cell_type": "code",
   "execution_count": 0,
   "metadata": {
    "colab": {},
    "colab_type": "code",
    "id": "BQqeC6W-u6Cg"
   },
   "outputs": [],
   "source": [
    "from collections import Counter\n",
    "# frequency counts of words\n",
    "counts_smooth = Counter(reuters.words())\n",
    "# total number of words\n",
    "N = len(reuters.words())\n",
    "# total number of unique words\n",
    "V= len(counts_smooth)"
   ]
  },
  {
   "cell_type": "code",
   "execution_count": 90,
   "metadata": {
    "colab": {
     "base_uri": "https://localhost:8080/",
     "height": 34
    },
    "colab_type": "code",
    "id": "7lE2nEqZu6Cn",
    "outputId": "5f93ffa5-fded-483b-e30c-37dd4d1b4fb9"
   },
   "outputs": [
    {
     "data": {
      "text/plain": [
       "(41600, 1720901)"
      ]
     },
     "execution_count": 90,
     "metadata": {
      "tags": []
     },
     "output_type": "execute_result"
    }
   ],
   "source": [
    "len(counts_smooth), len(reuters.words())"
   ]
  },
  {
   "cell_type": "code",
   "execution_count": 0,
   "metadata": {
    "colab": {},
    "colab_type": "code",
    "id": "XKz9vmZ2u6Cv"
   },
   "outputs": [],
   "source": [
    "# Compute the frequencies of words\n",
    "gamma= 0.6\n",
    "for word in counts_smooth:\n",
    "    counts_smooth[word]= (counts_smooth[word] + gamma) / (N + (V*gamma))"
   ]
  },
  {
   "cell_type": "code",
   "execution_count": 0,
   "metadata": {
    "colab": {},
    "colab_type": "code",
    "id": "UK2oIdoNu6C6"
   },
   "outputs": [],
   "source": [
    "from random import sample\n",
    "random_words= sample(list(counts.keys()), 30)"
   ]
  },
  {
   "cell_type": "code",
   "execution_count": 95,
   "metadata": {
    "colab": {
     "base_uri": "https://localhost:8080/",
     "height": 441
    },
    "colab_type": "code",
    "id": "rBQYEjtXu6C_",
    "outputId": "63845985-2a0a-4686-c3b6-051085b2e499"
   },
   "outputs": [
    {
     "data": {
      "image/png": "[encoded data removed]",
      "text/plain": [
       "<Figure size 1224x432 with 2 Axes>"
      ]
     },
     "metadata": {
      "tags": []
     },
     "output_type": "display_data"
    }
   ],
   "source": [
    "import matplotlib.pyplot as plt\n",
    "import seaborn as sns\n",
    "import pandas as pd\n",
    "plt.figure(figsize= (17, 6))\n",
    "plt.subplot(1, 2, 1)\n",
    "plt.title(\"Without Smoothing\", fontsize= 20)\n",
    "df_1= pd.DataFrame({'Words': random_words, 'prob':[counts[word] for word in random_words]})\n",
    "df_1= df_1.sort_values(by= 'prob', ascending= False)\n",
    "sns.barplot('Words', 'prob', palette=\"Blues_d\", data= df_1,  ci=None)\n",
    "plt.xticks(rotation= 55)\n",
    "plt.subplot(1, 2, 2)\n",
    "plt.title(\"With Smoothing\", fontsize= 20)\n",
    "df_2= pd.DataFrame({'Words': random_words, 'prob':[counts_smooth[word] for word in random_words]})\n",
    "df_2= df_2.sort_values(by= 'prob', ascending= False)\n",
    "sns.barplot('Words', 'prob', palette=\"Blues_d\", data= df_2,  ci=None)\n",
    "plt.xticks(rotation= 55)\n",
    "plt.tight_layout()\n",
    "plt.show()"
   ]
  },
  {
   "cell_type": "markdown",
   "metadata": {
    "colab_type": "text",
    "id": "HNqOXxpt8B9y"
   },
   "source": [
    "## Back Off and Interpolation"
   ]
  },
  {
   "cell_type": "markdown",
   "metadata": {
    "colab_type": "text",
    "id": "iYSNmj-68rlh"
   },
   "source": [
    "### Simple Linear Interpolation"
   ]
  },
  {
   "cell_type": "markdown",
   "metadata": {
    "colab_type": "text",
    "id": "qCwBtaIk96NH"
   },
   "source": [
    "*In simple linear interpolation, we combine different order n-grams by linearly interpolating all the models. Thus, we estimate the trigram probability\n",
    "by mixing together the unigram, bigram, and trigram probabilities, each weighted\n",
    "by a λ<sub>i</sub>*\n",
    "\n",
    "$\\hat{p}(w_i\\;|\\;w_{i-2},w_{i-1})$\n",
    "\n",
    "$= \\lambda_1 \\times p(w_i\\;|\\;w_{i-2},w_{i-1})$\n",
    "\n",
    "$+ \\lambda_2 \\times p(w_i\\;|\\;w_{i-1})$\n",
    "\n",
    "$+ \\lambda_3 \\times p(w_i)$\n",
    "\n",
    "$\\lambda_1 + \\lambda_2 + \\lambda_3 = 1$ \n",
    " \n",
    "$So, \\lambda_1 = \\lambda_2 = \\lambda_3 = \\frac{1}{3}$\n",
    "\n",
    "For Example:\n",
    "\n",
    "$\\hat{p}(\\textrm{economists | what, the})$\n",
    "\n",
    "$= \\frac{1}{3} \\times p(\\textrm{economists | what, the})$\n",
    "\n",
    "$+ \\frac{1}{3} \\times p(\\textrm{economists | the})$\n",
    "\n",
    "$+ \\frac{1}{3} \\times p(\\textrm{economists})$\n",
    "\n"
   ]
  },
  {
   "cell_type": "code",
   "execution_count": 0,
   "metadata": {
    "colab": {},
    "colab_type": "code",
    "id": "K0IhnPvC_MnW"
   },
   "outputs": [],
   "source": [
    "lambda_i= 1/3"
   ]
  },
  {
   "cell_type": "code",
   "execution_count": 97,
   "metadata": {
    "colab": {
     "base_uri": "https://localhost:8080/",
     "height": 34
    },
    "colab_type": "code",
    "id": "tW5nalII9k2z",
    "outputId": "f2c8a90d-e01a-4bb6-e079-74d38f372faa"
   },
   "outputs": [
    {
     "data": {
      "text/plain": [
       "0.014588118950433989"
      ]
     },
     "execution_count": 97,
     "metadata": {
      "tags": []
     },
     "output_type": "execute_result"
    }
   ],
   "source": [
    "lambda_i * trigram_model[\"what\", \"the\"][\"economists\"] + lambda_i * bigram_model[\"the\"][\"economists\"] + lambda_i * counts[\"economists\"]"
   ]
  },
  {
   "cell_type": "markdown",
   "metadata": {
    "colab_type": "text",
    "id": "xVF_o1OP2sIq"
   },
   "source": [
    "### Lambda Conditional On Context\n",
    "\n",
    "$\\hat{p}(w_i\\;|\\;w_{i-2},w_{i-1})$\n",
    "\n",
    "$= {\\lambda_1}(W_{i-2}^{i-1}) \\times p(w_i\\;|\\;w_{i-2},w_{i-1})$\n",
    "\n",
    "$+ \\lambda_2(W_{i-2}^{i-1}) \\times p(w_i\\;|\\;w_{i-1})$\n",
    "\n",
    "$+ \\lambda_3(W_{i-2}^{i-1}) \\times p(w_i)$"
   ]
  },
  {
   "cell_type": "markdown",
   "metadata": {
    "colab_type": "text",
    "id": "AvJVLz2S4A6E"
   },
   "source": [
    "**Kneser-Ney Smoothing**\n",
    "One of the most commonly used and best performing n-gram smoothing methods is the interpolated Kneser-Ney algorithm"
   ]
  },
  {
   "cell_type": "code",
   "execution_count": 0,
   "metadata": {
    "colab": {},
    "colab_type": "code",
    "id": "XjrEAJzo_Up4"
   },
   "outputs": [],
   "source": [
    "#Interpolated Model with Kneser-Ney Smoothing\n",
    "from nltk.lm.smoothing import KneserNey\n",
    "from nltk.lm.models import InterpolatedLanguageModel\n",
    "model = InterpolatedLanguageModel(order= 3, smoothing_cls= KneserNey)"
   ]
  },
  {
   "cell_type": "code",
   "execution_count": 0,
   "metadata": {
    "colab": {},
    "colab_type": "code",
    "id": "LlOafVPp5juJ"
   },
   "outputs": [],
   "source": [
    "model.fit(text= train_data, vocabulary_text= reuters.words())"
   ]
  },
  {
   "cell_type": "code",
   "execution_count": 100,
   "metadata": {
    "colab": {
     "base_uri": "https://localhost:8080/",
     "height": 34
    },
    "colab_type": "code",
    "id": "Od3Ei2jS5juT",
    "outputId": "95e7e7f7-e9fe-4b07-c4fa-726800a46b7c"
   },
   "outputs": [
    {
     "name": "stdout",
     "output_type": "stream",
     "text": [
      "<Vocabulary with cutoff=1 unk_label='<UNK>' and 41601 items>\n"
     ]
    }
   ],
   "source": [
    "print(model.vocab)"
   ]
  },
  {
   "cell_type": "code",
   "execution_count": 101,
   "metadata": {
    "colab": {
     "base_uri": "https://localhost:8080/",
     "height": 34
    },
    "colab_type": "code",
    "id": "dTxqs2ehbDvH",
    "outputId": "4158d5de-c95f-45c7-ad0b-d69b271dae18"
   },
   "outputs": [
    {
     "data": {
      "text/plain": [
       "<nltk.lm.vocabulary.Vocabulary at 0x7f13be3a32b0>"
      ]
     },
     "execution_count": 101,
     "metadata": {
      "tags": []
     },
     "output_type": "execute_result"
    }
   ],
   "source": [
    "model.vocab"
   ]
  },
  {
   "cell_type": "code",
   "execution_count": 0,
   "metadata": {
    "colab": {},
    "colab_type": "code",
    "id": "gaBORIe3-Dbu"
   },
   "outputs": [],
   "source": [
    "#Interpolated Model with WittenBell Smoothing\n",
    "from nltk.lm.smoothing import WittenBell\n",
    "from nltk.lm.models import InterpolatedLanguageModel\n",
    "model = InterpolatedLanguageModel(order= 3, smoothing_cls= WittenBell)"
   ]
  },
  {
   "cell_type": "code",
   "execution_count": 0,
   "metadata": {
    "colab": {},
    "colab_type": "code",
    "id": "F0ZQl_NB_IUc"
   },
   "outputs": [],
   "source": [
    "model.fit(text= train_data, vocabulary_text= reuters.words())"
   ]
  },
  {
   "cell_type": "code",
   "execution_count": 104,
   "metadata": {
    "colab": {
     "base_uri": "https://localhost:8080/",
     "height": 34
    },
    "colab_type": "code",
    "id": "GqENVDii_IUl",
    "outputId": "2e693f9d-aeb8-4c56-d733-0ad574f152b6"
   },
   "outputs": [
    {
     "name": "stdout",
     "output_type": "stream",
     "text": [
      "<Vocabulary with cutoff=1 unk_label='<UNK>' and 41601 items>\n"
     ]
    }
   ],
   "source": [
    "print(model.vocab)"
   ]
  }
 ],
 "metadata": {
  "colab": {
   "collapsed_sections": [],
   "name": "NGrams.ipynb",
   "provenance": []
  },
  "kernelspec": {
   "display_name": "Python 3",
   "language": "python",
   "name": "python3"
  },
  "language_info": {
   "codemirror_mode": {
    "name": "ipython",
    "version": 3
   },
   "file_extension": ".py",
   "mimetype": "text/x-python",
   "name": "python",
   "nbconvert_exporter": "python",
   "pygments_lexer": "ipython3",
   "version": "3.7.4"
  },
  "toc": {
   "base_numbering": 1,
   "nav_menu": {},
   "number_sections": false,
   "sideBar": true,
   "skip_h1_title": false,
   "title_cell": "Table of Contents",
   "title_sidebar": "Contents",
   "toc_cell": false,
   "toc_position": {},
   "toc_section_display": true,
   "toc_window_display": false
  },
  "varInspector": {
   "cols": {
    "lenName": 16,
    "lenType": 16,
    "lenVar": 40
   },
   "kernels_config": {
    "python": {
     "delete_cmd_postfix": "",
     "delete_cmd_prefix": "del ",
     "library": "var_list.py",
     "varRefreshCmd": "print(var_dic_list())"
    },
    "r": {
     "delete_cmd_postfix": ") ",
     "delete_cmd_prefix": "rm(",
     "library": "var_list.r",
     "varRefreshCmd": "cat(var_dic_list()) "
    }
   },
   "types_to_exclude": [
    "module",
    "function",
    "builtin_function_or_method",
    "instance",
    "_Feature"
   ],
   "window_display": false
  }
 },
 "nbformat": 4,
 "nbformat_minor": 1
}
